{
  "nbformat": 4,
  "nbformat_minor": 0,
  "metadata": {
    "colab": {
      "provenance": [],
      "include_colab_link": true
    },
    "kernelspec": {
      "name": "ir",
      "display_name": "R"
    },
    "language_info": {
      "name": "R"
    }
  },
  "cells": [
    {
      "cell_type": "markdown",
      "metadata": {
        "id": "view-in-github",
        "colab_type": "text"
      },
      "source": [
        "<a href=\"https://colab.research.google.com/github/Benjitaduratames/labo2025v/blob/main/src/rpart/201_ComparandoModelos_01.ipynb\" target=\"_parent\"><img src=\"https://colab.research.google.com/assets/colab-badge.svg\" alt=\"Open In Colab\"/></a>"
      ]
    },
    {
      "cell_type": "markdown",
      "source": [
        "# Comparando Modelos"
      ],
      "metadata": {
        "id": "5DrvzQ9BsXmX"
      }
    },
    {
      "cell_type": "markdown",
      "source": [
        "Estamos en la  Clase 02\n",
        "<br> El objetivo de la materia es lograr la mejor predicción para nuestro probleama, para lo que se probarán pipelines con decenas de alternativas, será indispensable comparar varios modelos predictivos entre sí y decidir cual es el mejor\n",
        "<br> La tarea no es tan sencilla"
      ],
      "metadata": {
        "id": "Y2U9lu16sgta"
      }
    },
    {
      "cell_type": "markdown",
      "source": [
        "## Seteo del ambiente en Google Colab"
      ],
      "metadata": {
        "id": "kmLygy1TYPfg"
      }
    },
    {
      "cell_type": "markdown",
      "source": [
        "Esta parte se debe correr con el runtime en Python3\n",
        "<br>Ir al menu, Runtime -> Change Runtime Tipe -> Runtime type ->  **Python 3**"
      ],
      "metadata": {
        "id": "OikOm5K2YU3X"
      }
    },
    {
      "cell_type": "markdown",
      "source": [
        "Conectar la virtual machine donde esta corriendo Google Colab con el  Google Drive, para poder tener persistencia de archivos"
      ],
      "metadata": {
        "id": "4fmV5LyZdFyI"
      }
    },
    {
      "cell_type": "code",
      "source": [
        "# primero establecer el Runtime de Python 3\n",
        "from google.colab import drive\n",
        "drive.mount('/content/.drive')"
      ],
      "metadata": {
        "id": "ilEZ-bE2VybW",
        "colab": {
          "base_uri": "https://localhost:8080/"
        },
        "outputId": "e7d9b58a-cda3-462f-84f2-0110404bcb1f"
      },
      "execution_count": 1,
      "outputs": [
        {
          "output_type": "stream",
          "name": "stdout",
          "text": [
            "Mounted at /content/.drive\n"
          ]
        }
      ]
    },
    {
      "cell_type": "markdown",
      "source": [
        "Para correr la siguiente celda es fundamental en Arranque en Frio haber copiado el archivo kaggle.json al Google Drive, en la carpeta indicada en el instructivo\n",
        "\n",
        "<br>los siguientes comando estan en shell script de Linux\n",
        "*   Crear las carpetas en el Google Drive\n",
        "*   \"instalar\" el archivo kaggle.json desde el Google Drive a la virtual machine para que pueda ser utilizado por la libreria  kaggle de Python\n",
        "*   Bajar el  **dataset_pequeno**  al  Google Drive  y tambien al disco local de la virtual machine que esta corriendo Google Colab\n",
        "\n"
      ],
      "metadata": {
        "id": "ilaKtqWldeWg"
      }
    },
    {
      "cell_type": "code",
      "source": [
        "%%shell\n",
        "\n",
        "mkdir -p \"/content/.drive/My Drive/labo1\"\n",
        "mkdir -p \"/content/buckets\"\n",
        "ln -s \"/content/.drive/My Drive/labo1\" /content/buckets/b1\n",
        "\n",
        "mkdir -p ~/.kaggle\n",
        "cp /content/buckets/b1/kaggle/kaggle.json  ~/.kaggle\n",
        "chmod 600 ~/.kaggle/kaggle.json\n",
        "\n",
        "\n",
        "mkdir -p /content/buckets/b1/exp\n",
        "mkdir -p /content/buckets/b1/datasets\n",
        "mkdir -p /content/datasets\n",
        "\n",
        "\n",
        "\n",
        "archivo_origen=\"https://storage.googleapis.com/open-courses/austral2025-af91/dataset_pequeno.csv\"\n",
        "archivo_destino=\"/content/datasets/dataset_pequeno.csv\"\n",
        "archivo_destino_bucket=\"/content/buckets/b1/datasets/dataset_pequeno.csv\"\n",
        "\n",
        "if ! test -f $archivo_destino_bucket; then\n",
        "  wget  $archivo_origen  -O $archivo_destino_bucket\n",
        "fi\n",
        "\n",
        "\n",
        "if ! test -f $archivo_destino; then\n",
        "  cp  $archivo_destino_bucket  $archivo_destino\n",
        "fi\n"
      ],
      "metadata": {
        "id": "W8dQFI5QYCFa",
        "colab": {
          "base_uri": "https://localhost:8080/"
        },
        "outputId": "c62cd3cb-9501-4295-a70e-87954eb6e3c2"
      },
      "execution_count": 2,
      "outputs": [
        {
          "output_type": "execute_result",
          "data": {
            "text/plain": []
          },
          "metadata": {},
          "execution_count": 2
        }
      ]
    },
    {
      "cell_type": "markdown",
      "source": [
        "# 1  Particion Training/Testing\n",
        "## Clase 02  Experimento 1"
      ],
      "metadata": {
        "id": "iV32-NeesVp6"
      }
    },
    {
      "cell_type": "markdown",
      "source": [
        "## 1.1  Objetivos\n",
        "Dado que es el primer experimento de la asignatura, acercar a l@s estudiantes las mejores prácticas de operación del ambiente de Google Cloud, realizando una minuciosa demostración en vivo narrando todas las consideraciones pertinentes para evitar accidentes, daños a terceros y a equipos.\n",
        "Dar soporte en el acto a  l@s estudiantes que necesitan ayuda para terminar de configurar el ambiente Google Cloud .\n",
        "<br>Repaso del concepto de  partición de un dataset al azar, estratificada en la clase\n",
        "<br>Dado que es el primer script que se mostrará en vivo a l@s estudiantes,  realizar una visita guiada del  mismo, su estructura y detalles.\n",
        "<br>Repaso del algoritmo Arbol de Decisión sus hiperparámetros, y la implementación con la librería  rpart.  Funciones  rpart::rpart  y rpart::predict\n",
        "<br>Concepto de replicabilidad de los experimentos mediante las semillas de los generadores de secuencias de números pseudoaleatorios.\n",
        "<br>Finalmente, el principal objetivo de este experimento es lograr que l@s estudiantes dimensionen la enorme variabilidad del error de medición de la ganancia de un árbol de decisión al realizar una partición <training, testing>,  contener la sorpresa de los estudiantes, descartar a la simple particion <training, testing> como método,  y construir en conjunto una solucion natural al problema."
      ],
      "metadata": {
        "id": "84Pnj9gVwpXB"
      }
    },
    {
      "cell_type": "markdown",
      "source": [
        "## 1.2 Introduccion"
      ],
      "metadata": {
        "id": "L9Cn0WThw37Y"
      }
    },
    {
      "cell_type": "markdown",
      "source": [
        "![Particiohn Training/Testing](https://storage.googleapis.com/open-courses/austral2025-af91/labo1r/C2_E1_particion.jpg)"
      ],
      "metadata": {
        "id": "ZELZ0R4itUVG"
      }
    },
    {
      "cell_type": "markdown",
      "source": [
        "![Dos tipos de error](https://storage.googleapis.com/open-courses/austral2025-af91/labo1r/C2_E1_target.jpg)"
      ],
      "metadata": {
        "id": "Wtc1ho58xLk-"
      }
    },
    {
      "cell_type": "markdown",
      "source": [
        "## 1.3  Bibliografía\n",
        "\n",
        "Demšar, J. [Statistical comparisons of classifiers over multiple data sets](https://www.jmlr.org/papers/volume7/demsar06a/demsar06a.pdf) J. Mach. Learn. Res. 7, 1–30 (2006).   \n",
        "Starmer, J. [Machine Learning Fundamentals: Cross Validation](https://www.youtube.com/watch?v=fSytzGwwBVw)Machine Learning Fundamentals: Cross Validation, StatQuest with Josh Starmer youtube channel, (2018)\n",
        "Hastie, T.[The elements of statistical learning: data mining, inference, and prediction](https://hastie.su.domains/Papers/ESLII.pdf) , volume 2. Springer, 2009  ( Chapter 7 Model Assessment and Selection )"
      ],
      "metadata": {
        "id": "oRWtRV34xZRT"
      }
    },
    {
      "cell_type": "markdown",
      "source": [
        "## 1.4 Codigo"
      ],
      "metadata": {
        "id": "VcgTQ2-Pyb8q"
      }
    },
    {
      "cell_type": "markdown",
      "source": [
        "Esta parte se debe correr con el runtime en lenguaje **R** Ir al menu, Runtime -> Change Runtime Tipe -> Runtime type -> R"
      ],
      "metadata": {
        "id": "SBXPU-_tabMb"
      }
    },
    {
      "cell_type": "markdown",
      "source": [
        "limpio el ambiente de R"
      ],
      "metadata": {
        "id": "SE94XRhWsxkX"
      }
    },
    {
      "cell_type": "code",
      "source": [
        "# limpio la memoria\n",
        "rm(list=ls(all.names=TRUE)) # remove all objects\n",
        "gc(full=TRUE, verbose=FALSE) # garbage collection"
      ],
      "metadata": {
        "id": "oZG_4br6szlT",
        "colab": {
          "base_uri": "https://localhost:8080/",
          "height": 129
        },
        "outputId": "eb4424c0-3b93-40f3-a6a2-bfbc1c5ec68e"
      },
      "execution_count": 1,
      "outputs": [
        {
          "output_type": "display_data",
          "data": {
            "text/html": [
              "<table class=\"dataframe\">\n",
              "<caption>A matrix: 2 × 6 of type dbl</caption>\n",
              "<thead>\n",
              "\t<tr><th></th><th scope=col>used</th><th scope=col>(Mb)</th><th scope=col>gc trigger</th><th scope=col>(Mb)</th><th scope=col>max used</th><th scope=col>(Mb)</th></tr>\n",
              "</thead>\n",
              "<tbody>\n",
              "\t<tr><th scope=row>Ncells</th><td> 657247</td><td>35.2</td><td>1454454</td><td>77.7</td><td>1367423</td><td>73.1</td></tr>\n",
              "\t<tr><th scope=row>Vcells</th><td>1220276</td><td> 9.4</td><td>8388608</td><td>64.0</td><td>1975128</td><td>15.1</td></tr>\n",
              "</tbody>\n",
              "</table>\n"
            ],
            "text/markdown": "\nA matrix: 2 × 6 of type dbl\n\n| <!--/--> | used | (Mb) | gc trigger | (Mb) | max used | (Mb) |\n|---|---|---|---|---|---|---|\n| Ncells |  657247 | 35.2 | 1454454 | 77.7 | 1367423 | 73.1 |\n| Vcells | 1220276 |  9.4 | 8388608 | 64.0 | 1975128 | 15.1 |\n\n",
            "text/latex": "A matrix: 2 × 6 of type dbl\n\\begin{tabular}{r|llllll}\n  & used & (Mb) & gc trigger & (Mb) & max used & (Mb)\\\\\n\\hline\n\tNcells &  657247 & 35.2 & 1454454 & 77.7 & 1367423 & 73.1\\\\\n\tVcells & 1220276 &  9.4 & 8388608 & 64.0 & 1975128 & 15.1\\\\\n\\end{tabular}\n",
            "text/plain": [
              "       used    (Mb) gc trigger (Mb) max used (Mb)\n",
              "Ncells  657247 35.2 1454454    77.7 1367423  73.1\n",
              "Vcells 1220276  9.4 8388608    64.0 1975128  15.1"
            ]
          },
          "metadata": {}
        }
      ]
    },
    {
      "cell_type": "code",
      "source": [
        "Sys.time()"
      ],
      "metadata": {
        "id": "pJ8SsVA5ssnf",
        "colab": {
          "base_uri": "https://localhost:8080/",
          "height": 35
        },
        "outputId": "e41b913c-90c7-4a5c-9cfb-4153a073945a"
      },
      "execution_count": null,
      "outputs": [
        {
          "output_type": "display_data",
          "data": {
            "text/plain": [
              "[1] \"2025-09-30 23:20:29 UTC\""
            ]
          },
          "metadata": {}
        }
      ]
    },
    {
      "cell_type": "markdown",
      "source": [
        "* Instalacion de la libreria  rpart.plot  para dibujar el arbol\n",
        "* invocacion de las librerias  **data.table** y  **rpart**"
      ],
      "metadata": {
        "id": "3BrrQ47PeEb2"
      }
    },
    {
      "cell_type": "code",
      "source": [
        "# cargo las librerias que necesito\n",
        "require(\"data.table\")\n",
        "require(\"rpart\")\n"
      ],
      "metadata": {
        "id": "SxO-0Ql0khn6",
        "colab": {
          "base_uri": "https://localhost:8080/"
        },
        "outputId": "c5e01a0d-497d-47fc-d252-29e3155d24a9"
      },
      "execution_count": 2,
      "outputs": [
        {
          "output_type": "stream",
          "name": "stderr",
          "text": [
            "Loading required package: data.table\n",
            "\n",
            "Loading required package: rpart\n",
            "\n"
          ]
        }
      ]
    },
    {
      "cell_type": "markdown",
      "source": [
        "###  Accion a Realizar\n",
        "PARAM$semilla  debe tener su primer semilla aleatoria"
      ],
      "metadata": {
        "id": "ZG9fCnZh3bWV"
      }
    },
    {
      "cell_type": "code",
      "source": [
        "PARAM <- list()\n",
        "PARAM$semilla <- 182821  # aqui debe ir su primer semilla\n",
        "PARAM$training_pct <- 70L  # entre  1L y 99L\n",
        "\n",
        "PARAM$rpart <- list (\n",
        "  \"cp\" = -1, # complejidad minima\n",
        "  \"minsplit\" = 170, # minima cantidad de regs en un nodo para hacer el split\n",
        "  \"minbucket\" = 70, # minima cantidad de regs en una hoja\n",
        "  \"maxdepth\" = 7 # profundidad máxima del arbol\n",
        ")\n"
      ],
      "metadata": {
        "id": "0nx5_OcE3Y9c"
      },
      "execution_count": 3,
      "outputs": []
    },
    {
      "cell_type": "code",
      "source": [
        "# particionar agrega una columna llamada fold a un dataset\n",
        "#  que consiste en una particion estratificada segun agrupa\n",
        "\n",
        "# particionar( data=dataset, division=c(70,30),\n",
        "#  agrupa=clase_ternaria, seed=semilla)   crea una particion 70, 30\n",
        "\n",
        "particionar <- function(\n",
        "    data, division, agrupa = \"\",\n",
        "    campo = \"fold\", start = 1, seed = NA) {\n",
        "  if (!is.na(seed)) set.seed(seed)\n",
        "\n",
        "  bloque <- unlist(mapply(function(x, y) {\n",
        "    rep(y, x)\n",
        "  }, division, seq(from = start, length.out = length(division))))\n",
        "\n",
        "  data[, (campo) := sample(rep(bloque, ceiling(.N / length(bloque))))[1:.N],\n",
        "    by = agrupa\n",
        "  ]\n",
        "}\n"
      ],
      "metadata": {
        "id": "8HLE9Dx80gjH"
      },
      "execution_count": 4,
      "outputs": []
    },
    {
      "cell_type": "code",
      "source": [
        "# carpeta de trabajo\n",
        "setwd(\"/content/buckets/b1/exp\")\n",
        "experimento <- \"exp201\"\n",
        "dir.create(experimento, showWarnings=FALSE)\n",
        "setwd( paste0(\"/content/buckets/b1/exp/\", experimento ))"
      ],
      "metadata": {
        "id": "sC4_nqcm0nUs"
      },
      "execution_count": 5,
      "outputs": []
    },
    {
      "cell_type": "code",
      "source": [
        "# lectura del dataset\n",
        "dataset <- fread(\"/content/datasets/dataset_pequeno.csv\")\n",
        "\n",
        "# trabajo solo con los datos con clase, es decir 202107\n",
        "dataset <- dataset[clase_ternaria != \"\"]"
      ],
      "metadata": {
        "id": "6yIEsZOw07q8"
      },
      "execution_count": 6,
      "outputs": []
    },
    {
      "cell_type": "code",
      "source": [
        "# particiono estratificadamente el dataset 70%, 30%\n",
        "particionar(dataset,\n",
        "  division = c(PARAM$training_pct, 100L -PARAM$training_pct),\n",
        "  agrupa = \"clase_ternaria\",\n",
        "  seed = PARAM$semilla # aqui se usa SU semilla\n",
        ")\n",
        "\n"
      ],
      "metadata": {
        "id": "FAO1Hhd52b5d"
      },
      "execution_count": 7,
      "outputs": []
    },
    {
      "cell_type": "code",
      "source": [
        "# genero el modelo\n",
        "# quiero predecir clase_ternaria a partir del resto\n",
        "# fold==1  es training,  el 70% de los datos\n",
        "modelo <- rpart(\"clase_ternaria ~ .\",\n",
        "  data = dataset[fold == 1],  # fold==1  es training, el 70% de los datos\n",
        "  xval = 0,\n",
        "  control = PARAM$rpart # aqui van los parametros\n",
        ")\n"
      ],
      "metadata": {
        "id": "s3UnHSLP2gN6"
      },
      "execution_count": 8,
      "outputs": []
    },
    {
      "cell_type": "code",
      "source": [
        "# aplico el modelo a los datos de testing\n",
        "prediccion <- predict(modelo, # el modelo que genere recien\n",
        "  dataset[fold == 2], # fold==2  es testing, el 30% de los datos\n",
        "  type = \"prob\"\n",
        ") # type= \"prob\"  es que devuelva la probabilidad\n"
      ],
      "metadata": {
        "id": "paQphV4A2jGz"
      },
      "execution_count": 9,
      "outputs": []
    },
    {
      "cell_type": "code",
      "source": [
        "tb_prediccion <- as.data.table(list(\n",
        "  \"clase_ternaria\"=dataset[fold == 2, clase_ternaria],\n",
        "  \"prob\"=prediccion[, \"BAJA+2\"]\n",
        "))"
      ],
      "metadata": {
        "id": "fuLZ75pA29dT"
      },
      "execution_count": 10,
      "outputs": []
    },
    {
      "cell_type": "code",
      "source": [
        "# calculo la ganancia de cada registro\n",
        "tb_prediccion[, ganancia := ifelse(clase_ternaria == \"BAJA+2\", 117000, -3000)]"
      ],
      "metadata": {
        "id": "LuG6ql_t3kOI"
      },
      "execution_count": 11,
      "outputs": []
    },
    {
      "cell_type": "code",
      "source": [
        "# calculo la clase\n",
        "tb_prediccion[, Predicted := prob > (1/40) ]"
      ],
      "metadata": {
        "id": "xJ3WTMez3leO"
      },
      "execution_count": 12,
      "outputs": []
    },
    {
      "cell_type": "code",
      "source": [
        "ganancia_test <-  tb_prediccion[ Predicted==TRUE,  sum(ganancia)]"
      ],
      "metadata": {
        "id": "cFQPacen4Wq6"
      },
      "execution_count": 13,
      "outputs": []
    },
    {
      "cell_type": "code",
      "source": [
        "# normalizo la ganancia\n",
        "ganancia_test_normalizada <- ganancia_test / (( 100 - PARAM$training_pct ) / 100 )"
      ],
      "metadata": {
        "id": "dHjz0zhN4-nZ"
      },
      "execution_count": 14,
      "outputs": []
    },
    {
      "cell_type": "code",
      "source": [
        "estimulos <- tb_prediccion[ Predicted==TRUE, .N]\n",
        "aciertos <- tb_prediccion[ Predicted & clase_ternaria == \"BAJA+2\", .N]\n"
      ],
      "metadata": {
        "id": "D7RUdTb95F6B"
      },
      "execution_count": 15,
      "outputs": []
    },
    {
      "cell_type": "code",
      "source": [
        "# Resultado Final\n",
        "cat(\"Testing total: \", dataset[fold == 2, .N], \"\\n\")\n",
        "cat(\"Testing BAJA+2: \", dataset[fold == 2 & clase_ternaria == \"BAJA+2\", .N], \"\\n\")\n",
        "\n",
        "cat(\"Estimulos: \", estimulos, \"\\n\")\n",
        "cat(\"Aciertos (BAJA+2): \", aciertos, \"\\n\")\n",
        "\n",
        "cat(\"Ganancia en testing (normalizada): \", ganancia_test_normalizada, \"\\n\")\n"
      ],
      "metadata": {
        "id": "Lu1KM6fy5U7h",
        "colab": {
          "base_uri": "https://localhost:8080/"
        },
        "outputId": "771a9110-407d-4f7f-d1ab-ab550ce0c138"
      },
      "execution_count": 16,
      "outputs": [
        {
          "output_type": "stream",
          "name": "stdout",
          "text": [
            "Testing total:  49373 \n",
            "Testing BAJA+2:  369 \n",
            "Estimulos:  3800 \n",
            "Aciertos (BAJA+2):  209 \n",
            "Ganancia en testing (normalizada):  45600000 \n"
          ]
        }
      ]
    },
    {
      "cell_type": "markdown",
      "source": [
        "### Acciones a realizar\n",
        "* Reportar la  *Ganancia en testing (normalizada)* <br> en la planilla colaborativa hoja  **C2-1sem**\n",
        "* Se discutirá en clase la variabilidad de las ganancias obtenidas de distintos alumnos"
      ],
      "metadata": {
        "id": "kHs-YoFB5rUa"
      }
    },
    {
      "cell_type": "markdown",
      "source": [
        "\n",
        "\n",
        "---\n",
        "\n"
      ],
      "metadata": {
        "id": "LBl_eIeO7WuM"
      }
    },
    {
      "cell_type": "markdown",
      "source": [
        "# 2  Medición Monte Carlo Cross Validation\n",
        "## Clase 02  Experimento 2"
      ],
      "metadata": {
        "id": "h43UCq9y7UlT"
      }
    },
    {
      "cell_type": "markdown",
      "source": [
        "## 2.1  Objetivos\n",
        "Mostrar el funcionamiento de la Montecarlo Cross Validation y que l@s estudiantes aprecien la disminución de la varianza de dicha metodología.\n",
        "Relación con el Teorema Central del Límite"
      ],
      "metadata": {
        "id": "wHPchGXK80VU"
      }
    },
    {
      "cell_type": "markdown",
      "source": [
        "## 2.2 Introduccion\n",
        "\n",
        "![Montecarlo](https://storage.googleapis.com/open-courses/austral2025-af91/labo1r/C2_E2_montecarlo.jpg)\n",
        "\n",
        "![Curva normal](https://storage.googleapis.com/open-courses/austral2025-af91/labo1r/C2_E2_normal.jpg)\n",
        "\n",
        "![Teorema Central del Limite](https://storage.googleapis.com/open-courses/austral2025-af91/labo1r/C2_E2_teoremacentralLimite.jpg)\n",
        "\n"
      ],
      "metadata": {
        "id": "g6YzACxl9DzS"
      }
    },
    {
      "cell_type": "markdown",
      "source": [],
      "metadata": {
        "id": "7laod2t4ArsH"
      }
    },
    {
      "cell_type": "markdown",
      "source": [
        "## 2.3  Bibliografía\n",
        "\n",
        "Demšar, J. [Statistical comparisons of classifiers over multiple data sets](https://www.jmlr.org/papers/volume7/demsar06a/demsar06a.pdf) J. Mach. Learn. Res. 7, 1–30 (2006).   \n",
        "Starmer, J. [Machine Learning Fundamentals: Cross Validation](https://www.youtube.com/watch?v=fSytzGwwBVw)Machine Learning Fundamentals: Cross Validation, StatQuest with Josh Starmer youtube channel, (2018)\n",
        "Hastie, T.[The elements of statistical learning: data mining, inference, and prediction](https://hastie.su.domains/Papers/ESLII.pdf) , volume 2. Springer, 2009  ( Chapter 7 Model Assessment and Selection )"
      ],
      "metadata": {
        "id": "lFcJeRAkAr-q"
      }
    },
    {
      "cell_type": "code",
      "source": [],
      "metadata": {
        "id": "KXSuYXQ26cLV"
      },
      "execution_count": null,
      "outputs": []
    },
    {
      "cell_type": "markdown",
      "source": [
        "## 2.4 Codigo  Montecarlo"
      ],
      "metadata": {
        "id": "0ztZzYolA2WK"
      }
    },
    {
      "cell_type": "markdown",
      "source": [
        "El código de la Montecarlo Cross Validation es notablemente más complejo que el anterior de una simple partición training/testing\n",
        "<br> Se crea la funcion ArbolEstimarGanancia()  que dada una semilla realiza la partición  training/testing, entrena en training, aplica el modelo a testing, y se calculan las ganancias\n",
        "<br> Se utiliza la funcion **mcmapply**  de R para aplicar ArbolEstimarGanancia a todos los elementos del vector de semillas"
      ],
      "metadata": {
        "id": "KLa06ZsiC-Oz"
      }
    },
    {
      "cell_type": "markdown",
      "source": [
        "Esta parte se debe correr con el runtime en lenguaje **R** Ir al menu, Runtime -> Change Runtime Tipe -> Runtime type -> R"
      ],
      "metadata": {
        "id": "ivFiBBOQA2Ws"
      }
    },
    {
      "cell_type": "markdown",
      "source": [
        "limpio el ambiente de R"
      ],
      "metadata": {
        "id": "TMSAQDXuA2Ws"
      }
    },
    {
      "cell_type": "code",
      "source": [
        "# limpio la memoria\n",
        "rm(list=ls(all.names=TRUE)) # remove all objects\n",
        "gc(full=TRUE, verbose=FALSE) # garbage collection"
      ],
      "metadata": {
        "id": "eakzb8y2A2Wt",
        "colab": {
          "base_uri": "https://localhost:8080/",
          "height": 129
        },
        "outputId": "9db8e96c-2682-4a1e-f48e-35ea6e12e514"
      },
      "execution_count": null,
      "outputs": [
        {
          "output_type": "display_data",
          "data": {
            "text/html": [
              "<table class=\"dataframe\">\n",
              "<caption>A matrix: 2 × 6 of type dbl</caption>\n",
              "<thead>\n",
              "\t<tr><th></th><th scope=col>used</th><th scope=col>(Mb)</th><th scope=col>gc trigger</th><th scope=col>(Mb)</th><th scope=col>max used</th><th scope=col>(Mb)</th></tr>\n",
              "</thead>\n",
              "<tbody>\n",
              "\t<tr><th scope=row>Ncells</th><td> 744333</td><td>39.8</td><td> 1454454</td><td> 77.7</td><td>  1454454</td><td> 77.7</td></tr>\n",
              "\t<tr><th scope=row>Vcells</th><td>1411614</td><td>10.8</td><td>84906080</td><td>647.8</td><td>104048951</td><td>793.9</td></tr>\n",
              "</tbody>\n",
              "</table>\n"
            ],
            "text/markdown": "\nA matrix: 2 × 6 of type dbl\n\n| <!--/--> | used | (Mb) | gc trigger | (Mb) | max used | (Mb) |\n|---|---|---|---|---|---|---|\n| Ncells |  744333 | 39.8 |  1454454 |  77.7 |   1454454 |  77.7 |\n| Vcells | 1411614 | 10.8 | 84906080 | 647.8 | 104048951 | 793.9 |\n\n",
            "text/latex": "A matrix: 2 × 6 of type dbl\n\\begin{tabular}{r|llllll}\n  & used & (Mb) & gc trigger & (Mb) & max used & (Mb)\\\\\n\\hline\n\tNcells &  744333 & 39.8 &  1454454 &  77.7 &   1454454 &  77.7\\\\\n\tVcells & 1411614 & 10.8 & 84906080 & 647.8 & 104048951 & 793.9\\\\\n\\end{tabular}\n",
            "text/plain": [
              "       used    (Mb) gc trigger (Mb)  max used  (Mb) \n",
              "Ncells  744333 39.8  1454454    77.7   1454454  77.7\n",
              "Vcells 1411614 10.8 84906080   647.8 104048951 793.9"
            ]
          },
          "metadata": {}
        }
      ]
    },
    {
      "cell_type": "markdown",
      "source": [
        "* Instalacion de la libreria  rpart.plot  para dibujar el arbol\n",
        "* invocacion de las librerias  **data.table** y  **rpart**"
      ],
      "metadata": {
        "id": "559RkeYZA2Wv"
      }
    },
    {
      "cell_type": "code",
      "source": [
        "# cargo las librerias que necesito\n",
        "require(\"data.table\")\n",
        "require(\"rpart\")\n",
        "require(\"parallel\")"
      ],
      "metadata": {
        "id": "yf_S_HlsA2Wv",
        "colab": {
          "base_uri": "https://localhost:8080/"
        },
        "outputId": "06760fde-6c43-46c8-ca42-fa3e34853716"
      },
      "execution_count": null,
      "outputs": [
        {
          "output_type": "stream",
          "name": "stderr",
          "text": [
            "Loading required package: parallel\n",
            "\n"
          ]
        }
      ]
    },
    {
      "cell_type": "markdown",
      "source": [
        "###  Accion a Realizar\n",
        "PARAM$semillas  debe tener sus cinco semillas aleatorias"
      ],
      "metadata": {
        "id": "a4oz2ulCA2Ww"
      }
    },
    {
      "cell_type": "code",
      "source": [
        "PARAM <- list()\n",
        "PARAM$semillas <- c(182821, 499117, 615479, 728027, 914117)  # aqui debe ir sus CINCO\n",
        "PARAM$training_pct <- 70L  # entre  1L y 99L\n",
        "\n",
        "PARAM$rpart <- list (\n",
        "  \"cp\" = -1, # complejidad minima\n",
        "  \"minsplit\" = 170, # minima cantidad de regs en un nodo para hacer el split\n",
        "  \"minbucket\" = 70, # minima cantidad de regs en una hoja\n",
        "  \"maxdepth\" = 7 # profundidad máxima del arbol\n",
        ")\n"
      ],
      "metadata": {
        "id": "yQ2OAP5AA2Wx"
      },
      "execution_count": null,
      "outputs": []
    },
    {
      "cell_type": "code",
      "source": [
        "# particionar agrega una columna llamada fold a un dataset\n",
        "#  que consiste en una particion estratificada segun agrupa\n",
        "\n",
        "# particionar( data=dataset, division=c(70,30),\n",
        "#  agrupa=clase_ternaria, seed=semilla)   crea una particion 70, 30\n",
        "\n",
        "particionar <- function(\n",
        "    data, division, agrupa = \"\",\n",
        "    campo = \"fold\", start = 1, seed = NA) {\n",
        "  if (!is.na(seed)) set.seed(seed)\n",
        "\n",
        "  bloque <- unlist(mapply(function(x, y) {\n",
        "    rep(y, x)\n",
        "  }, division, seq(from = start, length.out = length(division))))\n",
        "\n",
        "  data[, (campo) := sample(rep(bloque, ceiling(.N / length(bloque))))[1:.N],\n",
        "    by = agrupa\n",
        "  ]\n",
        "}\n"
      ],
      "metadata": {
        "id": "97dMCVJWA2Wy"
      },
      "execution_count": null,
      "outputs": []
    },
    {
      "cell_type": "code",
      "source": [
        "\n",
        "ArbolEstimarGanancia <- function(semilla, param_basicos) {\n",
        "  # particiono estratificadamente el dataset\n",
        "  particionar(dataset,\n",
        "    division = c(param_basicos$training_pct, 100L -param_basicos$training_pct),\n",
        "    agrupa = \"clase_ternaria\",\n",
        "    seed = semilla # aqui se usa SU semilla\n",
        "  )\n",
        "\n",
        "  # genero el modelo\n",
        "  # predecir clase_ternaria a partir del resto\n",
        "  modelo <- rpart(\"clase_ternaria ~ .\",\n",
        "    data = dataset[fold == 1], # fold==1  es training,  el 70% de los datos\n",
        "    xval = 0,\n",
        "    control = param_basicos$rpart\n",
        "  ) # aqui van los parametros del arbol\n",
        "\n",
        "  # aplico el modelo a los datos de testing\n",
        "  prediccion <- predict(modelo, # el modelo que genere recien\n",
        "    dataset[fold == 2], # fold==2  es testing, el 30% de los datos\n",
        "    type = \"prob\"\n",
        "  ) # type= \"prob\"  es que devuelva la probabilidad\n",
        "\n",
        "  # prediccion es una matriz con TRES columnas,\n",
        "  #  llamadas \"BAJA+1\", \"BAJA+2\"  y \"CONTINUA\"\n",
        "  # cada columna es el vector de probabilidades\n",
        "\n",
        "\n",
        "  # calculo la ganancia en testing  qu es fold==2\n",
        "  ganancia_test <- dataset[\n",
        "    fold == 2,\n",
        "    sum(ifelse(prediccion[, \"BAJA+2\"] > 0.025,\n",
        "      ifelse(clase_ternaria == \"BAJA+2\", 117000, -3000),\n",
        "      0\n",
        "    ))\n",
        "  ]\n",
        "\n",
        "  # escalo la ganancia como si fuera todo el dataset\n",
        "  ganancia_test_normalizada <- ganancia_test / (( 100 - PARAM$training_pct ) / 100 )\n",
        "\n",
        "  return(list(\n",
        "    \"semilla\" = semilla,\n",
        "    \"testing\" = dataset[fold == 2, .N],\n",
        "    \"testing_pos\" = dataset[fold == 2 & clase_ternaria == \"BAJA+2\", .N],\n",
        "    \"envios\" = dataset[fold == 2, sum(prediccion[, \"BAJA+2\"] > 0.025)],\n",
        "    \"aciertos\" = dataset[\n",
        "        fold == 2,\n",
        "        sum(prediccion[, \"BAJA+2\"] > 0.025 & clase_ternaria == \"BAJA+2\")\n",
        "    ],\n",
        "    \"ganancia_test\" = ganancia_test_normalizada\n",
        "  ))\n",
        "}\n"
      ],
      "metadata": {
        "id": "GroZSZoVBuZ5"
      },
      "execution_count": null,
      "outputs": []
    },
    {
      "cell_type": "code",
      "source": [
        "# carpeta de trabajo\n",
        "setwd(\"/content/buckets/b1/exp\")\n",
        "experimento <- \"exp202\"\n",
        "dir.create(experimento, showWarnings=FALSE)\n",
        "setwd( paste0(\"/content/buckets/b1/exp/\", experimento ))"
      ],
      "metadata": {
        "id": "dJIBIX6kA2Wy"
      },
      "execution_count": null,
      "outputs": []
    },
    {
      "cell_type": "code",
      "source": [
        "# lectura del dataset\n",
        "dataset <- fread(\"/content/datasets/dataset_pequeno.csv\")\n",
        "\n",
        "# trabajo solo con los datos con clase, es decir 202107\n",
        "dataset <- dataset[clase_ternaria != \"\"]"
      ],
      "metadata": {
        "id": "tKiACdU2A2Wz"
      },
      "execution_count": null,
      "outputs": []
    },
    {
      "cell_type": "code",
      "source": [
        "\n",
        "# la funcion mcmapply  llama a la funcion ArbolEstimarGanancia\n",
        "#  tantas veces como valores tenga el vector  PARAM$semillas\n",
        "salidas <- mcmapply(ArbolEstimarGanancia,\n",
        "  PARAM$semillas, # paso el vector de semillas\n",
        "  MoreArgs = list(PARAM), # aqui paso el segundo parametro\n",
        "  SIMPLIFY = FALSE,\n",
        "  mc.cores = detectCores()\n",
        ")\n",
        "\n",
        "# muestro la lista de las salidas en testing\n",
        "#  para la particion realizada con cada semilla\n",
        "salidas\n"
      ],
      "metadata": {
        "id": "64OdfeyxCMDF",
        "colab": {
          "base_uri": "https://localhost:8080/",
          "height": 1000
        },
        "outputId": "0ee25397-2391-4c80-b426-0ff060752b1a"
      },
      "execution_count": null,
      "outputs": [
        {
          "output_type": "display_data",
          "data": {
            "text/html": [
              "<ol>\n",
              "\t<li><dl>\n",
              "\t<dt>$semilla</dt>\n",
              "\t\t<dd>182821</dd>\n",
              "\t<dt>$testing</dt>\n",
              "\t\t<dd>49373</dd>\n",
              "\t<dt>$testing_pos</dt>\n",
              "\t\t<dd>369</dd>\n",
              "\t<dt>$envios</dt>\n",
              "\t\t<dd>3800</dd>\n",
              "\t<dt>$aciertos</dt>\n",
              "\t\t<dd>209</dd>\n",
              "\t<dt>$ganancia_test</dt>\n",
              "\t\t<dd>45600000</dd>\n",
              "</dl>\n",
              "</li>\n",
              "\t<li><dl>\n",
              "\t<dt>$semilla</dt>\n",
              "\t\t<dd>499117</dd>\n",
              "\t<dt>$testing</dt>\n",
              "\t\t<dd>49380</dd>\n",
              "\t<dt>$testing_pos</dt>\n",
              "\t\t<dd>375</dd>\n",
              "\t<dt>$envios</dt>\n",
              "\t\t<dd>3835</dd>\n",
              "\t<dt>$aciertos</dt>\n",
              "\t\t<dd>228</dd>\n",
              "\t<dt>$ganancia_test</dt>\n",
              "\t\t<dd>52850000</dd>\n",
              "</dl>\n",
              "</li>\n",
              "\t<li><dl>\n",
              "\t<dt>$semilla</dt>\n",
              "\t\t<dd>615479</dd>\n",
              "\t<dt>$testing</dt>\n",
              "\t\t<dd>49365</dd>\n",
              "\t<dt>$testing_pos</dt>\n",
              "\t\t<dd>367</dd>\n",
              "\t<dt>$envios</dt>\n",
              "\t\t<dd>3367</dd>\n",
              "\t<dt>$aciertos</dt>\n",
              "\t\t<dd>186</dd>\n",
              "\t<dt>$ganancia_test</dt>\n",
              "\t\t<dd>40730000</dd>\n",
              "</dl>\n",
              "</li>\n",
              "\t<li><dl>\n",
              "\t<dt>$semilla</dt>\n",
              "\t\t<dd>728027</dd>\n",
              "\t<dt>$testing</dt>\n",
              "\t\t<dd>49369</dd>\n",
              "\t<dt>$testing_pos</dt>\n",
              "\t\t<dd>370</dd>\n",
              "\t<dt>$envios</dt>\n",
              "\t\t<dd>3716</dd>\n",
              "\t<dt>$aciertos</dt>\n",
              "\t\t<dd>227</dd>\n",
              "\t<dt>$ganancia_test</dt>\n",
              "\t\t<dd>53640000</dd>\n",
              "</dl>\n",
              "</li>\n",
              "\t<li><dl>\n",
              "\t<dt>$semilla</dt>\n",
              "\t\t<dd>914117</dd>\n",
              "\t<dt>$testing</dt>\n",
              "\t\t<dd>49381</dd>\n",
              "\t<dt>$testing_pos</dt>\n",
              "\t\t<dd>381</dd>\n",
              "\t<dt>$envios</dt>\n",
              "\t\t<dd>3225</dd>\n",
              "\t<dt>$aciertos</dt>\n",
              "\t\t<dd>221</dd>\n",
              "\t<dt>$ganancia_test</dt>\n",
              "\t\t<dd>56150000</dd>\n",
              "</dl>\n",
              "</li>\n",
              "</ol>\n"
            ],
            "text/markdown": "1. $semilla\n:   182821\n$testing\n:   49373\n$testing_pos\n:   369\n$envios\n:   3800\n$aciertos\n:   209\n$ganancia_test\n:   45600000\n\n\n\n2. $semilla\n:   499117\n$testing\n:   49380\n$testing_pos\n:   375\n$envios\n:   3835\n$aciertos\n:   228\n$ganancia_test\n:   52850000\n\n\n\n3. $semilla\n:   615479\n$testing\n:   49365\n$testing_pos\n:   367\n$envios\n:   3367\n$aciertos\n:   186\n$ganancia_test\n:   40730000\n\n\n\n4. $semilla\n:   728027\n$testing\n:   49369\n$testing_pos\n:   370\n$envios\n:   3716\n$aciertos\n:   227\n$ganancia_test\n:   53640000\n\n\n\n5. $semilla\n:   914117\n$testing\n:   49381\n$testing_pos\n:   381\n$envios\n:   3225\n$aciertos\n:   221\n$ganancia_test\n:   56150000\n\n\n\n\n\n",
            "text/latex": "\\begin{enumerate}\n\\item \\begin{description}\n\\item[\\$semilla] 182821\n\\item[\\$testing] 49373\n\\item[\\$testing\\_pos] 369\n\\item[\\$envios] 3800\n\\item[\\$aciertos] 209\n\\item[\\$ganancia\\_test] 45600000\n\\end{description}\n\n\\item \\begin{description}\n\\item[\\$semilla] 499117\n\\item[\\$testing] 49380\n\\item[\\$testing\\_pos] 375\n\\item[\\$envios] 3835\n\\item[\\$aciertos] 228\n\\item[\\$ganancia\\_test] 52850000\n\\end{description}\n\n\\item \\begin{description}\n\\item[\\$semilla] 615479\n\\item[\\$testing] 49365\n\\item[\\$testing\\_pos] 367\n\\item[\\$envios] 3367\n\\item[\\$aciertos] 186\n\\item[\\$ganancia\\_test] 40730000\n\\end{description}\n\n\\item \\begin{description}\n\\item[\\$semilla] 728027\n\\item[\\$testing] 49369\n\\item[\\$testing\\_pos] 370\n\\item[\\$envios] 3716\n\\item[\\$aciertos] 227\n\\item[\\$ganancia\\_test] 53640000\n\\end{description}\n\n\\item \\begin{description}\n\\item[\\$semilla] 914117\n\\item[\\$testing] 49381\n\\item[\\$testing\\_pos] 381\n\\item[\\$envios] 3225\n\\item[\\$aciertos] 221\n\\item[\\$ganancia\\_test] 56150000\n\\end{description}\n\n\\end{enumerate}\n",
            "text/plain": [
              "[[1]]\n",
              "[[1]]$semilla\n",
              "[1] 182821\n",
              "\n",
              "[[1]]$testing\n",
              "[1] 49373\n",
              "\n",
              "[[1]]$testing_pos\n",
              "[1] 369\n",
              "\n",
              "[[1]]$envios\n",
              "[1] 3800\n",
              "\n",
              "[[1]]$aciertos\n",
              "[1] 209\n",
              "\n",
              "[[1]]$ganancia_test\n",
              "[1] 45600000\n",
              "\n",
              "\n",
              "[[2]]\n",
              "[[2]]$semilla\n",
              "[1] 499117\n",
              "\n",
              "[[2]]$testing\n",
              "[1] 49380\n",
              "\n",
              "[[2]]$testing_pos\n",
              "[1] 375\n",
              "\n",
              "[[2]]$envios\n",
              "[1] 3835\n",
              "\n",
              "[[2]]$aciertos\n",
              "[1] 228\n",
              "\n",
              "[[2]]$ganancia_test\n",
              "[1] 52850000\n",
              "\n",
              "\n",
              "[[3]]\n",
              "[[3]]$semilla\n",
              "[1] 615479\n",
              "\n",
              "[[3]]$testing\n",
              "[1] 49365\n",
              "\n",
              "[[3]]$testing_pos\n",
              "[1] 367\n",
              "\n",
              "[[3]]$envios\n",
              "[1] 3367\n",
              "\n",
              "[[3]]$aciertos\n",
              "[1] 186\n",
              "\n",
              "[[3]]$ganancia_test\n",
              "[1] 40730000\n",
              "\n",
              "\n",
              "[[4]]\n",
              "[[4]]$semilla\n",
              "[1] 728027\n",
              "\n",
              "[[4]]$testing\n",
              "[1] 49369\n",
              "\n",
              "[[4]]$testing_pos\n",
              "[1] 370\n",
              "\n",
              "[[4]]$envios\n",
              "[1] 3716\n",
              "\n",
              "[[4]]$aciertos\n",
              "[1] 227\n",
              "\n",
              "[[4]]$ganancia_test\n",
              "[1] 53640000\n",
              "\n",
              "\n",
              "[[5]]\n",
              "[[5]]$semilla\n",
              "[1] 914117\n",
              "\n",
              "[[5]]$testing\n",
              "[1] 49381\n",
              "\n",
              "[[5]]$testing_pos\n",
              "[1] 381\n",
              "\n",
              "[[5]]$envios\n",
              "[1] 3225\n",
              "\n",
              "[[5]]$aciertos\n",
              "[1] 221\n",
              "\n",
              "[[5]]$ganancia_test\n",
              "[1] 56150000\n",
              "\n"
            ]
          },
          "metadata": {}
        }
      ]
    },
    {
      "cell_type": "code",
      "source": [
        "# paso la lista a vector\n",
        "tb_salida <- rbindlist(salidas)\n",
        "print( tb_salida)"
      ],
      "metadata": {
        "id": "tML9VmH2ECFK",
        "colab": {
          "base_uri": "https://localhost:8080/"
        },
        "outputId": "8eedd8d9-59f2-498f-f4e4-c96ecfe01f79"
      },
      "execution_count": null,
      "outputs": [
        {
          "output_type": "stream",
          "name": "stdout",
          "text": [
            "   semilla testing testing_pos envios aciertos ganancia_test\n",
            "     <num>   <int>       <int>  <int>    <int>         <num>\n",
            "1:  182821   49373         369   3800      209      45600000\n",
            "2:  499117   49380         375   3835      228      52850000\n",
            "3:  615479   49365         367   3367      186      40730000\n",
            "4:  728027   49369         370   3716      227      53640000\n",
            "5:  914117   49381         381   3225      221      56150000\n"
          ]
        }
      ]
    },
    {
      "cell_type": "code",
      "source": [
        "# finalmente calculo la media (promedio)  de las ganancias\n",
        "cat( \"ganancia promedio: \", tb_salida[, mean(ganancia_test)], \"\\n\" )"
      ],
      "metadata": {
        "id": "rbHXPfoVENQB",
        "colab": {
          "base_uri": "https://localhost:8080/"
        },
        "outputId": "0f66532f-7e5c-4917-8812-75df481c0f26"
      },
      "execution_count": null,
      "outputs": [
        {
          "output_type": "stream",
          "name": "stdout",
          "text": [
            "ganancia promedio:  49794000 \n"
          ]
        }
      ]
    },
    {
      "cell_type": "markdown",
      "source": [
        "### Acciones a realizar\n",
        "* Reportar la  *Ganancia Promedio* <br> en la planilla colaborativa hoja  **C2-5sem**\n",
        "* Se discutirá en clase la variabilidad de estos \"ganancia promedio de cinco semillas\""
      ],
      "metadata": {
        "id": "_3xVH6UKA2W6"
      }
    },
    {
      "cell_type": "markdown",
      "source": [
        "\n",
        "\n",
        "---\n",
        "\n"
      ],
      "metadata": {
        "id": "N29m1XGpA2W7"
      }
    },
    {
      "cell_type": "markdown",
      "source": [
        "# 3  Generando n semillas en forma automatica\n",
        "## Clase 02  Experimento 3"
      ],
      "metadata": {
        "id": "zS7WIJciFGc6"
      }
    },
    {
      "cell_type": "markdown",
      "source": [
        "## 3.1  Objetivos\n",
        "Mostrar la creación de nuevas semillas a partir de la librería Primes"
      ],
      "metadata": {
        "id": "VmiFDDDJFUEo"
      }
    },
    {
      "cell_type": "markdown",
      "source": [
        "3.2  Código\n",
        "\n",
        "Como generar muchas semillas a partir de una"
      ],
      "metadata": {
        "id": "Ehe3VfdfFbvg"
      }
    },
    {
      "cell_type": "code",
      "source": [
        "# instalo y cargo la libreria  primes\n",
        "if (!require(\"primes\")) install.packages(\"primes\")\n",
        "require(\"primes\")"
      ],
      "metadata": {
        "id": "X6_dE42yF2-t",
        "colab": {
          "base_uri": "https://localhost:8080/"
        },
        "outputId": "19f8186b-e65e-41fa-9c7f-2184f8b4352a"
      },
      "execution_count": null,
      "outputs": [
        {
          "output_type": "stream",
          "name": "stderr",
          "text": [
            "Loading required package: primes\n",
            "\n",
            "Warning message in library(package, lib.loc = lib.loc, character.only = TRUE, logical.return = TRUE, :\n",
            "“there is no package called ‘primes’”\n",
            "Installing package into ‘/usr/local/lib/R/site-library’\n",
            "(as ‘lib’ is unspecified)\n",
            "\n",
            "Loading required package: primes\n",
            "\n"
          ]
        }
      ]
    },
    {
      "cell_type": "code",
      "source": [
        "# genero numeros primos\n",
        "primos <- generate_primes(min = 100000, max = 1000000)\n",
        "\n",
        "\n",
        "set.seed(102191) # inicializo con mi primer semilla\n",
        "\n",
        "# me quedo con por ejemplo 20 primos al azar\n",
        "semillas <- sample(primos, 20 )\n",
        "\n",
        "print( semillas )"
      ],
      "metadata": {
        "id": "yDU9RyV4FNhZ",
        "colab": {
          "base_uri": "https://localhost:8080/"
        },
        "outputId": "0ede569e-e629-40ea-8b94-43e980f65ef8"
      },
      "execution_count": null,
      "outputs": [
        {
          "output_type": "stream",
          "name": "stdout",
          "text": [
            " [1] 378821 964333 187049 205151 813697 344719 127217 464371 645137 480803\n",
            "[11] 723319 314641 791599 937577 685649 619363 390539 465887 619657 195737\n"
          ]
        }
      ]
    },
    {
      "cell_type": "markdown",
      "source": [
        "\n",
        "\n",
        "---\n",
        "\n"
      ],
      "metadata": {
        "id": "eD_cO5VTGGea"
      }
    },
    {
      "cell_type": "code",
      "source": [],
      "metadata": {
        "id": "k-rgoA2ZFll4"
      },
      "execution_count": null,
      "outputs": []
    },
    {
      "cell_type": "markdown",
      "source": [
        "# 4  Medición  50-Monte Carlo Cross Validation\n",
        "## Clase 02  Experimento 4"
      ],
      "metadata": {
        "id": "cZi29THsGil_"
      }
    },
    {
      "cell_type": "markdown",
      "source": [
        "## 4.1  Objetivos\n",
        "Calcular la ganancia del modelo utilizando 50 semillas nuevas generadas a partir de mi semilla primigenia."
      ],
      "metadata": {
        "id": "qFNq6ntVGimN"
      }
    },
    {
      "cell_type": "markdown",
      "source": [
        "## 4.4 Codigo  50 Montecarlo"
      ],
      "metadata": {
        "id": "B6KtuhQCGimP"
      }
    },
    {
      "cell_type": "markdown",
      "source": [
        "Esta parte se debe correr con el runtime en lenguaje **R** Ir al menu, Runtime -> Change Runtime Tipe -> Runtime type -> R"
      ],
      "metadata": {
        "id": "LgGgjPQuGimP"
      }
    },
    {
      "cell_type": "markdown",
      "source": [
        "Este punto demora en correr 60 minutos en Google Colab, con lo cual para continuar con el punto siguiente deberá abrir un nuevo Colab"
      ],
      "metadata": {
        "id": "E82ChuO25OYx"
      }
    },
    {
      "cell_type": "markdown",
      "source": [
        "limpio el ambiente de R"
      ],
      "metadata": {
        "id": "a6AxqLwOGimQ"
      }
    },
    {
      "cell_type": "code",
      "source": [
        "# limpio la memoria\n",
        "rm(list=ls(all.names=TRUE)) # remove all objects\n",
        "gc(full=TRUE, verbose=FALSE) # garbage collection"
      ],
      "metadata": {
        "id": "797Ad0_QGimQ",
        "colab": {
          "base_uri": "https://localhost:8080/",
          "height": 129
        },
        "outputId": "4a138fd0-aa3d-4f9e-ecb4-33673c75c64e"
      },
      "execution_count": null,
      "outputs": [
        {
          "output_type": "display_data",
          "data": {
            "text/html": [
              "<table class=\"dataframe\">\n",
              "<caption>A matrix: 2 × 6 of type dbl</caption>\n",
              "<thead>\n",
              "\t<tr><th></th><th scope=col>used</th><th scope=col>(Mb)</th><th scope=col>gc trigger</th><th scope=col>(Mb)</th><th scope=col>max used</th><th scope=col>(Mb)</th></tr>\n",
              "</thead>\n",
              "<tbody>\n",
              "\t<tr><th scope=row>Ncells</th><td> 831162</td><td>44.4</td><td> 1454454</td><td> 77.7</td><td>  1454454</td><td> 77.7</td></tr>\n",
              "\t<tr><th scope=row>Vcells</th><td>1566314</td><td>12.0</td><td>67924864</td><td>518.3</td><td>104048951</td><td>793.9</td></tr>\n",
              "</tbody>\n",
              "</table>\n"
            ],
            "text/markdown": "\nA matrix: 2 × 6 of type dbl\n\n| <!--/--> | used | (Mb) | gc trigger | (Mb) | max used | (Mb) |\n|---|---|---|---|---|---|---|\n| Ncells |  831162 | 44.4 |  1454454 |  77.7 |   1454454 |  77.7 |\n| Vcells | 1566314 | 12.0 | 67924864 | 518.3 | 104048951 | 793.9 |\n\n",
            "text/latex": "A matrix: 2 × 6 of type dbl\n\\begin{tabular}{r|llllll}\n  & used & (Mb) & gc trigger & (Mb) & max used & (Mb)\\\\\n\\hline\n\tNcells &  831162 & 44.4 &  1454454 &  77.7 &   1454454 &  77.7\\\\\n\tVcells & 1566314 & 12.0 & 67924864 & 518.3 & 104048951 & 793.9\\\\\n\\end{tabular}\n",
            "text/plain": [
              "       used    (Mb) gc trigger (Mb)  max used  (Mb) \n",
              "Ncells  831162 44.4  1454454    77.7   1454454  77.7\n",
              "Vcells 1566314 12.0 67924864   518.3 104048951 793.9"
            ]
          },
          "metadata": {}
        }
      ]
    },
    {
      "cell_type": "markdown",
      "source": [
        "* Instalacion de la libreria  rpart.plot  para dibujar el arbol\n",
        "* invocacion de las librerias  **data.table** y  **rpart**"
      ],
      "metadata": {
        "id": "v0CepvbjGimQ"
      }
    },
    {
      "cell_type": "code",
      "source": [
        "# cargo las librerias que necesito\n",
        "require(\"data.table\")\n",
        "require(\"rpart\")\n",
        "require(\"parallel\")\n",
        "\n",
        "if (!require(\"primes\")) install.packages(\"primes\")\n",
        "require(\"primes\")"
      ],
      "metadata": {
        "id": "CRkZ1V2_GimR"
      },
      "execution_count": null,
      "outputs": []
    },
    {
      "cell_type": "markdown",
      "source": [
        "###  Accion a Realizar\n",
        "PARAM$semilla_primigenia  debe reemplazarse por SU primer semilla"
      ],
      "metadata": {
        "id": "PZKJG-nSGimR"
      }
    },
    {
      "cell_type": "code",
      "source": [
        "PARAM <- list()\n",
        "PARAM$semilla_primigenia <- 182821\n",
        "PARAM$qsemillas <- 50\n",
        "PARAM$training_pct <- 70L  # entre  1L y 99L\n",
        "\n",
        "PARAM$rpart <- list (\n",
        "  \"cp\" = -1, # complejidad minima\n",
        "  \"minsplit\" = 170, # minima cantidad de regs en un nodo para hacer el split\n",
        "  \"minbucket\" = 70, # minima cantidad de regs en una hoja\n",
        "  \"maxdepth\" = 7 # profundidad máxima del arbol\n",
        ")\n"
      ],
      "metadata": {
        "id": "4kbkA-2HGimR"
      },
      "execution_count": null,
      "outputs": []
    },
    {
      "cell_type": "code",
      "source": [
        "# particionar agrega una columna llamada fold a un dataset\n",
        "#  que consiste en una particion estratificada segun agrupa\n",
        "\n",
        "# particionar( data=dataset, division=c(70,30),\n",
        "#  agrupa=clase_ternaria, seed=semilla)   crea una particion 70, 30\n",
        "\n",
        "particionar <- function(\n",
        "    data, division, agrupa = \"\",\n",
        "    campo = \"fold\", start = 1, seed = NA) {\n",
        "  if (!is.na(seed)) set.seed(seed)\n",
        "\n",
        "  bloque <- unlist(mapply(function(x, y) {\n",
        "    rep(y, x)\n",
        "  }, division, seq(from = start, length.out = length(division))))\n",
        "\n",
        "  data[, (campo) := sample(rep(bloque, ceiling(.N / length(bloque))))[1:.N],\n",
        "    by = agrupa\n",
        "  ]\n",
        "}\n"
      ],
      "metadata": {
        "id": "HME0qUeOGimS"
      },
      "execution_count": null,
      "outputs": []
    },
    {
      "cell_type": "code",
      "source": [
        "\n",
        "ArbolEstimarGanancia <- function(semilla, param_basicos) {\n",
        "  # particiono estratificadamente el dataset\n",
        "  particionar(dataset,\n",
        "    division = c(param_basicos$training_pct, 100L -param_basicos$training_pct),\n",
        "    agrupa = \"clase_ternaria\",\n",
        "    seed = semilla # aqui se usa SU semilla\n",
        "  )\n",
        "\n",
        "  # genero el modelo\n",
        "  # predecir clase_ternaria a partir del resto\n",
        "  modelo <- rpart(\"clase_ternaria ~ .\",\n",
        "    data = dataset[fold == 1], # fold==1  es training,  el 70% de los datos\n",
        "    xval = 0,\n",
        "    control = param_basicos$rpart\n",
        "  ) # aqui van los parametros del arbol\n",
        "\n",
        "  # aplico el modelo a los datos de testing\n",
        "  prediccion <- predict(modelo, # el modelo que genere recien\n",
        "    dataset[fold == 2], # fold==2  es testing, el 30% de los datos\n",
        "    type = \"prob\"\n",
        "  ) # type= \"prob\"  es que devuelva la probabilidad\n",
        "\n",
        "  # prediccion es una matriz con TRES columnas,\n",
        "  #  llamadas \"BAJA+1\", \"BAJA+2\"  y \"CONTINUA\"\n",
        "  # cada columna es el vector de probabilidades\n",
        "\n",
        "\n",
        "  # calculo la ganancia en testing  qu es fold==2\n",
        "  ganancia_test <- dataset[\n",
        "    fold == 2,\n",
        "    sum(ifelse(prediccion[, \"BAJA+2\"] > 0.025,\n",
        "      ifelse(clase_ternaria == \"BAJA+2\", 117000, -3000),\n",
        "      0\n",
        "    ))\n",
        "  ]\n",
        "\n",
        "  # escalo la ganancia como si fuera todo el dataset\n",
        "  ganancia_test_normalizada <- ganancia_test / (( 100 - PARAM$training_pct ) / 100 )\n",
        "\n",
        "  return(list(\n",
        "    \"semilla\" = semilla,\n",
        "    \"testing\" = dataset[fold == 2, .N],\n",
        "    \"testing_pos\" = dataset[fold == 2 & clase_ternaria == \"BAJA+2\", .N],\n",
        "    \"envios\" = dataset[fold == 2, sum(prediccion[, \"BAJA+2\"] > 0.025)],\n",
        "    \"aciertos\" = dataset[\n",
        "        fold == 2,\n",
        "        sum(prediccion[, \"BAJA+2\"] > 0.025 & clase_ternaria == \"BAJA+2\")\n",
        "    ],\n",
        "    \"ganancia_test\" = ganancia_test_normalizada\n",
        "  ))\n",
        "}\n"
      ],
      "metadata": {
        "id": "ro9Ufoi-GimS"
      },
      "execution_count": null,
      "outputs": []
    },
    {
      "cell_type": "code",
      "source": [
        "# carpeta de trabajo\n",
        "setwd(\"/content/buckets/b1/exp\")\n",
        "experimento <- \"exp204\"\n",
        "dir.create(experimento, showWarnings=FALSE)\n",
        "setwd( paste0(\"/content/buckets/b1/exp/\", experimento ))"
      ],
      "metadata": {
        "id": "gz7LgltwGimT"
      },
      "execution_count": null,
      "outputs": []
    },
    {
      "cell_type": "code",
      "source": [
        "# lectura del dataset\n",
        "dataset <- fread(\"/content/datasets/dataset_pequeno.csv\")\n",
        "\n",
        "# trabajo solo con los datos con clase, es decir 202107\n",
        "dataset <- dataset[clase_ternaria != \"\"]"
      ],
      "metadata": {
        "id": "xRXKHeLeGimT"
      },
      "execution_count": null,
      "outputs": []
    },
    {
      "cell_type": "code",
      "source": [
        "# genero numeros primos\n",
        "primos <- generate_primes(min = 100000, max = 1000000)\n",
        "set.seed(PARAM$semilla_primigenia) # inicializo\n",
        "\n",
        "# me quedo con PARAM$qsemillas   semillas\n",
        "PARAM$semillas <- sample(primos, PARAM$qsemillas )"
      ],
      "metadata": {
        "id": "MdpZ10qiHSZy"
      },
      "execution_count": null,
      "outputs": []
    },
    {
      "cell_type": "code",
      "source": [
        "\n",
        "# la funcion mcmapply  llama a la funcion ArbolEstimarGanancia\n",
        "#  tantas veces como valores tenga el vector  PARAM$semillas\n",
        "salidas <- mcmapply(ArbolEstimarGanancia,\n",
        "  PARAM$semillas, # paso el vector de semillas\n",
        "  MoreArgs = list(PARAM), # aqui paso el segundo parametro\n",
        "  SIMPLIFY = FALSE,\n",
        "  mc.cores = detectCores()\n",
        ")\n",
        "\n",
        "# muestro la lista de las salidas en testing\n",
        "#  para la particion realizada con cada semilla\n",
        "salidas\n"
      ],
      "metadata": {
        "id": "r-YaawpgGimU",
        "colab": {
          "base_uri": "https://localhost:8080/",
          "height": 1000
        },
        "outputId": "6e5438c7-bdb5-44d1-a038-2bd76a7449cf"
      },
      "execution_count": null,
      "outputs": [
        {
          "output_type": "display_data",
          "data": {
            "text/html": [
              "<ol>\n",
              "\t<li><dl>\n",
              "\t<dt>$semilla</dt>\n",
              "\t\t<dd>947621</dd>\n",
              "\t<dt>$testing</dt>\n",
              "\t\t<dd>49368</dd>\n",
              "\t<dt>$testing_pos</dt>\n",
              "\t\t<dd>369</dd>\n",
              "\t<dt>$envios</dt>\n",
              "\t\t<dd>3484</dd>\n",
              "\t<dt>$aciertos</dt>\n",
              "\t\t<dd>187</dd>\n",
              "\t<dt>$ganancia_test</dt>\n",
              "\t\t<dd>39960000</dd>\n",
              "</dl>\n",
              "</li>\n",
              "\t<li><dl>\n",
              "\t<dt>$semilla</dt>\n",
              "\t\t<dd>343267</dd>\n",
              "\t<dt>$testing</dt>\n",
              "\t\t<dd>49370</dd>\n",
              "\t<dt>$testing_pos</dt>\n",
              "\t\t<dd>374</dd>\n",
              "\t<dt>$envios</dt>\n",
              "\t\t<dd>3585</dd>\n",
              "\t<dt>$aciertos</dt>\n",
              "\t\t<dd>205</dd>\n",
              "\t<dt>$ganancia_test</dt>\n",
              "\t\t<dd>46150000</dd>\n",
              "</dl>\n",
              "</li>\n",
              "\t<li><dl>\n",
              "\t<dt>$semilla</dt>\n",
              "\t\t<dd>631259</dd>\n",
              "\t<dt>$testing</dt>\n",
              "\t\t<dd>49386</dd>\n",
              "\t<dt>$testing_pos</dt>\n",
              "\t\t<dd>372</dd>\n",
              "\t<dt>$envios</dt>\n",
              "\t\t<dd>3415</dd>\n",
              "\t<dt>$aciertos</dt>\n",
              "\t\t<dd>207</dd>\n",
              "\t<dt>$ganancia_test</dt>\n",
              "\t\t<dd>48650000</dd>\n",
              "</dl>\n",
              "</li>\n",
              "\t<li><dl>\n",
              "\t<dt>$semilla</dt>\n",
              "\t\t<dd>289859</dd>\n",
              "\t<dt>$testing</dt>\n",
              "\t\t<dd>49378</dd>\n",
              "\t<dt>$testing_pos</dt>\n",
              "\t\t<dd>371</dd>\n",
              "\t<dt>$envios</dt>\n",
              "\t\t<dd>3006</dd>\n",
              "\t<dt>$aciertos</dt>\n",
              "\t\t<dd>181</dd>\n",
              "\t<dt>$ganancia_test</dt>\n",
              "\t\t<dd>42340000</dd>\n",
              "</dl>\n",
              "</li>\n",
              "\t<li><dl>\n",
              "\t<dt>$semilla</dt>\n",
              "\t\t<dd>797933</dd>\n",
              "\t<dt>$testing</dt>\n",
              "\t\t<dd>49382</dd>\n",
              "\t<dt>$testing_pos</dt>\n",
              "\t\t<dd>372</dd>\n",
              "\t<dt>$envios</dt>\n",
              "\t\t<dd>2791</dd>\n",
              "\t<dt>$aciertos</dt>\n",
              "\t\t<dd>186</dd>\n",
              "\t<dt>$ganancia_test</dt>\n",
              "\t\t<dd>46490000</dd>\n",
              "</dl>\n",
              "</li>\n",
              "\t<li><dl>\n",
              "\t<dt>$semilla</dt>\n",
              "\t\t<dd>770239</dd>\n",
              "\t<dt>$testing</dt>\n",
              "\t\t<dd>49375</dd>\n",
              "\t<dt>$testing_pos</dt>\n",
              "\t\t<dd>376</dd>\n",
              "\t<dt>$envios</dt>\n",
              "\t\t<dd>3732</dd>\n",
              "\t<dt>$aciertos</dt>\n",
              "\t\t<dd>213</dd>\n",
              "\t<dt>$ganancia_test</dt>\n",
              "\t\t<dd>47880000</dd>\n",
              "</dl>\n",
              "</li>\n",
              "\t<li><dl>\n",
              "\t<dt>$semilla</dt>\n",
              "\t\t<dd>993437</dd>\n",
              "\t<dt>$testing</dt>\n",
              "\t\t<dd>49374</dd>\n",
              "\t<dt>$testing_pos</dt>\n",
              "\t\t<dd>370</dd>\n",
              "\t<dt>$envios</dt>\n",
              "\t\t<dd>4074</dd>\n",
              "\t<dt>$aciertos</dt>\n",
              "\t\t<dd>219</dd>\n",
              "\t<dt>$ganancia_test</dt>\n",
              "\t\t<dd>46860000</dd>\n",
              "</dl>\n",
              "</li>\n",
              "\t<li><dl>\n",
              "\t<dt>$semilla</dt>\n",
              "\t\t<dd>110771</dd>\n",
              "\t<dt>$testing</dt>\n",
              "\t\t<dd>49385</dd>\n",
              "\t<dt>$testing_pos</dt>\n",
              "\t\t<dd>377</dd>\n",
              "\t<dt>$envios</dt>\n",
              "\t\t<dd>3098</dd>\n",
              "\t<dt>$aciertos</dt>\n",
              "\t\t<dd>196</dd>\n",
              "\t<dt>$ganancia_test</dt>\n",
              "\t\t<dd>47420000</dd>\n",
              "</dl>\n",
              "</li>\n",
              "\t<li><dl>\n",
              "\t<dt>$semilla</dt>\n",
              "\t\t<dd>174017</dd>\n",
              "\t<dt>$testing</dt>\n",
              "\t\t<dd>49383</dd>\n",
              "\t<dt>$testing_pos</dt>\n",
              "\t\t<dd>374</dd>\n",
              "\t<dt>$envios</dt>\n",
              "\t\t<dd>3651</dd>\n",
              "\t<dt>$aciertos</dt>\n",
              "\t\t<dd>222</dd>\n",
              "\t<dt>$ganancia_test</dt>\n",
              "\t\t<dd>52290000</dd>\n",
              "</dl>\n",
              "</li>\n",
              "\t<li><dl>\n",
              "\t<dt>$semilla</dt>\n",
              "\t\t<dd>330233</dd>\n",
              "\t<dt>$testing</dt>\n",
              "\t\t<dd>49375</dd>\n",
              "\t<dt>$testing_pos</dt>\n",
              "\t\t<dd>370</dd>\n",
              "\t<dt>$envios</dt>\n",
              "\t\t<dd>3879</dd>\n",
              "\t<dt>$aciertos</dt>\n",
              "\t\t<dd>202</dd>\n",
              "\t<dt>$ganancia_test</dt>\n",
              "\t\t<dd>42010000</dd>\n",
              "</dl>\n",
              "</li>\n",
              "\t<li><dl>\n",
              "\t<dt>$semilla</dt>\n",
              "\t\t<dd>199657</dd>\n",
              "\t<dt>$testing</dt>\n",
              "\t\t<dd>49391</dd>\n",
              "\t<dt>$testing_pos</dt>\n",
              "\t\t<dd>378</dd>\n",
              "\t<dt>$envios</dt>\n",
              "\t\t<dd>3930</dd>\n",
              "\t<dt>$aciertos</dt>\n",
              "\t\t<dd>218</dd>\n",
              "\t<dt>$ganancia_test</dt>\n",
              "\t\t<dd>47900000</dd>\n",
              "</dl>\n",
              "</li>\n",
              "\t<li><dl>\n",
              "\t<dt>$semilla</dt>\n",
              "\t\t<dd>276359</dd>\n",
              "\t<dt>$testing</dt>\n",
              "\t\t<dd>49372</dd>\n",
              "\t<dt>$testing_pos</dt>\n",
              "\t\t<dd>373</dd>\n",
              "\t<dt>$envios</dt>\n",
              "\t\t<dd>3965</dd>\n",
              "\t<dt>$aciertos</dt>\n",
              "\t\t<dd>227</dd>\n",
              "\t<dt>$ganancia_test</dt>\n",
              "\t\t<dd>51150000</dd>\n",
              "</dl>\n",
              "</li>\n",
              "\t<li><dl>\n",
              "\t<dt>$semilla</dt>\n",
              "\t\t<dd>252173</dd>\n",
              "\t<dt>$testing</dt>\n",
              "\t\t<dd>49375</dd>\n",
              "\t<dt>$testing_pos</dt>\n",
              "\t\t<dd>378</dd>\n",
              "\t<dt>$envios</dt>\n",
              "\t\t<dd>3226</dd>\n",
              "\t<dt>$aciertos</dt>\n",
              "\t\t<dd>206</dd>\n",
              "\t<dt>$ganancia_test</dt>\n",
              "\t\t<dd>50140000</dd>\n",
              "</dl>\n",
              "</li>\n",
              "\t<li><dl>\n",
              "\t<dt>$semilla</dt>\n",
              "\t\t<dd>197161</dd>\n",
              "\t<dt>$testing</dt>\n",
              "\t\t<dd>49378</dd>\n",
              "\t<dt>$testing_pos</dt>\n",
              "\t\t<dd>376</dd>\n",
              "\t<dt>$envios</dt>\n",
              "\t\t<dd>3078</dd>\n",
              "\t<dt>$aciertos</dt>\n",
              "\t\t<dd>198</dd>\n",
              "\t<dt>$ganancia_test</dt>\n",
              "\t\t<dd>48420000</dd>\n",
              "</dl>\n",
              "</li>\n",
              "\t<li><dl>\n",
              "\t<dt>$semilla</dt>\n",
              "\t\t<dd>644359</dd>\n",
              "\t<dt>$testing</dt>\n",
              "\t\t<dd>49373</dd>\n",
              "\t<dt>$testing_pos</dt>\n",
              "\t\t<dd>377</dd>\n",
              "\t<dt>$envios</dt>\n",
              "\t\t<dd>3664</dd>\n",
              "\t<dt>$aciertos</dt>\n",
              "\t\t<dd>221</dd>\n",
              "\t<dt>$ganancia_test</dt>\n",
              "\t\t<dd>51760000</dd>\n",
              "</dl>\n",
              "</li>\n",
              "\t<li><dl>\n",
              "\t<dt>$semilla</dt>\n",
              "\t\t<dd>308293</dd>\n",
              "\t<dt>$testing</dt>\n",
              "\t\t<dd>49380</dd>\n",
              "\t<dt>$testing_pos</dt>\n",
              "\t\t<dd>378</dd>\n",
              "\t<dt>$envios</dt>\n",
              "\t\t<dd>2974</dd>\n",
              "\t<dt>$aciertos</dt>\n",
              "\t\t<dd>196</dd>\n",
              "\t<dt>$ganancia_test</dt>\n",
              "\t\t<dd>48660000</dd>\n",
              "</dl>\n",
              "</li>\n",
              "\t<li><dl>\n",
              "\t<dt>$semilla</dt>\n",
              "\t\t<dd>701447</dd>\n",
              "\t<dt>$testing</dt>\n",
              "\t\t<dd>49381</dd>\n",
              "\t<dt>$testing_pos</dt>\n",
              "\t\t<dd>373</dd>\n",
              "\t<dt>$envios</dt>\n",
              "\t\t<dd>2954</dd>\n",
              "\t<dt>$aciertos</dt>\n",
              "\t\t<dd>198</dd>\n",
              "\t<dt>$ganancia_test</dt>\n",
              "\t\t<dd>49660000</dd>\n",
              "</dl>\n",
              "</li>\n",
              "\t<li><dl>\n",
              "\t<dt>$semilla</dt>\n",
              "\t\t<dd>386263</dd>\n",
              "\t<dt>$testing</dt>\n",
              "\t\t<dd>49373</dd>\n",
              "\t<dt>$testing_pos</dt>\n",
              "\t\t<dd>374</dd>\n",
              "\t<dt>$envios</dt>\n",
              "\t\t<dd>2890</dd>\n",
              "\t<dt>$aciertos</dt>\n",
              "\t\t<dd>196</dd>\n",
              "\t<dt>$ganancia_test</dt>\n",
              "\t\t<dd>49500000</dd>\n",
              "</dl>\n",
              "</li>\n",
              "\t<li><dl>\n",
              "\t<dt>$semilla</dt>\n",
              "\t\t<dd>616433</dd>\n",
              "\t<dt>$testing</dt>\n",
              "\t\t<dd>49385</dd>\n",
              "\t<dt>$testing_pos</dt>\n",
              "\t\t<dd>374</dd>\n",
              "\t<dt>$envios</dt>\n",
              "\t\t<dd>3267</dd>\n",
              "\t<dt>$aciertos</dt>\n",
              "\t\t<dd>205</dd>\n",
              "\t<dt>$ganancia_test</dt>\n",
              "\t\t<dd>49330000</dd>\n",
              "</dl>\n",
              "</li>\n",
              "\t<li><dl>\n",
              "\t<dt>$semilla</dt>\n",
              "\t\t<dd>975901</dd>\n",
              "\t<dt>$testing</dt>\n",
              "\t\t<dd>49365</dd>\n",
              "\t<dt>$testing_pos</dt>\n",
              "\t\t<dd>368</dd>\n",
              "\t<dt>$envios</dt>\n",
              "\t\t<dd>3435</dd>\n",
              "\t<dt>$aciertos</dt>\n",
              "\t\t<dd>207</dd>\n",
              "\t<dt>$ganancia_test</dt>\n",
              "\t\t<dd>48450000</dd>\n",
              "</dl>\n",
              "</li>\n",
              "\t<li><dl>\n",
              "\t<dt>$semilla</dt>\n",
              "\t\t<dd>717419</dd>\n",
              "\t<dt>$testing</dt>\n",
              "\t\t<dd>49381</dd>\n",
              "\t<dt>$testing_pos</dt>\n",
              "\t\t<dd>377</dd>\n",
              "\t<dt>$envios</dt>\n",
              "\t\t<dd>4130</dd>\n",
              "\t<dt>$aciertos</dt>\n",
              "\t\t<dd>223</dd>\n",
              "\t<dt>$ganancia_test</dt>\n",
              "\t\t<dd>47900000</dd>\n",
              "</dl>\n",
              "</li>\n",
              "\t<li><dl>\n",
              "\t<dt>$semilla</dt>\n",
              "\t\t<dd>401939</dd>\n",
              "\t<dt>$testing</dt>\n",
              "\t\t<dd>49375</dd>\n",
              "\t<dt>$testing_pos</dt>\n",
              "\t\t<dd>370</dd>\n",
              "\t<dt>$envios</dt>\n",
              "\t\t<dd>4459</dd>\n",
              "\t<dt>$aciertos</dt>\n",
              "\t\t<dd>236</dd>\n",
              "\t<dt>$ganancia_test</dt>\n",
              "\t\t<dd>49810000</dd>\n",
              "</dl>\n",
              "</li>\n",
              "\t<li><dl>\n",
              "\t<dt>$semilla</dt>\n",
              "\t\t<dd>295417</dd>\n",
              "\t<dt>$testing</dt>\n",
              "\t\t<dd>49385</dd>\n",
              "\t<dt>$testing_pos</dt>\n",
              "\t\t<dd>377</dd>\n",
              "\t<dt>$envios</dt>\n",
              "\t\t<dd>3884</dd>\n",
              "\t<dt>$aciertos</dt>\n",
              "\t\t<dd>214</dd>\n",
              "\t<dt>$ganancia_test</dt>\n",
              "\t\t<dd>46760000</dd>\n",
              "</dl>\n",
              "</li>\n",
              "\t<li><dl>\n",
              "\t<dt>$semilla</dt>\n",
              "\t\t<dd>844121</dd>\n",
              "\t<dt>$testing</dt>\n",
              "\t\t<dd>49389</dd>\n",
              "\t<dt>$testing_pos</dt>\n",
              "\t\t<dd>380</dd>\n",
              "\t<dt>$envios</dt>\n",
              "\t\t<dd>3736</dd>\n",
              "\t<dt>$aciertos</dt>\n",
              "\t\t<dd>221</dd>\n",
              "\t<dt>$ganancia_test</dt>\n",
              "\t\t<dd>51040000</dd>\n",
              "</dl>\n",
              "</li>\n",
              "\t<li><dl>\n",
              "\t<dt>$semilla</dt>\n",
              "\t\t<dd>223151</dd>\n",
              "\t<dt>$testing</dt>\n",
              "\t\t<dd>49374</dd>\n",
              "\t<dt>$testing_pos</dt>\n",
              "\t\t<dd>369</dd>\n",
              "\t<dt>$envios</dt>\n",
              "\t\t<dd>2958</dd>\n",
              "\t<dt>$aciertos</dt>\n",
              "\t\t<dd>195</dd>\n",
              "\t<dt>$ganancia_test</dt>\n",
              "\t\t<dd>48420000</dd>\n",
              "</dl>\n",
              "</li>\n",
              "\t<li><dl>\n",
              "\t<dt>$semilla</dt>\n",
              "\t\t<dd>391619</dd>\n",
              "\t<dt>$testing</dt>\n",
              "\t\t<dd>49381</dd>\n",
              "\t<dt>$testing_pos</dt>\n",
              "\t\t<dd>375</dd>\n",
              "\t<dt>$envios</dt>\n",
              "\t\t<dd>3745</dd>\n",
              "\t<dt>$aciertos</dt>\n",
              "\t\t<dd>216</dd>\n",
              "\t<dt>$ganancia_test</dt>\n",
              "\t\t<dd>48950000</dd>\n",
              "</dl>\n",
              "</li>\n",
              "\t<li><dl>\n",
              "\t<dt>$semilla</dt>\n",
              "\t\t<dd>749653</dd>\n",
              "\t<dt>$testing</dt>\n",
              "\t\t<dd>49380</dd>\n",
              "\t<dt>$testing_pos</dt>\n",
              "\t\t<dd>373</dd>\n",
              "\t<dt>$envios</dt>\n",
              "\t\t<dd>3505</dd>\n",
              "\t<dt>$aciertos</dt>\n",
              "\t\t<dd>206</dd>\n",
              "\t<dt>$ganancia_test</dt>\n",
              "\t\t<dd>47350000</dd>\n",
              "</dl>\n",
              "</li>\n",
              "\t<li><dl>\n",
              "\t<dt>$semilla</dt>\n",
              "\t\t<dd>730637</dd>\n",
              "\t<dt>$testing</dt>\n",
              "\t\t<dd>49381</dd>\n",
              "\t<dt>$testing_pos</dt>\n",
              "\t\t<dd>372</dd>\n",
              "\t<dt>$envios</dt>\n",
              "\t\t<dd>4181</dd>\n",
              "\t<dt>$aciertos</dt>\n",
              "\t\t<dd>228</dd>\n",
              "\t<dt>$ganancia_test</dt>\n",
              "\t\t<dd>49390000</dd>\n",
              "</dl>\n",
              "</li>\n",
              "\t<li><dl>\n",
              "\t<dt>$semilla</dt>\n",
              "\t\t<dd>678637</dd>\n",
              "\t<dt>$testing</dt>\n",
              "\t\t<dd>49384</dd>\n",
              "\t<dt>$testing_pos</dt>\n",
              "\t\t<dd>381</dd>\n",
              "\t<dt>$envios</dt>\n",
              "\t\t<dd>3570</dd>\n",
              "\t<dt>$aciertos</dt>\n",
              "\t\t<dd>212</dd>\n",
              "\t<dt>$ganancia_test</dt>\n",
              "\t\t<dd>49100000</dd>\n",
              "</dl>\n",
              "</li>\n",
              "\t<li><dl>\n",
              "\t<dt>$semilla</dt>\n",
              "\t\t<dd>576883</dd>\n",
              "\t<dt>$testing</dt>\n",
              "\t\t<dd>49389</dd>\n",
              "\t<dt>$testing_pos</dt>\n",
              "\t\t<dd>382</dd>\n",
              "\t<dt>$envios</dt>\n",
              "\t\t<dd>2775</dd>\n",
              "\t<dt>$aciertos</dt>\n",
              "\t\t<dd>198</dd>\n",
              "\t<dt>$ganancia_test</dt>\n",
              "\t\t<dd>51450000</dd>\n",
              "</dl>\n",
              "</li>\n",
              "\t<li><dl>\n",
              "\t<dt>$semilla</dt>\n",
              "\t\t<dd>794531</dd>\n",
              "\t<dt>$testing</dt>\n",
              "\t\t<dd>49378</dd>\n",
              "\t<dt>$testing_pos</dt>\n",
              "\t\t<dd>375</dd>\n",
              "\t<dt>$envios</dt>\n",
              "\t\t<dd>3309</dd>\n",
              "\t<dt>$aciertos</dt>\n",
              "\t\t<dd>197</dd>\n",
              "\t<dt>$ganancia_test</dt>\n",
              "\t\t<dd>45710000</dd>\n",
              "</dl>\n",
              "</li>\n",
              "\t<li><dl>\n",
              "\t<dt>$semilla</dt>\n",
              "\t\t<dd>615233</dd>\n",
              "\t<dt>$testing</dt>\n",
              "\t\t<dd>49371</dd>\n",
              "\t<dt>$testing_pos</dt>\n",
              "\t\t<dd>369</dd>\n",
              "\t<dt>$envios</dt>\n",
              "\t\t<dd>2810</dd>\n",
              "\t<dt>$aciertos</dt>\n",
              "\t\t<dd>178</dd>\n",
              "\t<dt>$ganancia_test</dt>\n",
              "\t\t<dd>43100000</dd>\n",
              "</dl>\n",
              "</li>\n",
              "\t<li><dl>\n",
              "\t<dt>$semilla</dt>\n",
              "\t\t<dd>697381</dd>\n",
              "\t<dt>$testing</dt>\n",
              "\t\t<dd>49378</dd>\n",
              "\t<dt>$testing_pos</dt>\n",
              "\t\t<dd>369</dd>\n",
              "\t<dt>$envios</dt>\n",
              "\t\t<dd>3108</dd>\n",
              "\t<dt>$aciertos</dt>\n",
              "\t\t<dd>204</dd>\n",
              "\t<dt>$ganancia_test</dt>\n",
              "\t\t<dd>50520000</dd>\n",
              "</dl>\n",
              "</li>\n",
              "\t<li><dl>\n",
              "\t<dt>$semilla</dt>\n",
              "\t\t<dd>504677</dd>\n",
              "\t<dt>$testing</dt>\n",
              "\t\t<dd>49376</dd>\n",
              "\t<dt>$testing_pos</dt>\n",
              "\t\t<dd>375</dd>\n",
              "\t<dt>$envios</dt>\n",
              "\t\t<dd>3833</dd>\n",
              "\t<dt>$aciertos</dt>\n",
              "\t\t<dd>215</dd>\n",
              "\t<dt>$ganancia_test</dt>\n",
              "\t\t<dd>47670000</dd>\n",
              "</dl>\n",
              "</li>\n",
              "\t<li><dl>\n",
              "\t<dt>$semilla</dt>\n",
              "\t\t<dd>573737</dd>\n",
              "\t<dt>$testing</dt>\n",
              "\t\t<dd>49392</dd>\n",
              "\t<dt>$testing_pos</dt>\n",
              "\t\t<dd>376</dd>\n",
              "\t<dt>$envios</dt>\n",
              "\t\t<dd>3364</dd>\n",
              "\t<dt>$aciertos</dt>\n",
              "\t\t<dd>190</dd>\n",
              "\t<dt>$ganancia_test</dt>\n",
              "\t\t<dd>42360000</dd>\n",
              "</dl>\n",
              "</li>\n",
              "\t<li><dl>\n",
              "\t<dt>$semilla</dt>\n",
              "\t\t<dd>663071</dd>\n",
              "\t<dt>$testing</dt>\n",
              "\t\t<dd>49397</dd>\n",
              "\t<dt>$testing_pos</dt>\n",
              "\t\t<dd>383</dd>\n",
              "\t<dt>$envios</dt>\n",
              "\t\t<dd>3236</dd>\n",
              "\t<dt>$aciertos</dt>\n",
              "\t\t<dd>194</dd>\n",
              "\t<dt>$ganancia_test</dt>\n",
              "\t\t<dd>45240000</dd>\n",
              "</dl>\n",
              "</li>\n",
              "\t<li><dl>\n",
              "\t<dt>$semilla</dt>\n",
              "\t\t<dd>261407</dd>\n",
              "\t<dt>$testing</dt>\n",
              "\t\t<dd>49372</dd>\n",
              "\t<dt>$testing_pos</dt>\n",
              "\t\t<dd>373</dd>\n",
              "\t<dt>$envios</dt>\n",
              "\t\t<dd>3768</dd>\n",
              "\t<dt>$aciertos</dt>\n",
              "\t\t<dd>219</dd>\n",
              "\t<dt>$ganancia_test</dt>\n",
              "\t\t<dd>49920000</dd>\n",
              "</dl>\n",
              "</li>\n",
              "\t<li><dl>\n",
              "\t<dt>$semilla</dt>\n",
              "\t\t<dd>271489</dd>\n",
              "\t<dt>$testing</dt>\n",
              "\t\t<dd>49369</dd>\n",
              "\t<dt>$testing_pos</dt>\n",
              "\t\t<dd>371</dd>\n",
              "\t<dt>$envios</dt>\n",
              "\t\t<dd>3482</dd>\n",
              "\t<dt>$aciertos</dt>\n",
              "\t\t<dd>210</dd>\n",
              "\t<dt>$ganancia_test</dt>\n",
              "\t\t<dd>49180000</dd>\n",
              "</dl>\n",
              "</li>\n",
              "\t<li><dl>\n",
              "\t<dt>$semilla</dt>\n",
              "\t\t<dd>966617</dd>\n",
              "\t<dt>$testing</dt>\n",
              "\t\t<dd>49364</dd>\n",
              "\t<dt>$testing_pos</dt>\n",
              "\t\t<dd>375</dd>\n",
              "\t<dt>$envios</dt>\n",
              "\t\t<dd>3503</dd>\n",
              "\t<dt>$aciertos</dt>\n",
              "\t\t<dd>209</dd>\n",
              "\t<dt>$ganancia_test</dt>\n",
              "\t\t<dd>48570000</dd>\n",
              "</dl>\n",
              "</li>\n",
              "\t<li><dl>\n",
              "\t<dt>$semilla</dt>\n",
              "\t\t<dd>817403</dd>\n",
              "\t<dt>$testing</dt>\n",
              "\t\t<dd>49372</dd>\n",
              "\t<dt>$testing_pos</dt>\n",
              "\t\t<dd>369</dd>\n",
              "\t<dt>$envios</dt>\n",
              "\t\t<dd>3541</dd>\n",
              "\t<dt>$aciertos</dt>\n",
              "\t\t<dd>208</dd>\n",
              "\t<dt>$ganancia_test</dt>\n",
              "\t\t<dd>47790000</dd>\n",
              "</dl>\n",
              "</li>\n",
              "\t<li><dl>\n",
              "\t<dt>$semilla</dt>\n",
              "\t\t<dd>175481</dd>\n",
              "\t<dt>$testing</dt>\n",
              "\t\t<dd>49385</dd>\n",
              "\t<dt>$testing_pos</dt>\n",
              "\t\t<dd>372</dd>\n",
              "\t<dt>$envios</dt>\n",
              "\t\t<dd>2563</dd>\n",
              "\t<dt>$aciertos</dt>\n",
              "\t\t<dd>179</dd>\n",
              "\t<dt>$ganancia_test</dt>\n",
              "\t\t<dd>45970000</dd>\n",
              "</dl>\n",
              "</li>\n",
              "\t<li><dl>\n",
              "\t<dt>$semilla</dt>\n",
              "\t\t<dd>447617</dd>\n",
              "\t<dt>$testing</dt>\n",
              "\t\t<dd>49380</dd>\n",
              "\t<dt>$testing_pos</dt>\n",
              "\t\t<dd>373</dd>\n",
              "\t<dt>$envios</dt>\n",
              "\t\t<dd>3441</dd>\n",
              "\t<dt>$aciertos</dt>\n",
              "\t\t<dd>203</dd>\n",
              "\t<dt>$ganancia_test</dt>\n",
              "\t\t<dd>46790000</dd>\n",
              "</dl>\n",
              "</li>\n",
              "\t<li><dl>\n",
              "\t<dt>$semilla</dt>\n",
              "\t\t<dd>202361</dd>\n",
              "\t<dt>$testing</dt>\n",
              "\t\t<dd>49368</dd>\n",
              "\t<dt>$testing_pos</dt>\n",
              "\t\t<dd>372</dd>\n",
              "\t<dt>$envios</dt>\n",
              "\t\t<dd>3608</dd>\n",
              "\t<dt>$aciertos</dt>\n",
              "\t\t<dd>215</dd>\n",
              "\t<dt>$ganancia_test</dt>\n",
              "\t\t<dd>49920000</dd>\n",
              "</dl>\n",
              "</li>\n",
              "\t<li><dl>\n",
              "\t<dt>$semilla</dt>\n",
              "\t\t<dd>575087</dd>\n",
              "\t<dt>$testing</dt>\n",
              "\t\t<dd>49374</dd>\n",
              "\t<dt>$testing_pos</dt>\n",
              "\t\t<dd>375</dd>\n",
              "\t<dt>$envios</dt>\n",
              "\t\t<dd>3221</dd>\n",
              "\t<dt>$aciertos</dt>\n",
              "\t\t<dd>199</dd>\n",
              "\t<dt>$ganancia_test</dt>\n",
              "\t\t<dd>47390000</dd>\n",
              "</dl>\n",
              "</li>\n",
              "\t<li><dl>\n",
              "\t<dt>$semilla</dt>\n",
              "\t\t<dd>398063</dd>\n",
              "\t<dt>$testing</dt>\n",
              "\t\t<dd>49392</dd>\n",
              "\t<dt>$testing_pos</dt>\n",
              "\t\t<dd>379</dd>\n",
              "\t<dt>$envios</dt>\n",
              "\t\t<dd>3224</dd>\n",
              "\t<dt>$aciertos</dt>\n",
              "\t\t<dd>206</dd>\n",
              "\t<dt>$ganancia_test</dt>\n",
              "\t\t<dd>50160000</dd>\n",
              "</dl>\n",
              "</li>\n",
              "\t<li><dl>\n",
              "\t<dt>$semilla</dt>\n",
              "\t\t<dd>353611</dd>\n",
              "\t<dt>$testing</dt>\n",
              "\t\t<dd>49370</dd>\n",
              "\t<dt>$testing_pos</dt>\n",
              "\t\t<dd>374</dd>\n",
              "\t<dt>$envios</dt>\n",
              "\t\t<dd>2483</dd>\n",
              "\t<dt>$aciertos</dt>\n",
              "\t\t<dd>177</dd>\n",
              "\t<dt>$ganancia_test</dt>\n",
              "\t\t<dd>45970000</dd>\n",
              "</dl>\n",
              "</li>\n",
              "\t<li><dl>\n",
              "\t<dt>$semilla</dt>\n",
              "\t\t<dd>206807</dd>\n",
              "\t<dt>$testing</dt>\n",
              "\t\t<dd>49382</dd>\n",
              "\t<dt>$testing_pos</dt>\n",
              "\t\t<dd>380</dd>\n",
              "\t<dt>$envios</dt>\n",
              "\t\t<dd>4054</dd>\n",
              "\t<dt>$aciertos</dt>\n",
              "\t\t<dd>228</dd>\n",
              "\t<dt>$ganancia_test</dt>\n",
              "\t\t<dd>50660000</dd>\n",
              "</dl>\n",
              "</li>\n",
              "\t<li><dl>\n",
              "\t<dt>$semilla</dt>\n",
              "\t\t<dd>206627</dd>\n",
              "\t<dt>$testing</dt>\n",
              "\t\t<dd>49374</dd>\n",
              "\t<dt>$testing_pos</dt>\n",
              "\t\t<dd>372</dd>\n",
              "\t<dt>$envios</dt>\n",
              "\t\t<dd>3634</dd>\n",
              "\t<dt>$aciertos</dt>\n",
              "\t\t<dd>212</dd>\n",
              "\t<dt>$ganancia_test</dt>\n",
              "\t\t<dd>48460000</dd>\n",
              "</dl>\n",
              "</li>\n",
              "\t<li><dl>\n",
              "\t<dt>$semilla</dt>\n",
              "\t\t<dd>290057</dd>\n",
              "\t<dt>$testing</dt>\n",
              "\t\t<dd>49363</dd>\n",
              "\t<dt>$testing_pos</dt>\n",
              "\t\t<dd>370</dd>\n",
              "\t<dt>$envios</dt>\n",
              "\t\t<dd>3442</dd>\n",
              "\t<dt>$aciertos</dt>\n",
              "\t\t<dd>199</dd>\n",
              "\t<dt>$ganancia_test</dt>\n",
              "\t\t<dd>45180000</dd>\n",
              "</dl>\n",
              "</li>\n",
              "\t<li><dl>\n",
              "\t<dt>$semilla</dt>\n",
              "\t\t<dd>169009</dd>\n",
              "\t<dt>$testing</dt>\n",
              "\t\t<dd>49370</dd>\n",
              "\t<dt>$testing_pos</dt>\n",
              "\t\t<dd>368</dd>\n",
              "\t<dt>$envios</dt>\n",
              "\t\t<dd>3581</dd>\n",
              "\t<dt>$aciertos</dt>\n",
              "\t\t<dd>198</dd>\n",
              "\t<dt>$ganancia_test</dt>\n",
              "\t\t<dd>43390000</dd>\n",
              "</dl>\n",
              "</li>\n",
              "</ol>\n"
            ],
            "text/markdown": "1. $semilla\n:   947621\n$testing\n:   49368\n$testing_pos\n:   369\n$envios\n:   3484\n$aciertos\n:   187\n$ganancia_test\n:   39960000\n\n\n\n2. $semilla\n:   343267\n$testing\n:   49370\n$testing_pos\n:   374\n$envios\n:   3585\n$aciertos\n:   205\n$ganancia_test\n:   46150000\n\n\n\n3. $semilla\n:   631259\n$testing\n:   49386\n$testing_pos\n:   372\n$envios\n:   3415\n$aciertos\n:   207\n$ganancia_test\n:   48650000\n\n\n\n4. $semilla\n:   289859\n$testing\n:   49378\n$testing_pos\n:   371\n$envios\n:   3006\n$aciertos\n:   181\n$ganancia_test\n:   42340000\n\n\n\n5. $semilla\n:   797933\n$testing\n:   49382\n$testing_pos\n:   372\n$envios\n:   2791\n$aciertos\n:   186\n$ganancia_test\n:   46490000\n\n\n\n6. $semilla\n:   770239\n$testing\n:   49375\n$testing_pos\n:   376\n$envios\n:   3732\n$aciertos\n:   213\n$ganancia_test\n:   47880000\n\n\n\n7. $semilla\n:   993437\n$testing\n:   49374\n$testing_pos\n:   370\n$envios\n:   4074\n$aciertos\n:   219\n$ganancia_test\n:   46860000\n\n\n\n8. $semilla\n:   110771\n$testing\n:   49385\n$testing_pos\n:   377\n$envios\n:   3098\n$aciertos\n:   196\n$ganancia_test\n:   47420000\n\n\n\n9. $semilla\n:   174017\n$testing\n:   49383\n$testing_pos\n:   374\n$envios\n:   3651\n$aciertos\n:   222\n$ganancia_test\n:   52290000\n\n\n\n10. $semilla\n:   330233\n$testing\n:   49375\n$testing_pos\n:   370\n$envios\n:   3879\n$aciertos\n:   202\n$ganancia_test\n:   42010000\n\n\n\n11. $semilla\n:   199657\n$testing\n:   49391\n$testing_pos\n:   378\n$envios\n:   3930\n$aciertos\n:   218\n$ganancia_test\n:   47900000\n\n\n\n12. $semilla\n:   276359\n$testing\n:   49372\n$testing_pos\n:   373\n$envios\n:   3965\n$aciertos\n:   227\n$ganancia_test\n:   51150000\n\n\n\n13. $semilla\n:   252173\n$testing\n:   49375\n$testing_pos\n:   378\n$envios\n:   3226\n$aciertos\n:   206\n$ganancia_test\n:   50140000\n\n\n\n14. $semilla\n:   197161\n$testing\n:   49378\n$testing_pos\n:   376\n$envios\n:   3078\n$aciertos\n:   198\n$ganancia_test\n:   48420000\n\n\n\n15. $semilla\n:   644359\n$testing\n:   49373\n$testing_pos\n:   377\n$envios\n:   3664\n$aciertos\n:   221\n$ganancia_test\n:   51760000\n\n\n\n16. $semilla\n:   308293\n$testing\n:   49380\n$testing_pos\n:   378\n$envios\n:   2974\n$aciertos\n:   196\n$ganancia_test\n:   48660000\n\n\n\n17. $semilla\n:   701447\n$testing\n:   49381\n$testing_pos\n:   373\n$envios\n:   2954\n$aciertos\n:   198\n$ganancia_test\n:   49660000\n\n\n\n18. $semilla\n:   386263\n$testing\n:   49373\n$testing_pos\n:   374\n$envios\n:   2890\n$aciertos\n:   196\n$ganancia_test\n:   49500000\n\n\n\n19. $semilla\n:   616433\n$testing\n:   49385\n$testing_pos\n:   374\n$envios\n:   3267\n$aciertos\n:   205\n$ganancia_test\n:   49330000\n\n\n\n20. $semilla\n:   975901\n$testing\n:   49365\n$testing_pos\n:   368\n$envios\n:   3435\n$aciertos\n:   207\n$ganancia_test\n:   48450000\n\n\n\n21. $semilla\n:   717419\n$testing\n:   49381\n$testing_pos\n:   377\n$envios\n:   4130\n$aciertos\n:   223\n$ganancia_test\n:   47900000\n\n\n\n22. $semilla\n:   401939\n$testing\n:   49375\n$testing_pos\n:   370\n$envios\n:   4459\n$aciertos\n:   236\n$ganancia_test\n:   49810000\n\n\n\n23. $semilla\n:   295417\n$testing\n:   49385\n$testing_pos\n:   377\n$envios\n:   3884\n$aciertos\n:   214\n$ganancia_test\n:   46760000\n\n\n\n24. $semilla\n:   844121\n$testing\n:   49389\n$testing_pos\n:   380\n$envios\n:   3736\n$aciertos\n:   221\n$ganancia_test\n:   51040000\n\n\n\n25. $semilla\n:   223151\n$testing\n:   49374\n$testing_pos\n:   369\n$envios\n:   2958\n$aciertos\n:   195\n$ganancia_test\n:   48420000\n\n\n\n26. $semilla\n:   391619\n$testing\n:   49381\n$testing_pos\n:   375\n$envios\n:   3745\n$aciertos\n:   216\n$ganancia_test\n:   48950000\n\n\n\n27. $semilla\n:   749653\n$testing\n:   49380\n$testing_pos\n:   373\n$envios\n:   3505\n$aciertos\n:   206\n$ganancia_test\n:   47350000\n\n\n\n28. $semilla\n:   730637\n$testing\n:   49381\n$testing_pos\n:   372\n$envios\n:   4181\n$aciertos\n:   228\n$ganancia_test\n:   49390000\n\n\n\n29. $semilla\n:   678637\n$testing\n:   49384\n$testing_pos\n:   381\n$envios\n:   3570\n$aciertos\n:   212\n$ganancia_test\n:   49100000\n\n\n\n30. $semilla\n:   576883\n$testing\n:   49389\n$testing_pos\n:   382\n$envios\n:   2775\n$aciertos\n:   198\n$ganancia_test\n:   51450000\n\n\n\n31. $semilla\n:   794531\n$testing\n:   49378\n$testing_pos\n:   375\n$envios\n:   3309\n$aciertos\n:   197\n$ganancia_test\n:   45710000\n\n\n\n32. $semilla\n:   615233\n$testing\n:   49371\n$testing_pos\n:   369\n$envios\n:   2810\n$aciertos\n:   178\n$ganancia_test\n:   43100000\n\n\n\n33. $semilla\n:   697381\n$testing\n:   49378\n$testing_pos\n:   369\n$envios\n:   3108\n$aciertos\n:   204\n$ganancia_test\n:   50520000\n\n\n\n34. $semilla\n:   504677\n$testing\n:   49376\n$testing_pos\n:   375\n$envios\n:   3833\n$aciertos\n:   215\n$ganancia_test\n:   47670000\n\n\n\n35. $semilla\n:   573737\n$testing\n:   49392\n$testing_pos\n:   376\n$envios\n:   3364\n$aciertos\n:   190\n$ganancia_test\n:   42360000\n\n\n\n36. $semilla\n:   663071\n$testing\n:   49397\n$testing_pos\n:   383\n$envios\n:   3236\n$aciertos\n:   194\n$ganancia_test\n:   45240000\n\n\n\n37. $semilla\n:   261407\n$testing\n:   49372\n$testing_pos\n:   373\n$envios\n:   3768\n$aciertos\n:   219\n$ganancia_test\n:   49920000\n\n\n\n38. $semilla\n:   271489\n$testing\n:   49369\n$testing_pos\n:   371\n$envios\n:   3482\n$aciertos\n:   210\n$ganancia_test\n:   49180000\n\n\n\n39. $semilla\n:   966617\n$testing\n:   49364\n$testing_pos\n:   375\n$envios\n:   3503\n$aciertos\n:   209\n$ganancia_test\n:   48570000\n\n\n\n40. $semilla\n:   817403\n$testing\n:   49372\n$testing_pos\n:   369\n$envios\n:   3541\n$aciertos\n:   208\n$ganancia_test\n:   47790000\n\n\n\n41. $semilla\n:   175481\n$testing\n:   49385\n$testing_pos\n:   372\n$envios\n:   2563\n$aciertos\n:   179\n$ganancia_test\n:   45970000\n\n\n\n42. $semilla\n:   447617\n$testing\n:   49380\n$testing_pos\n:   373\n$envios\n:   3441\n$aciertos\n:   203\n$ganancia_test\n:   46790000\n\n\n\n43. $semilla\n:   202361\n$testing\n:   49368\n$testing_pos\n:   372\n$envios\n:   3608\n$aciertos\n:   215\n$ganancia_test\n:   49920000\n\n\n\n44. $semilla\n:   575087\n$testing\n:   49374\n$testing_pos\n:   375\n$envios\n:   3221\n$aciertos\n:   199\n$ganancia_test\n:   47390000\n\n\n\n45. $semilla\n:   398063\n$testing\n:   49392\n$testing_pos\n:   379\n$envios\n:   3224\n$aciertos\n:   206\n$ganancia_test\n:   50160000\n\n\n\n46. $semilla\n:   353611\n$testing\n:   49370\n$testing_pos\n:   374\n$envios\n:   2483\n$aciertos\n:   177\n$ganancia_test\n:   45970000\n\n\n\n47. $semilla\n:   206807\n$testing\n:   49382\n$testing_pos\n:   380\n$envios\n:   4054\n$aciertos\n:   228\n$ganancia_test\n:   50660000\n\n\n\n48. $semilla\n:   206627\n$testing\n:   49374\n$testing_pos\n:   372\n$envios\n:   3634\n$aciertos\n:   212\n$ganancia_test\n:   48460000\n\n\n\n49. $semilla\n:   290057\n$testing\n:   49363\n$testing_pos\n:   370\n$envios\n:   3442\n$aciertos\n:   199\n$ganancia_test\n:   45180000\n\n\n\n50. $semilla\n:   169009\n$testing\n:   49370\n$testing_pos\n:   368\n$envios\n:   3581\n$aciertos\n:   198\n$ganancia_test\n:   43390000\n\n\n\n\n\n",
            "text/latex": "\\begin{enumerate}\n\\item \\begin{description}\n\\item[\\$semilla] 947621\n\\item[\\$testing] 49368\n\\item[\\$testing\\_pos] 369\n\\item[\\$envios] 3484\n\\item[\\$aciertos] 187\n\\item[\\$ganancia\\_test] 39960000\n\\end{description}\n\n\\item \\begin{description}\n\\item[\\$semilla] 343267\n\\item[\\$testing] 49370\n\\item[\\$testing\\_pos] 374\n\\item[\\$envios] 3585\n\\item[\\$aciertos] 205\n\\item[\\$ganancia\\_test] 46150000\n\\end{description}\n\n\\item \\begin{description}\n\\item[\\$semilla] 631259\n\\item[\\$testing] 49386\n\\item[\\$testing\\_pos] 372\n\\item[\\$envios] 3415\n\\item[\\$aciertos] 207\n\\item[\\$ganancia\\_test] 48650000\n\\end{description}\n\n\\item \\begin{description}\n\\item[\\$semilla] 289859\n\\item[\\$testing] 49378\n\\item[\\$testing\\_pos] 371\n\\item[\\$envios] 3006\n\\item[\\$aciertos] 181\n\\item[\\$ganancia\\_test] 42340000\n\\end{description}\n\n\\item \\begin{description}\n\\item[\\$semilla] 797933\n\\item[\\$testing] 49382\n\\item[\\$testing\\_pos] 372\n\\item[\\$envios] 2791\n\\item[\\$aciertos] 186\n\\item[\\$ganancia\\_test] 46490000\n\\end{description}\n\n\\item \\begin{description}\n\\item[\\$semilla] 770239\n\\item[\\$testing] 49375\n\\item[\\$testing\\_pos] 376\n\\item[\\$envios] 3732\n\\item[\\$aciertos] 213\n\\item[\\$ganancia\\_test] 47880000\n\\end{description}\n\n\\item \\begin{description}\n\\item[\\$semilla] 993437\n\\item[\\$testing] 49374\n\\item[\\$testing\\_pos] 370\n\\item[\\$envios] 4074\n\\item[\\$aciertos] 219\n\\item[\\$ganancia\\_test] 46860000\n\\end{description}\n\n\\item \\begin{description}\n\\item[\\$semilla] 110771\n\\item[\\$testing] 49385\n\\item[\\$testing\\_pos] 377\n\\item[\\$envios] 3098\n\\item[\\$aciertos] 196\n\\item[\\$ganancia\\_test] 47420000\n\\end{description}\n\n\\item \\begin{description}\n\\item[\\$semilla] 174017\n\\item[\\$testing] 49383\n\\item[\\$testing\\_pos] 374\n\\item[\\$envios] 3651\n\\item[\\$aciertos] 222\n\\item[\\$ganancia\\_test] 52290000\n\\end{description}\n\n\\item \\begin{description}\n\\item[\\$semilla] 330233\n\\item[\\$testing] 49375\n\\item[\\$testing\\_pos] 370\n\\item[\\$envios] 3879\n\\item[\\$aciertos] 202\n\\item[\\$ganancia\\_test] 42010000\n\\end{description}\n\n\\item \\begin{description}\n\\item[\\$semilla] 199657\n\\item[\\$testing] 49391\n\\item[\\$testing\\_pos] 378\n\\item[\\$envios] 3930\n\\item[\\$aciertos] 218\n\\item[\\$ganancia\\_test] 47900000\n\\end{description}\n\n\\item \\begin{description}\n\\item[\\$semilla] 276359\n\\item[\\$testing] 49372\n\\item[\\$testing\\_pos] 373\n\\item[\\$envios] 3965\n\\item[\\$aciertos] 227\n\\item[\\$ganancia\\_test] 51150000\n\\end{description}\n\n\\item \\begin{description}\n\\item[\\$semilla] 252173\n\\item[\\$testing] 49375\n\\item[\\$testing\\_pos] 378\n\\item[\\$envios] 3226\n\\item[\\$aciertos] 206\n\\item[\\$ganancia\\_test] 50140000\n\\end{description}\n\n\\item \\begin{description}\n\\item[\\$semilla] 197161\n\\item[\\$testing] 49378\n\\item[\\$testing\\_pos] 376\n\\item[\\$envios] 3078\n\\item[\\$aciertos] 198\n\\item[\\$ganancia\\_test] 48420000\n\\end{description}\n\n\\item \\begin{description}\n\\item[\\$semilla] 644359\n\\item[\\$testing] 49373\n\\item[\\$testing\\_pos] 377\n\\item[\\$envios] 3664\n\\item[\\$aciertos] 221\n\\item[\\$ganancia\\_test] 51760000\n\\end{description}\n\n\\item \\begin{description}\n\\item[\\$semilla] 308293\n\\item[\\$testing] 49380\n\\item[\\$testing\\_pos] 378\n\\item[\\$envios] 2974\n\\item[\\$aciertos] 196\n\\item[\\$ganancia\\_test] 48660000\n\\end{description}\n\n\\item \\begin{description}\n\\item[\\$semilla] 701447\n\\item[\\$testing] 49381\n\\item[\\$testing\\_pos] 373\n\\item[\\$envios] 2954\n\\item[\\$aciertos] 198\n\\item[\\$ganancia\\_test] 49660000\n\\end{description}\n\n\\item \\begin{description}\n\\item[\\$semilla] 386263\n\\item[\\$testing] 49373\n\\item[\\$testing\\_pos] 374\n\\item[\\$envios] 2890\n\\item[\\$aciertos] 196\n\\item[\\$ganancia\\_test] 49500000\n\\end{description}\n\n\\item \\begin{description}\n\\item[\\$semilla] 616433\n\\item[\\$testing] 49385\n\\item[\\$testing\\_pos] 374\n\\item[\\$envios] 3267\n\\item[\\$aciertos] 205\n\\item[\\$ganancia\\_test] 49330000\n\\end{description}\n\n\\item \\begin{description}\n\\item[\\$semilla] 975901\n\\item[\\$testing] 49365\n\\item[\\$testing\\_pos] 368\n\\item[\\$envios] 3435\n\\item[\\$aciertos] 207\n\\item[\\$ganancia\\_test] 48450000\n\\end{description}\n\n\\item \\begin{description}\n\\item[\\$semilla] 717419\n\\item[\\$testing] 49381\n\\item[\\$testing\\_pos] 377\n\\item[\\$envios] 4130\n\\item[\\$aciertos] 223\n\\item[\\$ganancia\\_test] 47900000\n\\end{description}\n\n\\item \\begin{description}\n\\item[\\$semilla] 401939\n\\item[\\$testing] 49375\n\\item[\\$testing\\_pos] 370\n\\item[\\$envios] 4459\n\\item[\\$aciertos] 236\n\\item[\\$ganancia\\_test] 49810000\n\\end{description}\n\n\\item \\begin{description}\n\\item[\\$semilla] 295417\n\\item[\\$testing] 49385\n\\item[\\$testing\\_pos] 377\n\\item[\\$envios] 3884\n\\item[\\$aciertos] 214\n\\item[\\$ganancia\\_test] 46760000\n\\end{description}\n\n\\item \\begin{description}\n\\item[\\$semilla] 844121\n\\item[\\$testing] 49389\n\\item[\\$testing\\_pos] 380\n\\item[\\$envios] 3736\n\\item[\\$aciertos] 221\n\\item[\\$ganancia\\_test] 51040000\n\\end{description}\n\n\\item \\begin{description}\n\\item[\\$semilla] 223151\n\\item[\\$testing] 49374\n\\item[\\$testing\\_pos] 369\n\\item[\\$envios] 2958\n\\item[\\$aciertos] 195\n\\item[\\$ganancia\\_test] 48420000\n\\end{description}\n\n\\item \\begin{description}\n\\item[\\$semilla] 391619\n\\item[\\$testing] 49381\n\\item[\\$testing\\_pos] 375\n\\item[\\$envios] 3745\n\\item[\\$aciertos] 216\n\\item[\\$ganancia\\_test] 48950000\n\\end{description}\n\n\\item \\begin{description}\n\\item[\\$semilla] 749653\n\\item[\\$testing] 49380\n\\item[\\$testing\\_pos] 373\n\\item[\\$envios] 3505\n\\item[\\$aciertos] 206\n\\item[\\$ganancia\\_test] 47350000\n\\end{description}\n\n\\item \\begin{description}\n\\item[\\$semilla] 730637\n\\item[\\$testing] 49381\n\\item[\\$testing\\_pos] 372\n\\item[\\$envios] 4181\n\\item[\\$aciertos] 228\n\\item[\\$ganancia\\_test] 49390000\n\\end{description}\n\n\\item \\begin{description}\n\\item[\\$semilla] 678637\n\\item[\\$testing] 49384\n\\item[\\$testing\\_pos] 381\n\\item[\\$envios] 3570\n\\item[\\$aciertos] 212\n\\item[\\$ganancia\\_test] 49100000\n\\end{description}\n\n\\item \\begin{description}\n\\item[\\$semilla] 576883\n\\item[\\$testing] 49389\n\\item[\\$testing\\_pos] 382\n\\item[\\$envios] 2775\n\\item[\\$aciertos] 198\n\\item[\\$ganancia\\_test] 51450000\n\\end{description}\n\n\\item \\begin{description}\n\\item[\\$semilla] 794531\n\\item[\\$testing] 49378\n\\item[\\$testing\\_pos] 375\n\\item[\\$envios] 3309\n\\item[\\$aciertos] 197\n\\item[\\$ganancia\\_test] 45710000\n\\end{description}\n\n\\item \\begin{description}\n\\item[\\$semilla] 615233\n\\item[\\$testing] 49371\n\\item[\\$testing\\_pos] 369\n\\item[\\$envios] 2810\n\\item[\\$aciertos] 178\n\\item[\\$ganancia\\_test] 43100000\n\\end{description}\n\n\\item \\begin{description}\n\\item[\\$semilla] 697381\n\\item[\\$testing] 49378\n\\item[\\$testing\\_pos] 369\n\\item[\\$envios] 3108\n\\item[\\$aciertos] 204\n\\item[\\$ganancia\\_test] 50520000\n\\end{description}\n\n\\item \\begin{description}\n\\item[\\$semilla] 504677\n\\item[\\$testing] 49376\n\\item[\\$testing\\_pos] 375\n\\item[\\$envios] 3833\n\\item[\\$aciertos] 215\n\\item[\\$ganancia\\_test] 47670000\n\\end{description}\n\n\\item \\begin{description}\n\\item[\\$semilla] 573737\n\\item[\\$testing] 49392\n\\item[\\$testing\\_pos] 376\n\\item[\\$envios] 3364\n\\item[\\$aciertos] 190\n\\item[\\$ganancia\\_test] 42360000\n\\end{description}\n\n\\item \\begin{description}\n\\item[\\$semilla] 663071\n\\item[\\$testing] 49397\n\\item[\\$testing\\_pos] 383\n\\item[\\$envios] 3236\n\\item[\\$aciertos] 194\n\\item[\\$ganancia\\_test] 45240000\n\\end{description}\n\n\\item \\begin{description}\n\\item[\\$semilla] 261407\n\\item[\\$testing] 49372\n\\item[\\$testing\\_pos] 373\n\\item[\\$envios] 3768\n\\item[\\$aciertos] 219\n\\item[\\$ganancia\\_test] 49920000\n\\end{description}\n\n\\item \\begin{description}\n\\item[\\$semilla] 271489\n\\item[\\$testing] 49369\n\\item[\\$testing\\_pos] 371\n\\item[\\$envios] 3482\n\\item[\\$aciertos] 210\n\\item[\\$ganancia\\_test] 49180000\n\\end{description}\n\n\\item \\begin{description}\n\\item[\\$semilla] 966617\n\\item[\\$testing] 49364\n\\item[\\$testing\\_pos] 375\n\\item[\\$envios] 3503\n\\item[\\$aciertos] 209\n\\item[\\$ganancia\\_test] 48570000\n\\end{description}\n\n\\item \\begin{description}\n\\item[\\$semilla] 817403\n\\item[\\$testing] 49372\n\\item[\\$testing\\_pos] 369\n\\item[\\$envios] 3541\n\\item[\\$aciertos] 208\n\\item[\\$ganancia\\_test] 47790000\n\\end{description}\n\n\\item \\begin{description}\n\\item[\\$semilla] 175481\n\\item[\\$testing] 49385\n\\item[\\$testing\\_pos] 372\n\\item[\\$envios] 2563\n\\item[\\$aciertos] 179\n\\item[\\$ganancia\\_test] 45970000\n\\end{description}\n\n\\item \\begin{description}\n\\item[\\$semilla] 447617\n\\item[\\$testing] 49380\n\\item[\\$testing\\_pos] 373\n\\item[\\$envios] 3441\n\\item[\\$aciertos] 203\n\\item[\\$ganancia\\_test] 46790000\n\\end{description}\n\n\\item \\begin{description}\n\\item[\\$semilla] 202361\n\\item[\\$testing] 49368\n\\item[\\$testing\\_pos] 372\n\\item[\\$envios] 3608\n\\item[\\$aciertos] 215\n\\item[\\$ganancia\\_test] 49920000\n\\end{description}\n\n\\item \\begin{description}\n\\item[\\$semilla] 575087\n\\item[\\$testing] 49374\n\\item[\\$testing\\_pos] 375\n\\item[\\$envios] 3221\n\\item[\\$aciertos] 199\n\\item[\\$ganancia\\_test] 47390000\n\\end{description}\n\n\\item \\begin{description}\n\\item[\\$semilla] 398063\n\\item[\\$testing] 49392\n\\item[\\$testing\\_pos] 379\n\\item[\\$envios] 3224\n\\item[\\$aciertos] 206\n\\item[\\$ganancia\\_test] 50160000\n\\end{description}\n\n\\item \\begin{description}\n\\item[\\$semilla] 353611\n\\item[\\$testing] 49370\n\\item[\\$testing\\_pos] 374\n\\item[\\$envios] 2483\n\\item[\\$aciertos] 177\n\\item[\\$ganancia\\_test] 45970000\n\\end{description}\n\n\\item \\begin{description}\n\\item[\\$semilla] 206807\n\\item[\\$testing] 49382\n\\item[\\$testing\\_pos] 380\n\\item[\\$envios] 4054\n\\item[\\$aciertos] 228\n\\item[\\$ganancia\\_test] 50660000\n\\end{description}\n\n\\item \\begin{description}\n\\item[\\$semilla] 206627\n\\item[\\$testing] 49374\n\\item[\\$testing\\_pos] 372\n\\item[\\$envios] 3634\n\\item[\\$aciertos] 212\n\\item[\\$ganancia\\_test] 48460000\n\\end{description}\n\n\\item \\begin{description}\n\\item[\\$semilla] 290057\n\\item[\\$testing] 49363\n\\item[\\$testing\\_pos] 370\n\\item[\\$envios] 3442\n\\item[\\$aciertos] 199\n\\item[\\$ganancia\\_test] 45180000\n\\end{description}\n\n\\item \\begin{description}\n\\item[\\$semilla] 169009\n\\item[\\$testing] 49370\n\\item[\\$testing\\_pos] 368\n\\item[\\$envios] 3581\n\\item[\\$aciertos] 198\n\\item[\\$ganancia\\_test] 43390000\n\\end{description}\n\n\\end{enumerate}\n",
            "text/plain": [
              "[[1]]\n",
              "[[1]]$semilla\n",
              "[1] 947621\n",
              "\n",
              "[[1]]$testing\n",
              "[1] 49368\n",
              "\n",
              "[[1]]$testing_pos\n",
              "[1] 369\n",
              "\n",
              "[[1]]$envios\n",
              "[1] 3484\n",
              "\n",
              "[[1]]$aciertos\n",
              "[1] 187\n",
              "\n",
              "[[1]]$ganancia_test\n",
              "[1] 39960000\n",
              "\n",
              "\n",
              "[[2]]\n",
              "[[2]]$semilla\n",
              "[1] 343267\n",
              "\n",
              "[[2]]$testing\n",
              "[1] 49370\n",
              "\n",
              "[[2]]$testing_pos\n",
              "[1] 374\n",
              "\n",
              "[[2]]$envios\n",
              "[1] 3585\n",
              "\n",
              "[[2]]$aciertos\n",
              "[1] 205\n",
              "\n",
              "[[2]]$ganancia_test\n",
              "[1] 46150000\n",
              "\n",
              "\n",
              "[[3]]\n",
              "[[3]]$semilla\n",
              "[1] 631259\n",
              "\n",
              "[[3]]$testing\n",
              "[1] 49386\n",
              "\n",
              "[[3]]$testing_pos\n",
              "[1] 372\n",
              "\n",
              "[[3]]$envios\n",
              "[1] 3415\n",
              "\n",
              "[[3]]$aciertos\n",
              "[1] 207\n",
              "\n",
              "[[3]]$ganancia_test\n",
              "[1] 48650000\n",
              "\n",
              "\n",
              "[[4]]\n",
              "[[4]]$semilla\n",
              "[1] 289859\n",
              "\n",
              "[[4]]$testing\n",
              "[1] 49378\n",
              "\n",
              "[[4]]$testing_pos\n",
              "[1] 371\n",
              "\n",
              "[[4]]$envios\n",
              "[1] 3006\n",
              "\n",
              "[[4]]$aciertos\n",
              "[1] 181\n",
              "\n",
              "[[4]]$ganancia_test\n",
              "[1] 42340000\n",
              "\n",
              "\n",
              "[[5]]\n",
              "[[5]]$semilla\n",
              "[1] 797933\n",
              "\n",
              "[[5]]$testing\n",
              "[1] 49382\n",
              "\n",
              "[[5]]$testing_pos\n",
              "[1] 372\n",
              "\n",
              "[[5]]$envios\n",
              "[1] 2791\n",
              "\n",
              "[[5]]$aciertos\n",
              "[1] 186\n",
              "\n",
              "[[5]]$ganancia_test\n",
              "[1] 46490000\n",
              "\n",
              "\n",
              "[[6]]\n",
              "[[6]]$semilla\n",
              "[1] 770239\n",
              "\n",
              "[[6]]$testing\n",
              "[1] 49375\n",
              "\n",
              "[[6]]$testing_pos\n",
              "[1] 376\n",
              "\n",
              "[[6]]$envios\n",
              "[1] 3732\n",
              "\n",
              "[[6]]$aciertos\n",
              "[1] 213\n",
              "\n",
              "[[6]]$ganancia_test\n",
              "[1] 47880000\n",
              "\n",
              "\n",
              "[[7]]\n",
              "[[7]]$semilla\n",
              "[1] 993437\n",
              "\n",
              "[[7]]$testing\n",
              "[1] 49374\n",
              "\n",
              "[[7]]$testing_pos\n",
              "[1] 370\n",
              "\n",
              "[[7]]$envios\n",
              "[1] 4074\n",
              "\n",
              "[[7]]$aciertos\n",
              "[1] 219\n",
              "\n",
              "[[7]]$ganancia_test\n",
              "[1] 46860000\n",
              "\n",
              "\n",
              "[[8]]\n",
              "[[8]]$semilla\n",
              "[1] 110771\n",
              "\n",
              "[[8]]$testing\n",
              "[1] 49385\n",
              "\n",
              "[[8]]$testing_pos\n",
              "[1] 377\n",
              "\n",
              "[[8]]$envios\n",
              "[1] 3098\n",
              "\n",
              "[[8]]$aciertos\n",
              "[1] 196\n",
              "\n",
              "[[8]]$ganancia_test\n",
              "[1] 47420000\n",
              "\n",
              "\n",
              "[[9]]\n",
              "[[9]]$semilla\n",
              "[1] 174017\n",
              "\n",
              "[[9]]$testing\n",
              "[1] 49383\n",
              "\n",
              "[[9]]$testing_pos\n",
              "[1] 374\n",
              "\n",
              "[[9]]$envios\n",
              "[1] 3651\n",
              "\n",
              "[[9]]$aciertos\n",
              "[1] 222\n",
              "\n",
              "[[9]]$ganancia_test\n",
              "[1] 52290000\n",
              "\n",
              "\n",
              "[[10]]\n",
              "[[10]]$semilla\n",
              "[1] 330233\n",
              "\n",
              "[[10]]$testing\n",
              "[1] 49375\n",
              "\n",
              "[[10]]$testing_pos\n",
              "[1] 370\n",
              "\n",
              "[[10]]$envios\n",
              "[1] 3879\n",
              "\n",
              "[[10]]$aciertos\n",
              "[1] 202\n",
              "\n",
              "[[10]]$ganancia_test\n",
              "[1] 42010000\n",
              "\n",
              "\n",
              "[[11]]\n",
              "[[11]]$semilla\n",
              "[1] 199657\n",
              "\n",
              "[[11]]$testing\n",
              "[1] 49391\n",
              "\n",
              "[[11]]$testing_pos\n",
              "[1] 378\n",
              "\n",
              "[[11]]$envios\n",
              "[1] 3930\n",
              "\n",
              "[[11]]$aciertos\n",
              "[1] 218\n",
              "\n",
              "[[11]]$ganancia_test\n",
              "[1] 47900000\n",
              "\n",
              "\n",
              "[[12]]\n",
              "[[12]]$semilla\n",
              "[1] 276359\n",
              "\n",
              "[[12]]$testing\n",
              "[1] 49372\n",
              "\n",
              "[[12]]$testing_pos\n",
              "[1] 373\n",
              "\n",
              "[[12]]$envios\n",
              "[1] 3965\n",
              "\n",
              "[[12]]$aciertos\n",
              "[1] 227\n",
              "\n",
              "[[12]]$ganancia_test\n",
              "[1] 51150000\n",
              "\n",
              "\n",
              "[[13]]\n",
              "[[13]]$semilla\n",
              "[1] 252173\n",
              "\n",
              "[[13]]$testing\n",
              "[1] 49375\n",
              "\n",
              "[[13]]$testing_pos\n",
              "[1] 378\n",
              "\n",
              "[[13]]$envios\n",
              "[1] 3226\n",
              "\n",
              "[[13]]$aciertos\n",
              "[1] 206\n",
              "\n",
              "[[13]]$ganancia_test\n",
              "[1] 50140000\n",
              "\n",
              "\n",
              "[[14]]\n",
              "[[14]]$semilla\n",
              "[1] 197161\n",
              "\n",
              "[[14]]$testing\n",
              "[1] 49378\n",
              "\n",
              "[[14]]$testing_pos\n",
              "[1] 376\n",
              "\n",
              "[[14]]$envios\n",
              "[1] 3078\n",
              "\n",
              "[[14]]$aciertos\n",
              "[1] 198\n",
              "\n",
              "[[14]]$ganancia_test\n",
              "[1] 48420000\n",
              "\n",
              "\n",
              "[[15]]\n",
              "[[15]]$semilla\n",
              "[1] 644359\n",
              "\n",
              "[[15]]$testing\n",
              "[1] 49373\n",
              "\n",
              "[[15]]$testing_pos\n",
              "[1] 377\n",
              "\n",
              "[[15]]$envios\n",
              "[1] 3664\n",
              "\n",
              "[[15]]$aciertos\n",
              "[1] 221\n",
              "\n",
              "[[15]]$ganancia_test\n",
              "[1] 51760000\n",
              "\n",
              "\n",
              "[[16]]\n",
              "[[16]]$semilla\n",
              "[1] 308293\n",
              "\n",
              "[[16]]$testing\n",
              "[1] 49380\n",
              "\n",
              "[[16]]$testing_pos\n",
              "[1] 378\n",
              "\n",
              "[[16]]$envios\n",
              "[1] 2974\n",
              "\n",
              "[[16]]$aciertos\n",
              "[1] 196\n",
              "\n",
              "[[16]]$ganancia_test\n",
              "[1] 48660000\n",
              "\n",
              "\n",
              "[[17]]\n",
              "[[17]]$semilla\n",
              "[1] 701447\n",
              "\n",
              "[[17]]$testing\n",
              "[1] 49381\n",
              "\n",
              "[[17]]$testing_pos\n",
              "[1] 373\n",
              "\n",
              "[[17]]$envios\n",
              "[1] 2954\n",
              "\n",
              "[[17]]$aciertos\n",
              "[1] 198\n",
              "\n",
              "[[17]]$ganancia_test\n",
              "[1] 49660000\n",
              "\n",
              "\n",
              "[[18]]\n",
              "[[18]]$semilla\n",
              "[1] 386263\n",
              "\n",
              "[[18]]$testing\n",
              "[1] 49373\n",
              "\n",
              "[[18]]$testing_pos\n",
              "[1] 374\n",
              "\n",
              "[[18]]$envios\n",
              "[1] 2890\n",
              "\n",
              "[[18]]$aciertos\n",
              "[1] 196\n",
              "\n",
              "[[18]]$ganancia_test\n",
              "[1] 49500000\n",
              "\n",
              "\n",
              "[[19]]\n",
              "[[19]]$semilla\n",
              "[1] 616433\n",
              "\n",
              "[[19]]$testing\n",
              "[1] 49385\n",
              "\n",
              "[[19]]$testing_pos\n",
              "[1] 374\n",
              "\n",
              "[[19]]$envios\n",
              "[1] 3267\n",
              "\n",
              "[[19]]$aciertos\n",
              "[1] 205\n",
              "\n",
              "[[19]]$ganancia_test\n",
              "[1] 49330000\n",
              "\n",
              "\n",
              "[[20]]\n",
              "[[20]]$semilla\n",
              "[1] 975901\n",
              "\n",
              "[[20]]$testing\n",
              "[1] 49365\n",
              "\n",
              "[[20]]$testing_pos\n",
              "[1] 368\n",
              "\n",
              "[[20]]$envios\n",
              "[1] 3435\n",
              "\n",
              "[[20]]$aciertos\n",
              "[1] 207\n",
              "\n",
              "[[20]]$ganancia_test\n",
              "[1] 48450000\n",
              "\n",
              "\n",
              "[[21]]\n",
              "[[21]]$semilla\n",
              "[1] 717419\n",
              "\n",
              "[[21]]$testing\n",
              "[1] 49381\n",
              "\n",
              "[[21]]$testing_pos\n",
              "[1] 377\n",
              "\n",
              "[[21]]$envios\n",
              "[1] 4130\n",
              "\n",
              "[[21]]$aciertos\n",
              "[1] 223\n",
              "\n",
              "[[21]]$ganancia_test\n",
              "[1] 47900000\n",
              "\n",
              "\n",
              "[[22]]\n",
              "[[22]]$semilla\n",
              "[1] 401939\n",
              "\n",
              "[[22]]$testing\n",
              "[1] 49375\n",
              "\n",
              "[[22]]$testing_pos\n",
              "[1] 370\n",
              "\n",
              "[[22]]$envios\n",
              "[1] 4459\n",
              "\n",
              "[[22]]$aciertos\n",
              "[1] 236\n",
              "\n",
              "[[22]]$ganancia_test\n",
              "[1] 49810000\n",
              "\n",
              "\n",
              "[[23]]\n",
              "[[23]]$semilla\n",
              "[1] 295417\n",
              "\n",
              "[[23]]$testing\n",
              "[1] 49385\n",
              "\n",
              "[[23]]$testing_pos\n",
              "[1] 377\n",
              "\n",
              "[[23]]$envios\n",
              "[1] 3884\n",
              "\n",
              "[[23]]$aciertos\n",
              "[1] 214\n",
              "\n",
              "[[23]]$ganancia_test\n",
              "[1] 46760000\n",
              "\n",
              "\n",
              "[[24]]\n",
              "[[24]]$semilla\n",
              "[1] 844121\n",
              "\n",
              "[[24]]$testing\n",
              "[1] 49389\n",
              "\n",
              "[[24]]$testing_pos\n",
              "[1] 380\n",
              "\n",
              "[[24]]$envios\n",
              "[1] 3736\n",
              "\n",
              "[[24]]$aciertos\n",
              "[1] 221\n",
              "\n",
              "[[24]]$ganancia_test\n",
              "[1] 51040000\n",
              "\n",
              "\n",
              "[[25]]\n",
              "[[25]]$semilla\n",
              "[1] 223151\n",
              "\n",
              "[[25]]$testing\n",
              "[1] 49374\n",
              "\n",
              "[[25]]$testing_pos\n",
              "[1] 369\n",
              "\n",
              "[[25]]$envios\n",
              "[1] 2958\n",
              "\n",
              "[[25]]$aciertos\n",
              "[1] 195\n",
              "\n",
              "[[25]]$ganancia_test\n",
              "[1] 48420000\n",
              "\n",
              "\n",
              "[[26]]\n",
              "[[26]]$semilla\n",
              "[1] 391619\n",
              "\n",
              "[[26]]$testing\n",
              "[1] 49381\n",
              "\n",
              "[[26]]$testing_pos\n",
              "[1] 375\n",
              "\n",
              "[[26]]$envios\n",
              "[1] 3745\n",
              "\n",
              "[[26]]$aciertos\n",
              "[1] 216\n",
              "\n",
              "[[26]]$ganancia_test\n",
              "[1] 48950000\n",
              "\n",
              "\n",
              "[[27]]\n",
              "[[27]]$semilla\n",
              "[1] 749653\n",
              "\n",
              "[[27]]$testing\n",
              "[1] 49380\n",
              "\n",
              "[[27]]$testing_pos\n",
              "[1] 373\n",
              "\n",
              "[[27]]$envios\n",
              "[1] 3505\n",
              "\n",
              "[[27]]$aciertos\n",
              "[1] 206\n",
              "\n",
              "[[27]]$ganancia_test\n",
              "[1] 47350000\n",
              "\n",
              "\n",
              "[[28]]\n",
              "[[28]]$semilla\n",
              "[1] 730637\n",
              "\n",
              "[[28]]$testing\n",
              "[1] 49381\n",
              "\n",
              "[[28]]$testing_pos\n",
              "[1] 372\n",
              "\n",
              "[[28]]$envios\n",
              "[1] 4181\n",
              "\n",
              "[[28]]$aciertos\n",
              "[1] 228\n",
              "\n",
              "[[28]]$ganancia_test\n",
              "[1] 49390000\n",
              "\n",
              "\n",
              "[[29]]\n",
              "[[29]]$semilla\n",
              "[1] 678637\n",
              "\n",
              "[[29]]$testing\n",
              "[1] 49384\n",
              "\n",
              "[[29]]$testing_pos\n",
              "[1] 381\n",
              "\n",
              "[[29]]$envios\n",
              "[1] 3570\n",
              "\n",
              "[[29]]$aciertos\n",
              "[1] 212\n",
              "\n",
              "[[29]]$ganancia_test\n",
              "[1] 49100000\n",
              "\n",
              "\n",
              "[[30]]\n",
              "[[30]]$semilla\n",
              "[1] 576883\n",
              "\n",
              "[[30]]$testing\n",
              "[1] 49389\n",
              "\n",
              "[[30]]$testing_pos\n",
              "[1] 382\n",
              "\n",
              "[[30]]$envios\n",
              "[1] 2775\n",
              "\n",
              "[[30]]$aciertos\n",
              "[1] 198\n",
              "\n",
              "[[30]]$ganancia_test\n",
              "[1] 51450000\n",
              "\n",
              "\n",
              "[[31]]\n",
              "[[31]]$semilla\n",
              "[1] 794531\n",
              "\n",
              "[[31]]$testing\n",
              "[1] 49378\n",
              "\n",
              "[[31]]$testing_pos\n",
              "[1] 375\n",
              "\n",
              "[[31]]$envios\n",
              "[1] 3309\n",
              "\n",
              "[[31]]$aciertos\n",
              "[1] 197\n",
              "\n",
              "[[31]]$ganancia_test\n",
              "[1] 45710000\n",
              "\n",
              "\n",
              "[[32]]\n",
              "[[32]]$semilla\n",
              "[1] 615233\n",
              "\n",
              "[[32]]$testing\n",
              "[1] 49371\n",
              "\n",
              "[[32]]$testing_pos\n",
              "[1] 369\n",
              "\n",
              "[[32]]$envios\n",
              "[1] 2810\n",
              "\n",
              "[[32]]$aciertos\n",
              "[1] 178\n",
              "\n",
              "[[32]]$ganancia_test\n",
              "[1] 43100000\n",
              "\n",
              "\n",
              "[[33]]\n",
              "[[33]]$semilla\n",
              "[1] 697381\n",
              "\n",
              "[[33]]$testing\n",
              "[1] 49378\n",
              "\n",
              "[[33]]$testing_pos\n",
              "[1] 369\n",
              "\n",
              "[[33]]$envios\n",
              "[1] 3108\n",
              "\n",
              "[[33]]$aciertos\n",
              "[1] 204\n",
              "\n",
              "[[33]]$ganancia_test\n",
              "[1] 50520000\n",
              "\n",
              "\n",
              "[[34]]\n",
              "[[34]]$semilla\n",
              "[1] 504677\n",
              "\n",
              "[[34]]$testing\n",
              "[1] 49376\n",
              "\n",
              "[[34]]$testing_pos\n",
              "[1] 375\n",
              "\n",
              "[[34]]$envios\n",
              "[1] 3833\n",
              "\n",
              "[[34]]$aciertos\n",
              "[1] 215\n",
              "\n",
              "[[34]]$ganancia_test\n",
              "[1] 47670000\n",
              "\n",
              "\n",
              "[[35]]\n",
              "[[35]]$semilla\n",
              "[1] 573737\n",
              "\n",
              "[[35]]$testing\n",
              "[1] 49392\n",
              "\n",
              "[[35]]$testing_pos\n",
              "[1] 376\n",
              "\n",
              "[[35]]$envios\n",
              "[1] 3364\n",
              "\n",
              "[[35]]$aciertos\n",
              "[1] 190\n",
              "\n",
              "[[35]]$ganancia_test\n",
              "[1] 42360000\n",
              "\n",
              "\n",
              "[[36]]\n",
              "[[36]]$semilla\n",
              "[1] 663071\n",
              "\n",
              "[[36]]$testing\n",
              "[1] 49397\n",
              "\n",
              "[[36]]$testing_pos\n",
              "[1] 383\n",
              "\n",
              "[[36]]$envios\n",
              "[1] 3236\n",
              "\n",
              "[[36]]$aciertos\n",
              "[1] 194\n",
              "\n",
              "[[36]]$ganancia_test\n",
              "[1] 45240000\n",
              "\n",
              "\n",
              "[[37]]\n",
              "[[37]]$semilla\n",
              "[1] 261407\n",
              "\n",
              "[[37]]$testing\n",
              "[1] 49372\n",
              "\n",
              "[[37]]$testing_pos\n",
              "[1] 373\n",
              "\n",
              "[[37]]$envios\n",
              "[1] 3768\n",
              "\n",
              "[[37]]$aciertos\n",
              "[1] 219\n",
              "\n",
              "[[37]]$ganancia_test\n",
              "[1] 49920000\n",
              "\n",
              "\n",
              "[[38]]\n",
              "[[38]]$semilla\n",
              "[1] 271489\n",
              "\n",
              "[[38]]$testing\n",
              "[1] 49369\n",
              "\n",
              "[[38]]$testing_pos\n",
              "[1] 371\n",
              "\n",
              "[[38]]$envios\n",
              "[1] 3482\n",
              "\n",
              "[[38]]$aciertos\n",
              "[1] 210\n",
              "\n",
              "[[38]]$ganancia_test\n",
              "[1] 49180000\n",
              "\n",
              "\n",
              "[[39]]\n",
              "[[39]]$semilla\n",
              "[1] 966617\n",
              "\n",
              "[[39]]$testing\n",
              "[1] 49364\n",
              "\n",
              "[[39]]$testing_pos\n",
              "[1] 375\n",
              "\n",
              "[[39]]$envios\n",
              "[1] 3503\n",
              "\n",
              "[[39]]$aciertos\n",
              "[1] 209\n",
              "\n",
              "[[39]]$ganancia_test\n",
              "[1] 48570000\n",
              "\n",
              "\n",
              "[[40]]\n",
              "[[40]]$semilla\n",
              "[1] 817403\n",
              "\n",
              "[[40]]$testing\n",
              "[1] 49372\n",
              "\n",
              "[[40]]$testing_pos\n",
              "[1] 369\n",
              "\n",
              "[[40]]$envios\n",
              "[1] 3541\n",
              "\n",
              "[[40]]$aciertos\n",
              "[1] 208\n",
              "\n",
              "[[40]]$ganancia_test\n",
              "[1] 47790000\n",
              "\n",
              "\n",
              "[[41]]\n",
              "[[41]]$semilla\n",
              "[1] 175481\n",
              "\n",
              "[[41]]$testing\n",
              "[1] 49385\n",
              "\n",
              "[[41]]$testing_pos\n",
              "[1] 372\n",
              "\n",
              "[[41]]$envios\n",
              "[1] 2563\n",
              "\n",
              "[[41]]$aciertos\n",
              "[1] 179\n",
              "\n",
              "[[41]]$ganancia_test\n",
              "[1] 45970000\n",
              "\n",
              "\n",
              "[[42]]\n",
              "[[42]]$semilla\n",
              "[1] 447617\n",
              "\n",
              "[[42]]$testing\n",
              "[1] 49380\n",
              "\n",
              "[[42]]$testing_pos\n",
              "[1] 373\n",
              "\n",
              "[[42]]$envios\n",
              "[1] 3441\n",
              "\n",
              "[[42]]$aciertos\n",
              "[1] 203\n",
              "\n",
              "[[42]]$ganancia_test\n",
              "[1] 46790000\n",
              "\n",
              "\n",
              "[[43]]\n",
              "[[43]]$semilla\n",
              "[1] 202361\n",
              "\n",
              "[[43]]$testing\n",
              "[1] 49368\n",
              "\n",
              "[[43]]$testing_pos\n",
              "[1] 372\n",
              "\n",
              "[[43]]$envios\n",
              "[1] 3608\n",
              "\n",
              "[[43]]$aciertos\n",
              "[1] 215\n",
              "\n",
              "[[43]]$ganancia_test\n",
              "[1] 49920000\n",
              "\n",
              "\n",
              "[[44]]\n",
              "[[44]]$semilla\n",
              "[1] 575087\n",
              "\n",
              "[[44]]$testing\n",
              "[1] 49374\n",
              "\n",
              "[[44]]$testing_pos\n",
              "[1] 375\n",
              "\n",
              "[[44]]$envios\n",
              "[1] 3221\n",
              "\n",
              "[[44]]$aciertos\n",
              "[1] 199\n",
              "\n",
              "[[44]]$ganancia_test\n",
              "[1] 47390000\n",
              "\n",
              "\n",
              "[[45]]\n",
              "[[45]]$semilla\n",
              "[1] 398063\n",
              "\n",
              "[[45]]$testing\n",
              "[1] 49392\n",
              "\n",
              "[[45]]$testing_pos\n",
              "[1] 379\n",
              "\n",
              "[[45]]$envios\n",
              "[1] 3224\n",
              "\n",
              "[[45]]$aciertos\n",
              "[1] 206\n",
              "\n",
              "[[45]]$ganancia_test\n",
              "[1] 50160000\n",
              "\n",
              "\n",
              "[[46]]\n",
              "[[46]]$semilla\n",
              "[1] 353611\n",
              "\n",
              "[[46]]$testing\n",
              "[1] 49370\n",
              "\n",
              "[[46]]$testing_pos\n",
              "[1] 374\n",
              "\n",
              "[[46]]$envios\n",
              "[1] 2483\n",
              "\n",
              "[[46]]$aciertos\n",
              "[1] 177\n",
              "\n",
              "[[46]]$ganancia_test\n",
              "[1] 45970000\n",
              "\n",
              "\n",
              "[[47]]\n",
              "[[47]]$semilla\n",
              "[1] 206807\n",
              "\n",
              "[[47]]$testing\n",
              "[1] 49382\n",
              "\n",
              "[[47]]$testing_pos\n",
              "[1] 380\n",
              "\n",
              "[[47]]$envios\n",
              "[1] 4054\n",
              "\n",
              "[[47]]$aciertos\n",
              "[1] 228\n",
              "\n",
              "[[47]]$ganancia_test\n",
              "[1] 50660000\n",
              "\n",
              "\n",
              "[[48]]\n",
              "[[48]]$semilla\n",
              "[1] 206627\n",
              "\n",
              "[[48]]$testing\n",
              "[1] 49374\n",
              "\n",
              "[[48]]$testing_pos\n",
              "[1] 372\n",
              "\n",
              "[[48]]$envios\n",
              "[1] 3634\n",
              "\n",
              "[[48]]$aciertos\n",
              "[1] 212\n",
              "\n",
              "[[48]]$ganancia_test\n",
              "[1] 48460000\n",
              "\n",
              "\n",
              "[[49]]\n",
              "[[49]]$semilla\n",
              "[1] 290057\n",
              "\n",
              "[[49]]$testing\n",
              "[1] 49363\n",
              "\n",
              "[[49]]$testing_pos\n",
              "[1] 370\n",
              "\n",
              "[[49]]$envios\n",
              "[1] 3442\n",
              "\n",
              "[[49]]$aciertos\n",
              "[1] 199\n",
              "\n",
              "[[49]]$ganancia_test\n",
              "[1] 45180000\n",
              "\n",
              "\n",
              "[[50]]\n",
              "[[50]]$semilla\n",
              "[1] 169009\n",
              "\n",
              "[[50]]$testing\n",
              "[1] 49370\n",
              "\n",
              "[[50]]$testing_pos\n",
              "[1] 368\n",
              "\n",
              "[[50]]$envios\n",
              "[1] 3581\n",
              "\n",
              "[[50]]$aciertos\n",
              "[1] 198\n",
              "\n",
              "[[50]]$ganancia_test\n",
              "[1] 43390000\n",
              "\n"
            ]
          },
          "metadata": {}
        }
      ]
    },
    {
      "cell_type": "code",
      "source": [
        "# paso la lista a vector\n",
        "tb_salida <- rbindlist(salidas)\n",
        "print( tb_salida)"
      ],
      "metadata": {
        "id": "unGWiKRMGimU",
        "colab": {
          "base_uri": "https://localhost:8080/"
        },
        "outputId": "f55d39aa-5bd8-4bbf-8b10-beb934603d82"
      },
      "execution_count": null,
      "outputs": [
        {
          "output_type": "stream",
          "name": "stdout",
          "text": [
            "    semilla testing testing_pos envios aciertos ganancia_test\n",
            "      <int>   <int>       <int>  <int>    <int>         <num>\n",
            " 1:  947621   49368         369   3484      187      39960000\n",
            " 2:  343267   49370         374   3585      205      46150000\n",
            " 3:  631259   49386         372   3415      207      48650000\n",
            " 4:  289859   49378         371   3006      181      42340000\n",
            " 5:  797933   49382         372   2791      186      46490000\n",
            " 6:  770239   49375         376   3732      213      47880000\n",
            " 7:  993437   49374         370   4074      219      46860000\n",
            " 8:  110771   49385         377   3098      196      47420000\n",
            " 9:  174017   49383         374   3651      222      52290000\n",
            "10:  330233   49375         370   3879      202      42010000\n",
            "11:  199657   49391         378   3930      218      47900000\n",
            "12:  276359   49372         373   3965      227      51150000\n",
            "13:  252173   49375         378   3226      206      50140000\n",
            "14:  197161   49378         376   3078      198      48420000\n",
            "15:  644359   49373         377   3664      221      51760000\n",
            "16:  308293   49380         378   2974      196      48660000\n",
            "17:  701447   49381         373   2954      198      49660000\n",
            "18:  386263   49373         374   2890      196      49500000\n",
            "19:  616433   49385         374   3267      205      49330000\n",
            "20:  975901   49365         368   3435      207      48450000\n",
            "21:  717419   49381         377   4130      223      47900000\n",
            "22:  401939   49375         370   4459      236      49810000\n",
            "23:  295417   49385         377   3884      214      46760000\n",
            "24:  844121   49389         380   3736      221      51040000\n",
            "25:  223151   49374         369   2958      195      48420000\n",
            "26:  391619   49381         375   3745      216      48950000\n",
            "27:  749653   49380         373   3505      206      47350000\n",
            "28:  730637   49381         372   4181      228      49390000\n",
            "29:  678637   49384         381   3570      212      49100000\n",
            "30:  576883   49389         382   2775      198      51450000\n",
            "31:  794531   49378         375   3309      197      45710000\n",
            "32:  615233   49371         369   2810      178      43100000\n",
            "33:  697381   49378         369   3108      204      50520000\n",
            "34:  504677   49376         375   3833      215      47670000\n",
            "35:  573737   49392         376   3364      190      42360000\n",
            "36:  663071   49397         383   3236      194      45240000\n",
            "37:  261407   49372         373   3768      219      49920000\n",
            "38:  271489   49369         371   3482      210      49180000\n",
            "39:  966617   49364         375   3503      209      48570000\n",
            "40:  817403   49372         369   3541      208      47790000\n",
            "41:  175481   49385         372   2563      179      45970000\n",
            "42:  447617   49380         373   3441      203      46790000\n",
            "43:  202361   49368         372   3608      215      49920000\n",
            "44:  575087   49374         375   3221      199      47390000\n",
            "45:  398063   49392         379   3224      206      50160000\n",
            "46:  353611   49370         374   2483      177      45970000\n",
            "47:  206807   49382         380   4054      228      50660000\n",
            "48:  206627   49374         372   3634      212      48460000\n",
            "49:  290057   49363         370   3442      199      45180000\n",
            "50:  169009   49370         368   3581      198      43390000\n",
            "    semilla testing testing_pos envios aciertos ganancia_test\n"
          ]
        }
      ]
    },
    {
      "cell_type": "code",
      "source": [
        "# calulo la salida\n",
        "for( i in seq(10, 50, 10) )\n",
        "{\n",
        "  cat( i, \"\\t\", tb_salida[ 1:i, mean(ganancia_test)], \"\\n\" )\n",
        "}\n"
      ],
      "metadata": {
        "id": "oGoadhBKGimV",
        "colab": {
          "base_uri": "https://localhost:8080/"
        },
        "outputId": "8f19aedb-5a87-4f2c-94fc-75aff892d984"
      },
      "execution_count": null,
      "outputs": [
        {
          "output_type": "stream",
          "name": "stdout",
          "text": [
            "10 \t 46005000 \n",
            "20 \t 47751000 \n",
            "30 \t 48173000 \n",
            "40 \t 47881250 \n",
            "50 \t 47782800 \n"
          ]
        }
      ]
    },
    {
      "cell_type": "markdown",
      "source": [
        "### Acciones a realizar\n",
        "* Reportar la  los resultados en la planilla colaborativa hoja  **C2-nsem**\n",
        "* Se discutirá en clase la variabilidad de las distintas cantidades de semillas"
      ],
      "metadata": {
        "id": "dO9yQKt7GimV"
      }
    },
    {
      "cell_type": "markdown",
      "source": [
        "\n",
        "\n",
        "---\n",
        "\n"
      ],
      "metadata": {
        "id": "ziFKwIlBGimW"
      }
    },
    {
      "cell_type": "markdown",
      "source": [
        "# 5  DiezMil -Monte Carlo Cross Validation\n",
        "## Clase 02  Experimento 5"
      ],
      "metadata": {
        "id": "2jncHe-KJLUg"
      }
    },
    {
      "cell_type": "markdown",
      "source": [
        "Mostrar a los estudiantes el resultado de un experimento en donde se ha corrido una Monte Carlo Cross Validation utilizando diez mil semillas y relacionar la cantidad de semillas con el resultado del Teorema Central del Límite\n",
        "<br>Los resultados se muestran en esta misma guia y se comentan en clase,Bajo ningún concepto se solicitará a l@s estudiantes hacer este experimento en clase ya que lleva varias horas en correr.\n"
      ],
      "metadata": {
        "id": "vUzSGZGOJZq8"
      }
    },
    {
      "cell_type": "markdown",
      "source": [
        "Aqui usted NO debe correr absolutamente nada, el experimento ya fue corrido por la cátedra y le muestra los resultados."
      ],
      "metadata": {
        "id": "G0YGjTMxuTSg"
      }
    },
    {
      "cell_type": "markdown",
      "source": [
        "## 5.1\n",
        "Estos resultados han sido corridos por la cátedra.\n",
        "\n",
        "![Distribucion de las ganancias](https://storage.googleapis.com/open-courses/austral2025-af91/labo1r/C2_E5_distribucion.jpg)"
      ],
      "metadata": {
        "id": "7NRUb3WtJikc"
      }
    },
    {
      "cell_type": "markdown",
      "source": [
        "![salida](https://storage.googleapis.com/open-courses/austral2025-af91/labo1r/C2_E5_salida.jpg)"
      ],
      "metadata": {
        "id": "tZ4X8wdSKc7G"
      }
    },
    {
      "cell_type": "markdown",
      "source": [
        "![tabla](https://storage.googleapis.com/open-courses/austral2025-af91/labo1r/C2_E5_tabla.jpg)\n",
        "\n",
        " 2    ~    1,96  =  3605406.2 / 1836264.3\n",
        "\n",
        "Por el teorema central del límite, un aumento de 4 veces de la cantidad de registros que se promedian el desvio estandar disminuye 2 veces ,  raiz(4 ) = 2"
      ],
      "metadata": {
        "id": "EsL5ukNWKS71"
      }
    },
    {
      "cell_type": "markdown",
      "source": [
        "\n",
        "\n",
        "---\n",
        "\n"
      ],
      "metadata": {
        "id": "OTLq8TC4LR0c"
      }
    },
    {
      "cell_type": "markdown",
      "source": [
        "# 6 Comparando dos distintos  modelos\n",
        "## Clase 02  Experimento 6"
      ],
      "metadata": {
        "id": "sAS1bfL8LmBv"
      }
    },
    {
      "cell_type": "markdown",
      "source": [
        "## 6.1  Objetivos\n",
        "Presentar a los alumnos la dificultad que se presenta ante la comparación de dos modelos, uno posee un poder predictivo claramente mayor al otro.\n",
        "Comparación simple de media de ganancias, versus probabilidad que un modelo sea superior a otro."
      ],
      "metadata": {
        "id": "KzwdMJDZLmB9"
      }
    },
    {
      "cell_type": "markdown",
      "source": [
        "## 6.2 Introduccion\n",
        "Estos son los dos arboles de muy distinta profundidad.\n",
        "<br>¿Cuál de ellos es mejor? ¿Cuál elijo?\n",
        "\n",
        "| Hiperparámetro | Arbol 1 | Arbol 2 |\n",
        "| --- | --: |  ---: |\n",
        "| cp | -1 | -1 |\n",
        "|minsplit | 170 | 250 |\n",
        "|minbucket | 70 | 125 |\n",
        "|maxdepth | 7 | 20 |\n",
        "\n"
      ],
      "metadata": {
        "id": "DDyFNmJ9L_CW"
      }
    },
    {
      "cell_type": "markdown",
      "source": [
        "## 6.3 Codigo dos distintos modelos"
      ],
      "metadata": {
        "id": "bQfwNsVzNrtI"
      }
    },
    {
      "cell_type": "markdown",
      "source": [
        "Esta parte se debe correr con el runtime en lenguaje **R** Ir al menu, Runtime -> Change Runtime Tipe -> Runtime type -> R"
      ],
      "metadata": {
        "id": "Ku7qQgKjNruJ"
      }
    },
    {
      "cell_type": "markdown",
      "source": [
        "El tiempo de corrida es de alrededor de 40 minutos"
      ],
      "metadata": {
        "id": "6jCdS3NMuKei"
      }
    },
    {
      "cell_type": "markdown",
      "source": [
        "limpio el ambiente de R"
      ],
      "metadata": {
        "id": "Z1EUBeHyNruK"
      }
    },
    {
      "cell_type": "code",
      "source": [
        "# limpio la memoria\n",
        "rm(list=ls(all.names=TRUE)) # remove all objects\n",
        "gc(full=TRUE, verbose=FALSE) # garbage collection"
      ],
      "metadata": {
        "id": "GxbC4V3zNruM",
        "colab": {
          "base_uri": "https://localhost:8080/",
          "height": 129
        },
        "outputId": "de7cf76b-c7de-4522-fec2-17de49a9cbf7"
      },
      "execution_count": 17,
      "outputs": [
        {
          "output_type": "display_data",
          "data": {
            "text/html": [
              "<table class=\"dataframe\">\n",
              "<caption>A matrix: 2 × 6 of type dbl</caption>\n",
              "<thead>\n",
              "\t<tr><th></th><th scope=col>used</th><th scope=col>(Mb)</th><th scope=col>gc trigger</th><th scope=col>(Mb)</th><th scope=col>max used</th><th scope=col>(Mb)</th></tr>\n",
              "</thead>\n",
              "<tbody>\n",
              "\t<tr><th scope=row>Ncells</th><td> 744428</td><td>39.8</td><td> 1454454</td><td> 77.7</td><td>  1454454</td><td> 77.7</td></tr>\n",
              "\t<tr><th scope=row>Vcells</th><td>1411282</td><td>10.8</td><td>84905683</td><td>647.8</td><td>104048653</td><td>793.9</td></tr>\n",
              "</tbody>\n",
              "</table>\n"
            ],
            "text/markdown": "\nA matrix: 2 × 6 of type dbl\n\n| <!--/--> | used | (Mb) | gc trigger | (Mb) | max used | (Mb) |\n|---|---|---|---|---|---|---|\n| Ncells |  744428 | 39.8 |  1454454 |  77.7 |   1454454 |  77.7 |\n| Vcells | 1411282 | 10.8 | 84905683 | 647.8 | 104048653 | 793.9 |\n\n",
            "text/latex": "A matrix: 2 × 6 of type dbl\n\\begin{tabular}{r|llllll}\n  & used & (Mb) & gc trigger & (Mb) & max used & (Mb)\\\\\n\\hline\n\tNcells &  744428 & 39.8 &  1454454 &  77.7 &   1454454 &  77.7\\\\\n\tVcells & 1411282 & 10.8 & 84905683 & 647.8 & 104048653 & 793.9\\\\\n\\end{tabular}\n",
            "text/plain": [
              "       used    (Mb) gc trigger (Mb)  max used  (Mb) \n",
              "Ncells  744428 39.8  1454454    77.7   1454454  77.7\n",
              "Vcells 1411282 10.8 84905683   647.8 104048653 793.9"
            ]
          },
          "metadata": {}
        }
      ]
    },
    {
      "cell_type": "markdown",
      "source": [
        "* Instalacion de la libreria  rpart.plot  para dibujar el arbol\n",
        "* invocacion de las librerias  **data.table** y  **rpart**"
      ],
      "metadata": {
        "id": "i2WkSCIhNruQ"
      }
    },
    {
      "cell_type": "code",
      "source": [
        "# cargo las librerias que necesito\n",
        "require(\"data.table\")\n",
        "require(\"rpart\")\n",
        "require(\"parallel\")\n",
        "\n",
        "if (!require(\"primes\")) install.packages(\"primes\")\n",
        "require(\"primes\")\n",
        "\n",
        "require(\"ggplot2\")"
      ],
      "metadata": {
        "id": "3bMsgZJWNruR",
        "colab": {
          "base_uri": "https://localhost:8080/"
        },
        "outputId": "d22299a4-48d8-4fa4-ab8b-245a0669515d"
      },
      "execution_count": 18,
      "outputs": [
        {
          "output_type": "stream",
          "name": "stderr",
          "text": [
            "Loading required package: parallel\n",
            "\n",
            "Loading required package: primes\n",
            "\n",
            "Warning message in library(package, lib.loc = lib.loc, character.only = TRUE, logical.return = TRUE, :\n",
            "“there is no package called ‘primes’”\n",
            "Installing package into ‘/usr/local/lib/R/site-library’\n",
            "(as ‘lib’ is unspecified)\n",
            "\n",
            "Loading required package: primes\n",
            "\n",
            "Loading required package: ggplot2\n",
            "\n"
          ]
        }
      ]
    },
    {
      "cell_type": "markdown",
      "source": [
        "###  Accion a Realizar\n",
        "PARAM$semilla_primigenia  debe reemplazarse por SU primer semilla"
      ],
      "metadata": {
        "id": "t1lTXrKaNruT"
      }
    },
    {
      "cell_type": "code",
      "source": [
        "PARAM <- list()\n",
        "PARAM$semilla_primigenia <- 182821\n",
        "PARAM$qsemillas <- 20\n",
        "PARAM$training_pct <- 70L     # entre 1 y 100\n"
      ],
      "metadata": {
        "id": "QFbPtTCMNruV"
      },
      "execution_count": 19,
      "outputs": []
    },
    {
      "cell_type": "code",
      "source": [
        "# los dos arboles\n",
        "PARAM$rpart1 <- list (\n",
        "  \"cp\" = -1,\n",
        "  \"minsplit\" = 170,\n",
        "  \"minbucket\" = 70,\n",
        "  \"maxdepth\" = 7\n",
        ")\n",
        "\n",
        "\n",
        "PARAM$rpart2 <- list (\n",
        "  \"cp\" = -1,\n",
        "  \"minsplit\" = 250,\n",
        "  \"minbucket\" = 125,\n",
        "  \"maxdepth\" = 20\n",
        ")"
      ],
      "metadata": {
        "id": "GiBGk7WKQv2V"
      },
      "execution_count": 20,
      "outputs": []
    },
    {
      "cell_type": "code",
      "source": [
        "# particionar agrega una columna llamada fold a un dataset\n",
        "#  que consiste en una particion estratificada segun agrupa\n",
        "\n",
        "# particionar( data=dataset, division=c(70,30),\n",
        "#  agrupa=clase_ternaria, seed=semilla)   crea una particion 70, 30\n",
        "\n",
        "particionar <- function(\n",
        "    data, division, agrupa = \"\",\n",
        "    campo = \"fold\", start = 1, seed = NA) {\n",
        "  if (!is.na(seed)) set.seed(seed)\n",
        "\n",
        "  bloque <- unlist(mapply(function(x, y) {\n",
        "    rep(y, x)\n",
        "  }, division, seq(from = start, length.out = length(division))))\n",
        "\n",
        "  data[, (campo) := sample(rep(bloque, ceiling(.N / length(bloque))))[1:.N],\n",
        "    by = agrupa\n",
        "  ]\n",
        "}\n"
      ],
      "metadata": {
        "id": "2BabfKg7NruX"
      },
      "execution_count": 21,
      "outputs": []
    },
    {
      "cell_type": "code",
      "source": [
        "DosArbolesEstimarGanancia <- function(semilla, training_pct, param_rpart1, param_rpart2) {\n",
        "\n",
        "  # fuerzo impresion\n",
        "  print( paste( semilla, Sys.time()) )\n",
        "  flush.console()\n",
        "\n",
        "  # particiono estratificadamente el dataset\n",
        "  particionar(dataset,\n",
        "    division = c(training_pct, 100L -training_pct),\n",
        "    agrupa = \"clase_ternaria\",\n",
        "    seed = semilla # aqui se usa SU semilla\n",
        "  )\n",
        "\n",
        "  # genero el modelo\n",
        "  # predecir clase_ternaria a partir del resto\n",
        "  modelo1 <- rpart(\"clase_ternaria ~ .\",\n",
        "    data = dataset[fold == 1], # fold==1  es training,  el 70% de los datos\n",
        "    xval = 0,\n",
        "    control = param_rpart1\n",
        "  ) # aqui van los parametros del arbol\n",
        "\n",
        "  # aplico el modelo a los datos de testing\n",
        "  prediccion1 <- predict(modelo1, # el modelo que genere recien\n",
        "    dataset[fold == 2], # fold==2  es testing, el 30% de los datos\n",
        "    type = \"prob\"\n",
        "  ) # type= \"prob\"  es que devuelva la probabilidad\n",
        "\n",
        "\n",
        "  # calculo la ganancia en testing  qu es fold==2\n",
        "  ganancia_test1 <- dataset[\n",
        "    fold == 2,\n",
        "    sum(ifelse(prediccion1[, \"BAJA+2\"] > 0.025,\n",
        "      ifelse(clase_ternaria == \"BAJA+2\", 117000, -3000),\n",
        "      0\n",
        "    ))\n",
        "  ]\n",
        "\n",
        "  # escalo la ganancia como si fuera todo el dataset\n",
        "  ganancia_test_normalizada1 <- ganancia_test1 / (( 100 - training_pct ) / 100 )\n",
        "\n",
        "  modelo2 <- rpart(\"clase_ternaria ~ .\",\n",
        "    data = dataset[fold == 1], # fold==1  es training,  el 70% de los datos\n",
        "    xval = 0,\n",
        "    control = param_rpart2\n",
        "  ) # aqui van los parametros del arbol\n",
        "\n",
        "  # aplico el modelo a los datos de testing\n",
        "  prediccion2 <- predict(modelo2, # el modelo que genere recien\n",
        "    dataset[fold == 2], # fold==2  es testing, el 30% de los datos\n",
        "    type = \"prob\"\n",
        "  ) # type= \"prob\"  es que devuelva la probabilidad\n",
        "\n",
        "\n",
        "  # calculo la ganancia en testing  qu es fold==2\n",
        "  ganancia_test2 <- dataset[\n",
        "    fold == 2,\n",
        "    sum(ifelse(prediccion2[, \"BAJA+2\"] > 0.025,\n",
        "      ifelse(clase_ternaria == \"BAJA+2\", 117000, -3000),\n",
        "      0\n",
        "    ))\n",
        "  ]\n",
        "\n",
        "  # escalo la ganancia como si fuera todo el dataset\n",
        "  ganancia_test_normalizada2 <- ganancia_test2 / (( 100 - training_pct ) / 100 )\n",
        "\n",
        "  return(list(\n",
        "    \"semilla\" = semilla,\n",
        "    \"ganancia1\" = ganancia_test_normalizada1,\n",
        "    \"ganancia2\" = ganancia_test_normalizada2\n",
        "  ))\n",
        "}"
      ],
      "metadata": {
        "id": "YrGJgj4UNruZ"
      },
      "execution_count": 22,
      "outputs": []
    },
    {
      "cell_type": "code",
      "source": [
        "# carpeta de trabajo\n",
        "setwd(\"/content/buckets/b1/exp\")\n",
        "experimento <- \"exp206\"\n",
        "dir.create(experimento, showWarnings=FALSE)\n",
        "setwd( paste0(\"/content/buckets/b1/exp/\", experimento ))"
      ],
      "metadata": {
        "id": "2C2yjgQVNrud"
      },
      "execution_count": 23,
      "outputs": []
    },
    {
      "cell_type": "code",
      "source": [
        "# lectura del dataset\n",
        "dataset <- fread(\"/content/datasets/dataset_pequeno.csv\")\n",
        "\n",
        "# trabajo solo con los datos con clase, es decir 202107\n",
        "dataset <- dataset[clase_ternaria != \"\"]"
      ],
      "metadata": {
        "id": "oQeGcBnPNrug"
      },
      "execution_count": 24,
      "outputs": []
    },
    {
      "cell_type": "code",
      "source": [
        "detectCores()"
      ],
      "metadata": {
        "id": "gXKI2eXO9Osx",
        "colab": {
          "base_uri": "https://localhost:8080/",
          "height": 34
        },
        "outputId": "30cf06d0-8e3b-4e13-dbd0-a38df2823218"
      },
      "execution_count": 25,
      "outputs": [
        {
          "output_type": "display_data",
          "data": {
            "text/html": [
              "2"
            ],
            "text/markdown": "2",
            "text/latex": "2",
            "text/plain": [
              "[1] 2"
            ]
          },
          "metadata": {}
        }
      ]
    },
    {
      "cell_type": "code",
      "source": [
        "# genero numeros primos\n",
        "primos <- generate_primes(min = 100000, max = 1000000)\n",
        "set.seed(PARAM$semilla_primigenia) # inicializo\n",
        "\n",
        "# me quedo con PARAM$qsemillas   semillas\n",
        "PARAM$semillas <- sample(primos, PARAM$qsemillas )"
      ],
      "metadata": {
        "id": "tU8S7_5ANrui"
      },
      "execution_count": 26,
      "outputs": []
    },
    {
      "cell_type": "code",
      "source": [
        "# demora interminables 60 minutos en correr en Google Colab\n",
        "Sys.time()\n",
        "\n",
        "salidas <- mcmapply( DosArbolesEstimarGanancia,\n",
        "  PARAM$semillas, # paso el vector de semillas\n",
        "  MoreArgs = list(PARAM$training_pct, PARAM$rpart1, PARAM$rpart2), # aqui paso el segundo parametro\n",
        "  SIMPLIFY = FALSE,\n",
        "  mc.cores = detectCores()\n",
        ")\n",
        "\n",
        "Sys.time()"
      ],
      "metadata": {
        "id": "mlF66CgxcHF3",
        "colab": {
          "base_uri": "https://localhost:8080/",
          "height": 52
        },
        "outputId": "b95f5a1e-1aa0-4478-9479-f46a8d477a23"
      },
      "execution_count": 27,
      "outputs": [
        {
          "output_type": "display_data",
          "data": {
            "text/plain": [
              "[1] \"2025-10-25 19:00:57 UTC\""
            ]
          },
          "metadata": {}
        },
        {
          "output_type": "display_data",
          "data": {
            "text/plain": [
              "[1] \"2025-10-25 19:56:55 UTC\""
            ]
          },
          "metadata": {}
        }
      ]
    },
    {
      "cell_type": "code",
      "source": [
        "# paso la lista a vector\n",
        "tb_salida <- rbindlist(salidas)\n",
        "tb_salida"
      ],
      "metadata": {
        "id": "_g-_kccdNrum",
        "colab": {
          "base_uri": "https://localhost:8080/",
          "height": 725
        },
        "outputId": "edae6146-c2c4-4219-96ec-ca3bc6817b33"
      },
      "execution_count": 28,
      "outputs": [
        {
          "output_type": "display_data",
          "data": {
            "text/html": [
              "<table class=\"dataframe\">\n",
              "<caption>A data.table: 20 × 3</caption>\n",
              "<thead>\n",
              "\t<tr><th scope=col>semilla</th><th scope=col>ganancia1</th><th scope=col>ganancia2</th></tr>\n",
              "\t<tr><th scope=col>&lt;int&gt;</th><th scope=col>&lt;dbl&gt;</th><th scope=col>&lt;dbl&gt;</th></tr>\n",
              "</thead>\n",
              "<tbody>\n",
              "\t<tr><td>947621</td><td>39960000</td><td>36890000</td></tr>\n",
              "\t<tr><td>343267</td><td>46150000</td><td>36480000</td></tr>\n",
              "\t<tr><td>631259</td><td>48650000</td><td>38680000</td></tr>\n",
              "\t<tr><td>289859</td><td>42340000</td><td>39600000</td></tr>\n",
              "\t<tr><td>797933</td><td>46490000</td><td>42860000</td></tr>\n",
              "\t<tr><td>770239</td><td>47880000</td><td>37650000</td></tr>\n",
              "\t<tr><td>993437</td><td>46860000</td><td>42730000</td></tr>\n",
              "\t<tr><td>110771</td><td>47420000</td><td>42330000</td></tr>\n",
              "\t<tr><td>174017</td><td>52290000</td><td>49760000</td></tr>\n",
              "\t<tr><td>330233</td><td>42010000</td><td>40800000</td></tr>\n",
              "\t<tr><td>199657</td><td>47900000</td><td>45620000</td></tr>\n",
              "\t<tr><td>276359</td><td>51150000</td><td>43980000</td></tr>\n",
              "\t<tr><td>252173</td><td>50140000</td><td>43690000</td></tr>\n",
              "\t<tr><td>197161</td><td>48420000</td><td>44690000</td></tr>\n",
              "\t<tr><td>644359</td><td>51760000</td><td>43190000</td></tr>\n",
              "\t<tr><td>308293</td><td>48660000</td><td>43980000</td></tr>\n",
              "\t<tr><td>701447</td><td>49660000</td><td>43670000</td></tr>\n",
              "\t<tr><td>386263</td><td>49500000</td><td>43700000</td></tr>\n",
              "\t<tr><td>616433</td><td>49330000</td><td>38800000</td></tr>\n",
              "\t<tr><td>975901</td><td>48450000</td><td>42930000</td></tr>\n",
              "</tbody>\n",
              "</table>\n"
            ],
            "text/markdown": "\nA data.table: 20 × 3\n\n| semilla &lt;int&gt; | ganancia1 &lt;dbl&gt; | ganancia2 &lt;dbl&gt; |\n|---|---|---|\n| 947621 | 39960000 | 36890000 |\n| 343267 | 46150000 | 36480000 |\n| 631259 | 48650000 | 38680000 |\n| 289859 | 42340000 | 39600000 |\n| 797933 | 46490000 | 42860000 |\n| 770239 | 47880000 | 37650000 |\n| 993437 | 46860000 | 42730000 |\n| 110771 | 47420000 | 42330000 |\n| 174017 | 52290000 | 49760000 |\n| 330233 | 42010000 | 40800000 |\n| 199657 | 47900000 | 45620000 |\n| 276359 | 51150000 | 43980000 |\n| 252173 | 50140000 | 43690000 |\n| 197161 | 48420000 | 44690000 |\n| 644359 | 51760000 | 43190000 |\n| 308293 | 48660000 | 43980000 |\n| 701447 | 49660000 | 43670000 |\n| 386263 | 49500000 | 43700000 |\n| 616433 | 49330000 | 38800000 |\n| 975901 | 48450000 | 42930000 |\n\n",
            "text/latex": "A data.table: 20 × 3\n\\begin{tabular}{lll}\n semilla & ganancia1 & ganancia2\\\\\n <int> & <dbl> & <dbl>\\\\\n\\hline\n\t 947621 & 39960000 & 36890000\\\\\n\t 343267 & 46150000 & 36480000\\\\\n\t 631259 & 48650000 & 38680000\\\\\n\t 289859 & 42340000 & 39600000\\\\\n\t 797933 & 46490000 & 42860000\\\\\n\t 770239 & 47880000 & 37650000\\\\\n\t 993437 & 46860000 & 42730000\\\\\n\t 110771 & 47420000 & 42330000\\\\\n\t 174017 & 52290000 & 49760000\\\\\n\t 330233 & 42010000 & 40800000\\\\\n\t 199657 & 47900000 & 45620000\\\\\n\t 276359 & 51150000 & 43980000\\\\\n\t 252173 & 50140000 & 43690000\\\\\n\t 197161 & 48420000 & 44690000\\\\\n\t 644359 & 51760000 & 43190000\\\\\n\t 308293 & 48660000 & 43980000\\\\\n\t 701447 & 49660000 & 43670000\\\\\n\t 386263 & 49500000 & 43700000\\\\\n\t 616433 & 49330000 & 38800000\\\\\n\t 975901 & 48450000 & 42930000\\\\\n\\end{tabular}\n",
            "text/plain": [
              "   semilla ganancia1 ganancia2\n",
              "1  947621  39960000  36890000 \n",
              "2  343267  46150000  36480000 \n",
              "3  631259  48650000  38680000 \n",
              "4  289859  42340000  39600000 \n",
              "5  797933  46490000  42860000 \n",
              "6  770239  47880000  37650000 \n",
              "7  993437  46860000  42730000 \n",
              "8  110771  47420000  42330000 \n",
              "9  174017  52290000  49760000 \n",
              "10 330233  42010000  40800000 \n",
              "11 199657  47900000  45620000 \n",
              "12 276359  51150000  43980000 \n",
              "13 252173  50140000  43690000 \n",
              "14 197161  48420000  44690000 \n",
              "15 644359  51760000  43190000 \n",
              "16 308293  48660000  43980000 \n",
              "17 701447  49660000  43670000 \n",
              "18 386263  49500000  43700000 \n",
              "19 616433  49330000  38800000 \n",
              "20 975901  48450000  42930000 "
            ]
          },
          "metadata": {}
        }
      ]
    },
    {
      "cell_type": "code",
      "source": [
        "grafico <- ggplot( tb_salida, aes(x=ganancia1)) + geom_density(alpha=0.25, fill=\"green\", color=\"green\")  +\n",
        "             geom_density(data=tb_salida, aes(x=ganancia2), fill=\"purple\", color=\"purple\",  alpha=0.10)\n",
        "\n",
        "print(grafico)"
      ],
      "metadata": {
        "id": "-O0rg6btNrun",
        "colab": {
          "base_uri": "https://localhost:8080/",
          "height": 437
        },
        "outputId": "cdba8e70-5b07-4261-ac59-9825db254f26"
      },
      "execution_count": 29,
      "outputs": [
        {
          "output_type": "display_data",
          "data": {
            "text/plain": [
              "plot without title"
            ],
            "image/png": "[encoded data removed]"
          },
          "metadata": {
            "image/png": {
              "width": 420,
              "height": 420
            }
          }
        }
      ]
    },
    {
      "cell_type": "code",
      "source": [
        "# imprimo en un .pdf  que va a la carpeta del experimento\n",
        "pdf(\"densidad_dos.pdf\")\n",
        "print(grafico)\n",
        "dev.off()"
      ],
      "metadata": {
        "id": "uSqrazOyU_LC",
        "colab": {
          "base_uri": "https://localhost:8080/",
          "height": 34
        },
        "outputId": "9a77b49a-6fbb-448c-995a-babde83debf9"
      },
      "execution_count": 31,
      "outputs": [
        {
          "output_type": "display_data",
          "data": {
            "text/html": [
              "<strong>agg_record_1261899412:</strong> 2"
            ],
            "text/markdown": "**agg_record_1261899412:** 2",
            "text/latex": "\\textbf{agg\\textbackslash{}\\_record\\textbackslash{}\\_1261899412:} 2",
            "text/plain": [
              "agg_record_1261899412 \n",
              "                    2 "
            ]
          },
          "metadata": {}
        }
      ]
    },
    {
      "cell_type": "code",
      "source": [
        "print( tb_salida[ , list( \"arbol1\" = mean( ganancia1),  \"arbol2\" = mean(ganancia2) ) ] )\n",
        "\n",
        "print( tb_salida[ , list( \"prob( m1 > m2)\" = sum(ganancia1 > ganancia2 )/ .N ) ]  )"
      ],
      "metadata": {
        "id": "LGv0LB_4R7US",
        "colab": {
          "base_uri": "https://localhost:8080/"
        },
        "outputId": "67fddd85-6b0c-409f-839d-14aaebed9621"
      },
      "execution_count": 32,
      "outputs": [
        {
          "output_type": "stream",
          "name": "stdout",
          "text": [
            "     arbol1   arbol2\n",
            "      <num>    <num>\n",
            "1: 47751000 42101500\n",
            "   prob( m1 > m2)\n",
            "            <num>\n",
            "1:              1\n"
          ]
        }
      ]
    },
    {
      "cell_type": "markdown",
      "source": [
        "### Acciones a realizar\n",
        "* Reportar la  los resultados en la planilla colaborativa hoja  **C2-dosModelos**\n",
        "* ¿Todos los alumnos hubieran elegido el mismo modelo aun con 20 semillas?"
      ],
      "metadata": {
        "id": "F6lFJf1VTi8b"
      }
    },
    {
      "cell_type": "markdown",
      "source": [
        "\n",
        "\n",
        "---\n",
        "\n"
      ],
      "metadata": {
        "id": "aOpy-XBKTi8n"
      }
    },
    {
      "cell_type": "markdown",
      "source": [
        "# 7 Comparando dos buenos  modelos\n",
        "## Clase 02  Experimento 7"
      ],
      "metadata": {
        "id": "EdzjiJf-dsEK"
      }
    },
    {
      "cell_type": "markdown",
      "source": [
        "## 7.1  Objetivos\n",
        "Presentar a los alumnos la dificultad que surge en la comparación de dos muy distintos, pero ambos buenos, modelos predictivos, y el costo computacional asociado a esa comparación\n",
        "<br>Comparación simple de media de ganancias, versus probabilidad que un modelo sea superior a otro.\n",
        "<br>Limitaciones de la MonteCarlo Cross Validation\n",
        "<br>Existencia del Test de Wilcoxon"
      ],
      "metadata": {
        "id": "FcBjp5XxdsEt"
      }
    },
    {
      "cell_type": "markdown",
      "source": [
        "## 7.2 Introduccion\n",
        "Estos son los dos arboles de muy distinta profundidad.\n",
        "<br>¿Cuál de ellos es mejor? ¿Cuál elijo?\n",
        "\n",
        "| Hiperparámetro | Arbol 1 | Arbol 2 |\n",
        "| --- | --: |  ---: |\n",
        "| cp | -1 | -1 |\n",
        "|minsplit | 170 | 1900 |\n",
        "|minbucket | 70 | 800 |\n",
        "|maxdepth | 7 | 3 |\n",
        "\n"
      ],
      "metadata": {
        "id": "tYcOIcwCdsEu"
      }
    },
    {
      "cell_type": "markdown",
      "source": [
        "## 7.3 Dos buenos modelos"
      ],
      "metadata": {
        "id": "r0NDA7GgdsEu"
      }
    },
    {
      "cell_type": "markdown",
      "source": [
        "Esta parte se debe correr con el runtime en lenguaje **R** Ir al menu, Runtime -> Change Runtime Tipe -> Runtime type -> R"
      ],
      "metadata": {
        "id": "21SJmGd7dsEv"
      }
    },
    {
      "cell_type": "markdown",
      "source": [
        "El tiempo de corrida es de alrededor de 50 minutos"
      ],
      "metadata": {
        "id": "Ne0e08KUt87w"
      }
    },
    {
      "cell_type": "markdown",
      "source": [
        "limpio el ambiente de R"
      ],
      "metadata": {
        "id": "q02SEGNwdsEv"
      }
    },
    {
      "cell_type": "code",
      "source": [
        "# limpio la memoria\n",
        "rm(list=ls(all.names=TRUE)) # remove all objects\n",
        "gc(full=TRUE, verbose=FALSE) # garbage collection"
      ],
      "metadata": {
        "id": "6c2ZJstWdsEw",
        "colab": {
          "base_uri": "https://localhost:8080/",
          "height": 129
        },
        "outputId": "f19c494e-4645-45df-b576-f7b12d139314"
      },
      "execution_count": 33,
      "outputs": [
        {
          "output_type": "display_data",
          "data": {
            "text/html": [
              "<table class=\"dataframe\">\n",
              "<caption>A matrix: 2 × 6 of type dbl</caption>\n",
              "<thead>\n",
              "\t<tr><th></th><th scope=col>used</th><th scope=col>(Mb)</th><th scope=col>gc trigger</th><th scope=col>(Mb)</th><th scope=col>max used</th><th scope=col>(Mb)</th></tr>\n",
              "</thead>\n",
              "<tbody>\n",
              "\t<tr><th scope=row>Ncells</th><td>1421995</td><td>76.0</td><td> 2427468</td><td>129.7</td><td>  2427468</td><td>129.7</td></tr>\n",
              "\t<tr><th scope=row>Vcells</th><td>2673177</td><td>20.4</td><td>53529562</td><td>408.4</td><td>104048653</td><td>793.9</td></tr>\n",
              "</tbody>\n",
              "</table>\n"
            ],
            "text/markdown": "\nA matrix: 2 × 6 of type dbl\n\n| <!--/--> | used | (Mb) | gc trigger | (Mb) | max used | (Mb) |\n|---|---|---|---|---|---|---|\n| Ncells | 1421995 | 76.0 |  2427468 | 129.7 |   2427468 | 129.7 |\n| Vcells | 2673177 | 20.4 | 53529562 | 408.4 | 104048653 | 793.9 |\n\n",
            "text/latex": "A matrix: 2 × 6 of type dbl\n\\begin{tabular}{r|llllll}\n  & used & (Mb) & gc trigger & (Mb) & max used & (Mb)\\\\\n\\hline\n\tNcells & 1421995 & 76.0 &  2427468 & 129.7 &   2427468 & 129.7\\\\\n\tVcells & 2673177 & 20.4 & 53529562 & 408.4 & 104048653 & 793.9\\\\\n\\end{tabular}\n",
            "text/plain": [
              "       used    (Mb) gc trigger (Mb)  max used  (Mb) \n",
              "Ncells 1421995 76.0  2427468   129.7   2427468 129.7\n",
              "Vcells 2673177 20.4 53529562   408.4 104048653 793.9"
            ]
          },
          "metadata": {}
        }
      ]
    },
    {
      "cell_type": "markdown",
      "source": [
        "* Instalacion de la libreria  rpart.plot  para dibujar el arbol\n",
        "* invocacion de las librerias  **data.table** y  **rpart**"
      ],
      "metadata": {
        "id": "62MIW0r1dsEx"
      }
    },
    {
      "cell_type": "code",
      "source": [
        "# cargo las librerias que necesito\n",
        "require(\"data.table\")\n",
        "require(\"rpart\")\n",
        "require(\"parallel\")\n",
        "\n",
        "if (!require(\"primes\")) install.packages(\"primes\")\n",
        "require(\"primes\")\n",
        "\n",
        "require(\"ggplot2\")"
      ],
      "metadata": {
        "id": "2Ke4n-N8dsEy"
      },
      "execution_count": 34,
      "outputs": []
    },
    {
      "cell_type": "markdown",
      "source": [
        "###  Accion a Realizar\n",
        "PARAM$semilla_primigenia  debe reemplazarse por SU primer semilla"
      ],
      "metadata": {
        "id": "UHSoeqi4dsEz"
      }
    },
    {
      "cell_type": "code",
      "source": [
        "PARAM <- list()\n",
        "PARAM$semilla_primigenia <- 182821\n",
        "PARAM$qsemillas <- 50\n",
        "PARAM$training_pct <- 70L     # entre 1 y 100\n"
      ],
      "metadata": {
        "id": "f08_sqfAdsEz"
      },
      "execution_count": 35,
      "outputs": []
    },
    {
      "cell_type": "code",
      "source": [
        "# los dos arboles\n",
        "PARAM$rpart1 <- list (\n",
        "  \"cp\" = -1,\n",
        "  \"minsplit\" = 170,\n",
        "  \"minbucket\" = 70,\n",
        "  \"maxdepth\" = 7\n",
        ")\n",
        "\n",
        "\n",
        "PARAM$rpart2 <- list (\n",
        "  \"cp\" = -1,\n",
        "  \"minsplit\" = 1900,\n",
        "  \"minbucket\" = 800,\n",
        "  \"maxdepth\" = 3\n",
        ")\n"
      ],
      "metadata": {
        "id": "L735D9rydsE0"
      },
      "execution_count": 36,
      "outputs": []
    },
    {
      "cell_type": "code",
      "source": [
        "# particionar agrega una columna llamada fold a un dataset\n",
        "#  que consiste en una particion estratificada segun agrupa\n",
        "\n",
        "# particionar( data=dataset, division=c(70,30),\n",
        "#  agrupa=clase_ternaria, seed=semilla)   crea una particion 70, 30\n",
        "\n",
        "particionar <- function(\n",
        "    data, division, agrupa = \"\",\n",
        "    campo = \"fold\", start = 1, seed = NA) {\n",
        "  if (!is.na(seed)) set.seed(seed)\n",
        "\n",
        "  bloque <- unlist(mapply(function(x, y) {\n",
        "    rep(y, x)\n",
        "  }, division, seq(from = start, length.out = length(division))))\n",
        "\n",
        "  data[, (campo) := sample(rep(bloque, ceiling(.N / length(bloque))))[1:.N],\n",
        "    by = agrupa\n",
        "  ]\n",
        "}\n"
      ],
      "metadata": {
        "id": "O56epLUGdsE1"
      },
      "execution_count": 37,
      "outputs": []
    },
    {
      "cell_type": "code",
      "source": [
        "DosArbolesEstimarGanancia <- function(semilla, training_pct, param_rpart1, param_rpart2) {\n",
        "  # fuerzo impresion\n",
        "  print( paste( semilla, Sys.time()) )\n",
        "  flush.console()\n",
        "\n",
        "  # particiono estratificadamente el dataset\n",
        "  particionar(dataset,\n",
        "    division = c(training_pct, 100L -training_pct),\n",
        "    agrupa = \"clase_ternaria\",\n",
        "    seed = semilla # aqui se usa SU semilla\n",
        "  )\n",
        "\n",
        "  # genero el modelo\n",
        "  # predecir clase_ternaria a partir del resto\n",
        "  modelo1 <- rpart(\"clase_ternaria ~ .\",\n",
        "    data = dataset[fold == 1], # fold==1  es training,  el 70% de los datos\n",
        "    xval = 0,\n",
        "    control = param_rpart1\n",
        "  ) # aqui van los parametros del arbol\n",
        "\n",
        "  # aplico el modelo a los datos de testing\n",
        "  prediccion1 <- predict(modelo1, # el modelo que genere recien\n",
        "    dataset[fold == 2], # fold==2  es testing, el 30% de los datos\n",
        "    type = \"prob\"\n",
        "  ) # type= \"prob\"  es que devuelva la probabilidad\n",
        "\n",
        "\n",
        "  # calculo la ganancia en testing  qu es fold==2\n",
        "  ganancia_test1 <- dataset[\n",
        "    fold == 2,\n",
        "    sum(ifelse(prediccion1[, \"BAJA+2\"] > 0.025,\n",
        "      ifelse(clase_ternaria == \"BAJA+2\", 117000, -3000),\n",
        "      0\n",
        "    ))\n",
        "  ]\n",
        "\n",
        "  # escalo la ganancia como si fuera todo el dataset\n",
        "  ganancia_test_normalizada1 <- ganancia_test1 / (( 100 - training_pct ) / 100 )\n",
        "\n",
        "  modelo2 <- rpart(\"clase_ternaria ~ .\",\n",
        "    data = dataset[fold == 1], # fold==1  es training,  el 70% de los datos\n",
        "    xval = 0,\n",
        "    control = param_rpart2\n",
        "  ) # aqui van los parametros del arbol\n",
        "\n",
        "  # aplico el modelo a los datos de testing\n",
        "  prediccion2 <- predict(modelo2, # el modelo que genere recien\n",
        "    dataset[fold == 2], # fold==2  es testing, el 30% de los datos\n",
        "    type = \"prob\"\n",
        "  ) # type= \"prob\"  es que devuelva la probabilidad\n",
        "\n",
        "\n",
        "  # calculo la ganancia en testing  qu es fold==2\n",
        "  ganancia_test2 <- dataset[\n",
        "    fold == 2,\n",
        "    sum(ifelse(prediccion2[, \"BAJA+2\"] > 0.025,\n",
        "      ifelse(clase_ternaria == \"BAJA+2\", 117000, -3000),\n",
        "      0\n",
        "    ))\n",
        "  ]\n",
        "\n",
        "  # escalo la ganancia como si fuera todo el dataset\n",
        "  ganancia_test_normalizada2 <- ganancia_test2 / (( 100 - training_pct ) / 100 )\n",
        "\n",
        "  return(list(\n",
        "    \"semilla\" = semilla,\n",
        "    \"ganancia1\" = ganancia_test_normalizada1,\n",
        "    \"ganancia2\" = ganancia_test_normalizada2\n",
        "  ))\n",
        "}"
      ],
      "metadata": {
        "id": "Bv_NorLhdsE1"
      },
      "execution_count": 38,
      "outputs": []
    },
    {
      "cell_type": "code",
      "source": [
        "# carpeta de trabajo\n",
        "setwd(\"/content/buckets/b1/exp\")\n",
        "experimento <- \"exp206\"\n",
        "dir.create(experimento, showWarnings=FALSE)\n",
        "setwd( paste0(\"/content/buckets/b1/exp/\", experimento ))"
      ],
      "metadata": {
        "id": "N9GarblIdsE3"
      },
      "execution_count": 39,
      "outputs": []
    },
    {
      "cell_type": "code",
      "source": [
        "# lectura del dataset\n",
        "dataset <- fread(\"/content/datasets/dataset_pequeno.csv\")\n",
        "\n",
        "# trabajo solo con los datos con clase, es decir 202107\n",
        "dataset <- dataset[clase_ternaria != \"\"]"
      ],
      "metadata": {
        "id": "Z05r3wdTdsE3"
      },
      "execution_count": 40,
      "outputs": []
    },
    {
      "cell_type": "code",
      "source": [
        "# genero numeros primos\n",
        "primos <- generate_primes(min = 100000, max = 1000000)\n",
        "set.seed(PARAM$semilla_primigenia) # inicializo\n",
        "\n",
        "# me quedo con PARAM$qsemillas   semillas\n",
        "PARAM$semillas <- sample(primos, PARAM$qsemillas )"
      ],
      "metadata": {
        "id": "m8ODrVrndsE4"
      },
      "execution_count": 41,
      "outputs": []
    },
    {
      "cell_type": "code",
      "source": [
        "# la funcion mcmapply  llama a la funcion DosArbolesEstimarGanancia\n",
        "#  tantas veces como valores tenga el vector  PARAM$semillas\n",
        "Sys.time()\n",
        "\n",
        "salidas <- mcmapply( DosArbolesEstimarGanancia,\n",
        "  PARAM$semillas, # paso el vector de semillas\n",
        "  MoreArgs = list(PARAM$training_pct, PARAM$rpart1, PARAM$rpart2), # aqui paso el segundo parametro\n",
        "  SIMPLIFY = FALSE,\n",
        "  mc.cores = detectCores()\n",
        ")\n",
        "\n",
        "Sys.time()"
      ],
      "metadata": {
        "id": "KQBhUXxJdsE5",
        "colab": {
          "base_uri": "https://localhost:8080/",
          "height": 52
        },
        "outputId": "e087e8c7-3c18-4ae9-ca0b-deecd87f0d35"
      },
      "execution_count": 42,
      "outputs": [
        {
          "output_type": "display_data",
          "data": {
            "text/plain": [
              "[1] \"2025-10-25 20:06:52 UTC\""
            ]
          },
          "metadata": {}
        },
        {
          "output_type": "display_data",
          "data": {
            "text/plain": [
              "[1] \"2025-10-25 21:09:19 UTC\""
            ]
          },
          "metadata": {}
        }
      ]
    },
    {
      "cell_type": "code",
      "source": [
        "# paso la lista a vector\n",
        "tb_salida <- rbindlist(salidas)\n",
        "tb_salida"
      ],
      "metadata": {
        "id": "N0eS1CFFdsE5",
        "colab": {
          "base_uri": "https://localhost:8080/",
          "height": 1000
        },
        "outputId": "5d03a50a-bc54-446d-a4a5-a37f61bc3d6b"
      },
      "execution_count": 43,
      "outputs": [
        {
          "output_type": "display_data",
          "data": {
            "text/html": [
              "<table class=\"dataframe\">\n",
              "<caption>A data.table: 50 × 3</caption>\n",
              "<thead>\n",
              "\t<tr><th scope=col>semilla</th><th scope=col>ganancia1</th><th scope=col>ganancia2</th></tr>\n",
              "\t<tr><th scope=col>&lt;int&gt;</th><th scope=col>&lt;dbl&gt;</th><th scope=col>&lt;dbl&gt;</th></tr>\n",
              "</thead>\n",
              "<tbody>\n",
              "\t<tr><td>947621</td><td>39960000</td><td>42330000</td></tr>\n",
              "\t<tr><td>343267</td><td>46150000</td><td>50970000</td></tr>\n",
              "\t<tr><td>631259</td><td>48650000</td><td>44790000</td></tr>\n",
              "\t<tr><td>289859</td><td>42340000</td><td>48090000</td></tr>\n",
              "\t<tr><td>797933</td><td>46490000</td><td>45540000</td></tr>\n",
              "\t<tr><td>770239</td><td>47880000</td><td>47030000</td></tr>\n",
              "\t<tr><td>993437</td><td>46860000</td><td>44280000</td></tr>\n",
              "\t<tr><td>110771</td><td>47420000</td><td>48510000</td></tr>\n",
              "\t<tr><td>174017</td><td>52290000</td><td>51660000</td></tr>\n",
              "\t<tr><td>330233</td><td>42010000</td><td>47140000</td></tr>\n",
              "\t<tr><td>199657</td><td>47900000</td><td>48750000</td></tr>\n",
              "\t<tr><td>276359</td><td>51150000</td><td>49040000</td></tr>\n",
              "\t<tr><td>252173</td><td>50140000</td><td>49810000</td></tr>\n",
              "\t<tr><td>197161</td><td>48420000</td><td>48220000</td></tr>\n",
              "\t<tr><td>644359</td><td>51760000</td><td>52720000</td></tr>\n",
              "\t<tr><td>308293</td><td>48660000</td><td>47420000</td></tr>\n",
              "\t<tr><td>701447</td><td>49660000</td><td>48540000</td></tr>\n",
              "\t<tr><td>386263</td><td>49500000</td><td>51430000</td></tr>\n",
              "\t<tr><td>616433</td><td>49330000</td><td>52290000</td></tr>\n",
              "\t<tr><td>975901</td><td>48450000</td><td>48120000</td></tr>\n",
              "\t<tr><td>717419</td><td>47900000</td><td>52480000</td></tr>\n",
              "\t<tr><td>401939</td><td>49810000</td><td>49100000</td></tr>\n",
              "\t<tr><td>295417</td><td>46760000</td><td>44870000</td></tr>\n",
              "\t<tr><td>844121</td><td>51040000</td><td>54260000</td></tr>\n",
              "\t<tr><td>223151</td><td>48420000</td><td>46750000</td></tr>\n",
              "\t<tr><td>391619</td><td>48950000</td><td>49480000</td></tr>\n",
              "\t<tr><td>749653</td><td>47350000</td><td>49650000</td></tr>\n",
              "\t<tr><td>730637</td><td>49390000</td><td>49260000</td></tr>\n",
              "\t<tr><td>678637</td><td>49100000</td><td>47380000</td></tr>\n",
              "\t<tr><td>576883</td><td>51450000</td><td>51950000</td></tr>\n",
              "\t<tr><td>794531</td><td>45710000</td><td>47040000</td></tr>\n",
              "\t<tr><td>615233</td><td>43100000</td><td>45870000</td></tr>\n",
              "\t<tr><td>697381</td><td>50520000</td><td>54260000</td></tr>\n",
              "\t<tr><td>504677</td><td>47670000</td><td>45510000</td></tr>\n",
              "\t<tr><td>573737</td><td>42360000</td><td>48300000</td></tr>\n",
              "\t<tr><td>663071</td><td>45240000</td><td>45740000</td></tr>\n",
              "\t<tr><td>261407</td><td>49920000</td><td>50470000</td></tr>\n",
              "\t<tr><td>271489</td><td>49180000</td><td>48670000</td></tr>\n",
              "\t<tr><td>966617</td><td>48570000</td><td>47220000</td></tr>\n",
              "\t<tr><td>817403</td><td>47790000</td><td>51100000</td></tr>\n",
              "\t<tr><td>175481</td><td>45970000</td><td>47730000</td></tr>\n",
              "\t<tr><td>447617</td><td>46790000</td><td>47470000</td></tr>\n",
              "\t<tr><td>202361</td><td>49920000</td><td>51560000</td></tr>\n",
              "\t<tr><td>575087</td><td>47390000</td><td>49600000</td></tr>\n",
              "\t<tr><td>398063</td><td>50160000</td><td>49900000</td></tr>\n",
              "\t<tr><td>353611</td><td>45970000</td><td>45710000</td></tr>\n",
              "\t<tr><td>206807</td><td>50660000</td><td>53900000</td></tr>\n",
              "\t<tr><td>206627</td><td>48460000</td><td>43450000</td></tr>\n",
              "\t<tr><td>290057</td><td>45180000</td><td>44650000</td></tr>\n",
              "\t<tr><td>169009</td><td>43390000</td><td>43620000</td></tr>\n",
              "</tbody>\n",
              "</table>\n"
            ],
            "text/markdown": "\nA data.table: 50 × 3\n\n| semilla &lt;int&gt; | ganancia1 &lt;dbl&gt; | ganancia2 &lt;dbl&gt; |\n|---|---|---|\n| 947621 | 39960000 | 42330000 |\n| 343267 | 46150000 | 50970000 |\n| 631259 | 48650000 | 44790000 |\n| 289859 | 42340000 | 48090000 |\n| 797933 | 46490000 | 45540000 |\n| 770239 | 47880000 | 47030000 |\n| 993437 | 46860000 | 44280000 |\n| 110771 | 47420000 | 48510000 |\n| 174017 | 52290000 | 51660000 |\n| 330233 | 42010000 | 47140000 |\n| 199657 | 47900000 | 48750000 |\n| 276359 | 51150000 | 49040000 |\n| 252173 | 50140000 | 49810000 |\n| 197161 | 48420000 | 48220000 |\n| 644359 | 51760000 | 52720000 |\n| 308293 | 48660000 | 47420000 |\n| 701447 | 49660000 | 48540000 |\n| 386263 | 49500000 | 51430000 |\n| 616433 | 49330000 | 52290000 |\n| 975901 | 48450000 | 48120000 |\n| 717419 | 47900000 | 52480000 |\n| 401939 | 49810000 | 49100000 |\n| 295417 | 46760000 | 44870000 |\n| 844121 | 51040000 | 54260000 |\n| 223151 | 48420000 | 46750000 |\n| 391619 | 48950000 | 49480000 |\n| 749653 | 47350000 | 49650000 |\n| 730637 | 49390000 | 49260000 |\n| 678637 | 49100000 | 47380000 |\n| 576883 | 51450000 | 51950000 |\n| 794531 | 45710000 | 47040000 |\n| 615233 | 43100000 | 45870000 |\n| 697381 | 50520000 | 54260000 |\n| 504677 | 47670000 | 45510000 |\n| 573737 | 42360000 | 48300000 |\n| 663071 | 45240000 | 45740000 |\n| 261407 | 49920000 | 50470000 |\n| 271489 | 49180000 | 48670000 |\n| 966617 | 48570000 | 47220000 |\n| 817403 | 47790000 | 51100000 |\n| 175481 | 45970000 | 47730000 |\n| 447617 | 46790000 | 47470000 |\n| 202361 | 49920000 | 51560000 |\n| 575087 | 47390000 | 49600000 |\n| 398063 | 50160000 | 49900000 |\n| 353611 | 45970000 | 45710000 |\n| 206807 | 50660000 | 53900000 |\n| 206627 | 48460000 | 43450000 |\n| 290057 | 45180000 | 44650000 |\n| 169009 | 43390000 | 43620000 |\n\n",
            "text/latex": "A data.table: 50 × 3\n\\begin{tabular}{lll}\n semilla & ganancia1 & ganancia2\\\\\n <int> & <dbl> & <dbl>\\\\\n\\hline\n\t 947621 & 39960000 & 42330000\\\\\n\t 343267 & 46150000 & 50970000\\\\\n\t 631259 & 48650000 & 44790000\\\\\n\t 289859 & 42340000 & 48090000\\\\\n\t 797933 & 46490000 & 45540000\\\\\n\t 770239 & 47880000 & 47030000\\\\\n\t 993437 & 46860000 & 44280000\\\\\n\t 110771 & 47420000 & 48510000\\\\\n\t 174017 & 52290000 & 51660000\\\\\n\t 330233 & 42010000 & 47140000\\\\\n\t 199657 & 47900000 & 48750000\\\\\n\t 276359 & 51150000 & 49040000\\\\\n\t 252173 & 50140000 & 49810000\\\\\n\t 197161 & 48420000 & 48220000\\\\\n\t 644359 & 51760000 & 52720000\\\\\n\t 308293 & 48660000 & 47420000\\\\\n\t 701447 & 49660000 & 48540000\\\\\n\t 386263 & 49500000 & 51430000\\\\\n\t 616433 & 49330000 & 52290000\\\\\n\t 975901 & 48450000 & 48120000\\\\\n\t 717419 & 47900000 & 52480000\\\\\n\t 401939 & 49810000 & 49100000\\\\\n\t 295417 & 46760000 & 44870000\\\\\n\t 844121 & 51040000 & 54260000\\\\\n\t 223151 & 48420000 & 46750000\\\\\n\t 391619 & 48950000 & 49480000\\\\\n\t 749653 & 47350000 & 49650000\\\\\n\t 730637 & 49390000 & 49260000\\\\\n\t 678637 & 49100000 & 47380000\\\\\n\t 576883 & 51450000 & 51950000\\\\\n\t 794531 & 45710000 & 47040000\\\\\n\t 615233 & 43100000 & 45870000\\\\\n\t 697381 & 50520000 & 54260000\\\\\n\t 504677 & 47670000 & 45510000\\\\\n\t 573737 & 42360000 & 48300000\\\\\n\t 663071 & 45240000 & 45740000\\\\\n\t 261407 & 49920000 & 50470000\\\\\n\t 271489 & 49180000 & 48670000\\\\\n\t 966617 & 48570000 & 47220000\\\\\n\t 817403 & 47790000 & 51100000\\\\\n\t 175481 & 45970000 & 47730000\\\\\n\t 447617 & 46790000 & 47470000\\\\\n\t 202361 & 49920000 & 51560000\\\\\n\t 575087 & 47390000 & 49600000\\\\\n\t 398063 & 50160000 & 49900000\\\\\n\t 353611 & 45970000 & 45710000\\\\\n\t 206807 & 50660000 & 53900000\\\\\n\t 206627 & 48460000 & 43450000\\\\\n\t 290057 & 45180000 & 44650000\\\\\n\t 169009 & 43390000 & 43620000\\\\\n\\end{tabular}\n",
            "text/plain": [
              "   semilla ganancia1 ganancia2\n",
              "1  947621  39960000  42330000 \n",
              "2  343267  46150000  50970000 \n",
              "3  631259  48650000  44790000 \n",
              "4  289859  42340000  48090000 \n",
              "5  797933  46490000  45540000 \n",
              "6  770239  47880000  47030000 \n",
              "7  993437  46860000  44280000 \n",
              "8  110771  47420000  48510000 \n",
              "9  174017  52290000  51660000 \n",
              "10 330233  42010000  47140000 \n",
              "11 199657  47900000  48750000 \n",
              "12 276359  51150000  49040000 \n",
              "13 252173  50140000  49810000 \n",
              "14 197161  48420000  48220000 \n",
              "15 644359  51760000  52720000 \n",
              "16 308293  48660000  47420000 \n",
              "17 701447  49660000  48540000 \n",
              "18 386263  49500000  51430000 \n",
              "19 616433  49330000  52290000 \n",
              "20 975901  48450000  48120000 \n",
              "21 717419  47900000  52480000 \n",
              "22 401939  49810000  49100000 \n",
              "23 295417  46760000  44870000 \n",
              "24 844121  51040000  54260000 \n",
              "25 223151  48420000  46750000 \n",
              "26 391619  48950000  49480000 \n",
              "27 749653  47350000  49650000 \n",
              "28 730637  49390000  49260000 \n",
              "29 678637  49100000  47380000 \n",
              "30 576883  51450000  51950000 \n",
              "31 794531  45710000  47040000 \n",
              "32 615233  43100000  45870000 \n",
              "33 697381  50520000  54260000 \n",
              "34 504677  47670000  45510000 \n",
              "35 573737  42360000  48300000 \n",
              "36 663071  45240000  45740000 \n",
              "37 261407  49920000  50470000 \n",
              "38 271489  49180000  48670000 \n",
              "39 966617  48570000  47220000 \n",
              "40 817403  47790000  51100000 \n",
              "41 175481  45970000  47730000 \n",
              "42 447617  46790000  47470000 \n",
              "43 202361  49920000  51560000 \n",
              "44 575087  47390000  49600000 \n",
              "45 398063  50160000  49900000 \n",
              "46 353611  45970000  45710000 \n",
              "47 206807  50660000  53900000 \n",
              "48 206627  48460000  43450000 \n",
              "49 290057  45180000  44650000 \n",
              "50 169009  43390000  43620000 "
            ]
          },
          "metadata": {}
        }
      ]
    },
    {
      "cell_type": "code",
      "source": [
        "grafico <- ggplot( tb_salida, aes(x=ganancia1), fill=\"green\", color=\"green\") + geom_density(alpha=0.25)  +\n",
        "             geom_density(data=tb_salida, aes(x=ganancia2), fill=\"purple\", color=\"purple\",  alpha=0.10)\n",
        "\n",
        "print(grafico)"
      ],
      "metadata": {
        "id": "6vf28ujAdsE6",
        "colab": {
          "base_uri": "https://localhost:8080/",
          "height": 541
        },
        "outputId": "6caaef27-a811-4dff-d201-e8cd4563c9e6"
      },
      "execution_count": 44,
      "outputs": [
        {
          "output_type": "stream",
          "name": "stderr",
          "text": [
            "Warning message in fortify(data, ...):\n",
            "“\u001b[1m\u001b[22mArguments in `...` must be used.\n",
            "\u001b[31m✖\u001b[39m Problematic arguments:\n",
            "\u001b[36m•\u001b[39m fill = \"green\"\n",
            "\u001b[36m•\u001b[39m color = \"green\"\n",
            "\u001b[36mℹ\u001b[39m Did you misspell an argument name?”\n"
          ]
        },
        {
          "output_type": "display_data",
          "data": {
            "text/plain": [
              "plot without title"
            ],
            "image/png": "[encoded data removed]"
          },
          "metadata": {
            "image/png": {
              "width": 420,
              "height": 420
            }
          }
        }
      ]
    },
    {
      "cell_type": "code",
      "source": [
        "# imprimo en un .pdf  que va a la carpeta del experimento\n",
        "pdf(\"densidad_dos.pdf\")\n",
        "print(grafico)\n",
        "dev.off()"
      ],
      "metadata": {
        "id": "TA9lLa6-dsE6",
        "colab": {
          "base_uri": "https://localhost:8080/",
          "height": 34
        },
        "outputId": "39967aa2-1103-47e4-d8c8-e0d6fa82dfa1"
      },
      "execution_count": 45,
      "outputs": [
        {
          "output_type": "display_data",
          "data": {
            "text/html": [
              "<strong>agg_record_1446432170:</strong> 2"
            ],
            "text/markdown": "**agg_record_1446432170:** 2",
            "text/latex": "\\textbf{agg\\textbackslash{}\\_record\\textbackslash{}\\_1446432170:} 2",
            "text/plain": [
              "agg_record_1446432170 \n",
              "                    2 "
            ]
          },
          "metadata": {}
        }
      ]
    },
    {
      "cell_type": "code",
      "source": [
        "# medias de las ganancias\n",
        "print( tb_salida[ , list( \"arbol1\" = mean( ganancia1),  \"arbol2\" = mean(ganancia2) ) ] )\n"
      ],
      "metadata": {
        "id": "xAOpyZTqdsE7",
        "colab": {
          "base_uri": "https://localhost:8080/"
        },
        "outputId": "2fcadccf-f00d-4a8e-e01c-c1a5ede969cf"
      },
      "execution_count": 46,
      "outputs": [
        {
          "output_type": "stream",
          "name": "stdout",
          "text": [
            "     arbol1   arbol2\n",
            "      <num>    <num>\n",
            "1: 47782800 48472600\n"
          ]
        }
      ]
    },
    {
      "cell_type": "code",
      "source": [
        "# probabilidad que m1 sea mayor a m2\n",
        "print( tb_salida[ , list( \"prob( m1 > m2)\" = sum(ganancia1 > ganancia2 )/ .N ) ]  )"
      ],
      "metadata": {
        "id": "8rdPIcfzgob7",
        "colab": {
          "base_uri": "https://localhost:8080/"
        },
        "outputId": "169c8668-669a-4b6e-a144-2ba23c4305e9"
      },
      "execution_count": 47,
      "outputs": [
        {
          "output_type": "stream",
          "name": "stdout",
          "text": [
            "   prob( m1 > m2)\n",
            "            <num>\n",
            "1:           0.46\n"
          ]
        }
      ]
    },
    {
      "cell_type": "markdown",
      "source": [
        "### Acciones a realizar\n",
        "* Reportar la  los resultados en la planilla colaborativa hoja  **C2-dosBuenos**\n"
      ],
      "metadata": {
        "id": "nNNJWYRadsE7"
      }
    },
    {
      "cell_type": "markdown",
      "source": [
        "\n",
        "\n",
        "---\n",
        "\n"
      ],
      "metadata": {
        "id": "LTBEq6SEdsE8"
      }
    },
    {
      "cell_type": "markdown",
      "source": [],
      "metadata": {
        "id": "ebcTZX7Sg1Le"
      }
    },
    {
      "cell_type": "markdown",
      "source": [
        "# 8 Test de Wilcoxon\n",
        "## Clase 02  Experimento 8"
      ],
      "metadata": {
        "id": "RAtn4x6Bg1u1"
      }
    },
    {
      "cell_type": "markdown",
      "source": [],
      "metadata": {
        "id": "RWxjnSsVg_ol"
      }
    },
    {
      "cell_type": "markdown",
      "source": [
        "## 8.1  Objetivos\n",
        "\n",
        "¿Como calcular la cantidad mínima de semillas que hacen falta para tener cierta certeza que un modelo es superior a otro?"
      ],
      "metadata": {
        "id": "Gf0LF3ywhAEU"
      }
    },
    {
      "cell_type": "markdown",
      "source": [
        "## 8.2  Introduccion\n",
        "\n",
        "| Hiperparámetro | Arbol 1 | Arbol 2 |\n",
        "| --- | --: |  ---: |\n",
        "| cp | -1 | -1 |\n",
        "|minsplit | 170 | 250 |\n",
        "|minbucket | 70 | 125 |\n",
        "|maxdepth | 7 | 20 |\n",
        "\n",
        "<br>\n",
        "<br>\n",
        "\n",
        "\n",
        "| ordinal | semilla | ganancia1 | ganancia2 | p-value |\n",
        "| --- | --- |  --- |  --- |  --- |\n",
        "| 1 |378821 | 41,470,000 | 37,790,000 | 1.000 |\n",
        "| 2 | 964333  | 48,480,000  | 43,660,000 | 0.500 |\n",
        "| 3 | 187049 | 50,610,000 | 47,840,000 | 0.250 |\n",
        "| 4 | 205151 | 45,580,000 | 44,490,000 | 0.125 |\n",
        "| 5 | 813697 | 52,780,000 | 46,750,000 |  0.063 |\n",
        "| 6 | 344719 | 49,970,000 | 44,300,000 | 0.031 |\n",
        "|7 |127217  |52,810,000 | 42,840,000 |0.016 |\n",
        "| 8 | 464371 | 43,060,000 | 37,300,000 | 0.008 |\n",
        "| 9 | 645137 | 49,660,000 |43,730,000 | 0.004|\n",
        "\n",
        "\n"
      ],
      "metadata": {
        "id": "k4PJGTDViZne"
      }
    },
    {
      "cell_type": "markdown",
      "source": [
        "## 8.3 Codigo Test de Wilcoxon"
      ],
      "metadata": {
        "id": "gAeSRdWRhg61"
      }
    },
    {
      "cell_type": "code",
      "source": [
        "# 1 sola ganancia\n",
        "wilcox.test(\n",
        "  c(41470000),\n",
        "  c(37790000),\n",
        "  paired = TRUE\n",
        ")\n"
      ],
      "metadata": {
        "id": "6r5M0J0HdsE8"
      },
      "execution_count": null,
      "outputs": []
    },
    {
      "cell_type": "code",
      "source": [
        "# 2 ganancias\n",
        "wilcox.test(\n",
        "  c(41470000, 48480000),\n",
        "  c(37790000, 43660000),\n",
        "  paired = TRUE\n",
        ")\n"
      ],
      "metadata": {
        "id": "1pscqL9vLzYE"
      },
      "execution_count": null,
      "outputs": []
    },
    {
      "cell_type": "code",
      "source": [
        "# 3 ganancias\n",
        "wilcox.test(\n",
        "  c(41470000, 48480000, 50610000),\n",
        "  c(37790000, 43660000, 47840000),\n",
        "  paired = TRUE\n",
        ")"
      ],
      "metadata": {
        "id": "p3f_mtKwhSHA"
      },
      "execution_count": null,
      "outputs": []
    },
    {
      "cell_type": "code",
      "source": [
        "# 4 ganancias\n",
        "wilcox.test(\n",
        "  c(41470000, 48480000, 50610000, 45580000),\n",
        "  c(37790000, 43660000, 47840000, 44490000),\n",
        "  paired = TRUE\n",
        ")\n"
      ],
      "metadata": {
        "id": "-ijX69r9hT6Z"
      },
      "execution_count": null,
      "outputs": []
    },
    {
      "cell_type": "code",
      "source": [
        "# 5 ganancias\n",
        "wilcox.test(\n",
        "  c(41470000, 48480000, 50610000, 45580000, 52780000),\n",
        "  c(37790000, 43660000, 47840000, 44490000, 46750000),\n",
        "  paired = TRUE\n",
        ")"
      ],
      "metadata": {
        "id": "X9J_CHGehVfr"
      },
      "execution_count": null,
      "outputs": []
    },
    {
      "cell_type": "code",
      "source": [
        "# 6 ganancias\n",
        "wilcox.test(\n",
        "  c(41470000, 48480000, 50610000, 45580000, 52780000, 49970000),\n",
        "  c(37790000, 43660000, 47840000, 44490000, 46750000, 44300000),\n",
        "  paired = TRUE\n",
        ")"
      ],
      "metadata": {
        "id": "H3CNNonOhXp0"
      },
      "execution_count": null,
      "outputs": []
    },
    {
      "cell_type": "code",
      "source": [
        "# Finalmente el p-value es  0.03125  < 0.05\n",
        "# hicieron falta  SEIS semillas, seis ganancias, para\n",
        "#   afirmar que el modelo 1 es superior al modelo 2\n",
        "\n",
        "# 7 ganancias\n",
        "wilcox.test(\n",
        "  c(41470000, 48480000, 50610000, 45580000, 52780000, 49970000, 52810000),\n",
        "  c(37790000, 43660000, 47840000, 44490000, 46750000, 44300000, 42840000),\n",
        "  paired = TRUE\n",
        ")\n"
      ],
      "metadata": {
        "id": "NTW8kwY8hamz"
      },
      "execution_count": null,
      "outputs": []
    },
    {
      "cell_type": "code",
      "source": [
        "# 8 ganancias\n",
        "wilcox.test(\n",
        "  c(41470000, 48480000, 50610000, 45580000, 52780000, 49970000, 52810000, 43060000),\n",
        "  c(37790000, 43660000, 47840000, 44490000, 46750000, 44300000, 42840000, 37300000),\n",
        "  paired = TRUE\n",
        ")\n"
      ],
      "metadata": {
        "id": "Xks918w8hcgC"
      },
      "execution_count": null,
      "outputs": []
    },
    {
      "cell_type": "code",
      "source": [
        "# 9 ganancias\n",
        "wilcox.test(\n",
        "  c(41470000, 48480000, 50610000, 45580000, 52780000, 49970000, 52810000, 43060000, 49660000),\n",
        "  c(37790000, 43660000, 47840000, 44490000, 46750000, 44300000, 42840000, 37300000, 43730000),\n",
        "  paired = TRUE\n",
        ")"
      ],
      "metadata": {
        "id": "5x8L1PMGhdJR"
      },
      "execution_count": null,
      "outputs": []
    },
    {
      "cell_type": "markdown",
      "source": [
        "\n",
        "\n",
        "---\n",
        "\n"
      ],
      "metadata": {
        "id": "Qjay2WBIkhNm"
      }
    },
    {
      "cell_type": "markdown",
      "source": [
        "# 9 Comparando automaticamente modelos con test de Wilcoxon\n",
        "## Clase 02  Experimento 9"
      ],
      "metadata": {
        "id": "g2aqxlCIk3fk"
      }
    },
    {
      "cell_type": "markdown",
      "source": [],
      "metadata": {
        "id": "FhCY4sH8k3fw"
      }
    },
    {
      "cell_type": "markdown",
      "source": [
        "## 9.1  Objetivos\n",
        "\n",
        "Proveer un script que permita comparar dos arboles de decisión con la librería rpart utilizando la menor cantidad de cómputo que permita el Test de Wilxcoxon"
      ],
      "metadata": {
        "id": "a_ZVBKBHk3fx"
      }
    },
    {
      "cell_type": "markdown",
      "source": [
        "## 9.2  Introduccion\n",
        "\n",
        "| Hiperparámetro | Arbol 1 | Arbol 2 |\n",
        "| --- | --- |  --- |\n",
        "| cp | -1 | -1 |\n",
        "|minsplit | 1050 | 650 |\n",
        "|minbucket | 550 | 300 |\n",
        "|maxdepth |67 | 6 |\n",
        "\n",
        "\n"
      ],
      "metadata": {
        "id": "qCd56L0Ik3fx"
      }
    },
    {
      "cell_type": "markdown",
      "source": [
        "## 9.3 Codigo comparacion automatica Wilcoxon"
      ],
      "metadata": {
        "id": "NBtQsG3vk3fx"
      }
    },
    {
      "cell_type": "markdown",
      "source": [
        "Esta parte se debe correr con el runtime en lenguaje **R** Ir al menu, Runtime -> Change Runtime Tipe -> Runtime type -> R"
      ],
      "metadata": {
        "id": "-ARzDPORlpG6"
      }
    },
    {
      "cell_type": "markdown",
      "source": [
        "limpio el ambiente de R"
      ],
      "metadata": {
        "id": "-Sy-sLMXlpHI"
      }
    },
    {
      "cell_type": "code",
      "source": [
        "# limpio la memoria\n",
        "rm(list=ls(all.names=TRUE)) # remove all objects\n",
        "gc(full=TRUE, verbose=FALSE) # garbage collection"
      ],
      "metadata": {
        "id": "ZpST7lcHlpHI"
      },
      "execution_count": null,
      "outputs": []
    },
    {
      "cell_type": "markdown",
      "source": [
        "* Instalacion de la libreria  rpart.plot  para dibujar el arbol\n",
        "* invocacion de las librerias  **data.table** y  **rpart**"
      ],
      "metadata": {
        "id": "jHhAx3cvlpHJ"
      }
    },
    {
      "cell_type": "code",
      "source": [
        "# cargo las librerias que necesito\n",
        "require(\"data.table\")\n",
        "require(\"rpart\")\n",
        "require(\"parallel\")\n",
        "\n",
        "if (!require(\"primes\")) install.packages(\"primes\")\n",
        "require(\"primes\")\n",
        "\n",
        "require(\"ggplot2\")"
      ],
      "metadata": {
        "id": "cbPnXeeqlpHJ"
      },
      "execution_count": null,
      "outputs": []
    },
    {
      "cell_type": "markdown",
      "source": [
        "###  Accion a Realizar\n",
        "PARAM$semilla_primigenia  debe reemplazarse por SU primer semilla"
      ],
      "metadata": {
        "id": "_GQk_NEUlpHK"
      }
    },
    {
      "cell_type": "code",
      "source": [
        "PARAM <- list()\n",
        "PARAM$semilla_primigenia <- 102191\n",
        "PARAM$qsemillas_tope <- 50\n",
        "PARAM$training_pct <- 70L     # entre 1 y 100\n"
      ],
      "metadata": {
        "id": "Do801PIHlpHK"
      },
      "execution_count": null,
      "outputs": []
    },
    {
      "cell_type": "code",
      "source": [
        "# los dos arboles\n",
        "PARAM$rpart1 <- list (\n",
        "  \"cp\" = -1,\n",
        "  \"minsplit\" = 800,\n",
        "  \"minbucket\" = 400,\n",
        "  \"maxdepth\" = 7\n",
        ")\n",
        "\n",
        "\n",
        "PARAM$rpart2 <- list (\n",
        "  \"cp\" = -1,\n",
        "  \"minsplit\" = 650,\n",
        "  \"minbucket\" = 300,\n",
        "  \"maxdepth\" = 6\n",
        ")\n"
      ],
      "metadata": {
        "id": "KlC7gTc7lpHK"
      },
      "execution_count": null,
      "outputs": []
    },
    {
      "cell_type": "code",
      "source": [
        "# particionar agrega una columna llamada fold a un dataset\n",
        "#  que consiste en una particion estratificada segun agrupa\n",
        "\n",
        "# particionar( data=dataset, division=c(70,30),\n",
        "#  agrupa=clase_ternaria, seed=semilla)   crea una particion 70, 30\n",
        "\n",
        "particionar <- function(\n",
        "    data, division, agrupa = \"\",\n",
        "    campo = \"fold\", start = 1, seed = NA) {\n",
        "  if (!is.na(seed)) set.seed(seed)\n",
        "\n",
        "  bloque <- unlist(mapply(function(x, y) {\n",
        "    rep(y, x)\n",
        "  }, division, seq(from = start, length.out = length(division))))\n",
        "\n",
        "  data[, (campo) := sample(rep(bloque, ceiling(.N / length(bloque))))[1:.N],\n",
        "    by = agrupa\n",
        "  ]\n",
        "}\n"
      ],
      "metadata": {
        "id": "I7hOkZrxlpHL"
      },
      "execution_count": null,
      "outputs": []
    },
    {
      "cell_type": "code",
      "source": [
        "DosArbolesEstimarGanancia <- function(semilla, training_pct, param_rpart1, param_rpart2) {\n",
        "  # particiono estratificadamente el dataset\n",
        "  particionar(dataset,\n",
        "    division = c(training_pct, 100L -training_pct),\n",
        "    agrupa = \"clase_ternaria\",\n",
        "    seed = semilla # aqui se usa SU semilla\n",
        "  )\n",
        "\n",
        "  # genero el modelo\n",
        "  # predecir clase_ternaria a partir del resto\n",
        "  modelo1 <- rpart(\"clase_ternaria ~ .\",\n",
        "    data = dataset[fold == 1], # fold==1  es training,  el 70% de los datos\n",
        "    xval = 0,\n",
        "    control = param_rpart1\n",
        "  ) # aqui van los parametros del arbol\n",
        "\n",
        "  # aplico el modelo a los datos de testing\n",
        "  prediccion1 <- predict(modelo1, # el modelo que genere recien\n",
        "    dataset[fold == 2], # fold==2  es testing, el 30% de los datos\n",
        "    type = \"prob\"\n",
        "  ) # type= \"prob\"  es que devuelva la probabilidad\n",
        "\n",
        "\n",
        "  # calculo la ganancia en testing  qu es fold==2\n",
        "  ganancia_test1 <- dataset[\n",
        "    fold == 2,\n",
        "    sum(ifelse(prediccion1[, \"BAJA+2\"] > 0.025,\n",
        "      ifelse(clase_ternaria == \"BAJA+2\", 117000, -3000),\n",
        "      0\n",
        "    ))\n",
        "  ]\n",
        "\n",
        "  # escalo la ganancia como si fuera todo el dataset\n",
        "  ganancia_test_normalizada1 <- ganancia_test1 / (( 100 - training_pct ) / 100 )\n",
        "\n",
        "  modelo2 <- rpart(\"clase_ternaria ~ .\",\n",
        "    data = dataset[fold == 1], # fold==1  es training,  el 70% de los datos\n",
        "    xval = 0,\n",
        "    control = param_rpart2\n",
        "  ) # aqui van los parametros del arbol\n",
        "\n",
        "  # aplico el modelo a los datos de testing\n",
        "  prediccion2 <- predict(modelo2, # el modelo que genere recien\n",
        "    dataset[fold == 2], # fold==2  es testing, el 30% de los datos\n",
        "    type = \"prob\"\n",
        "  ) # type= \"prob\"  es que devuelva la probabilidad\n",
        "\n",
        "\n",
        "  # calculo la ganancia en testing  qu es fold==2\n",
        "  ganancia_test2 <- dataset[\n",
        "    fold == 2,\n",
        "    sum(ifelse(prediccion2[, \"BAJA+2\"] > 0.025,\n",
        "      ifelse(clase_ternaria == \"BAJA+2\", 117000, -3000),\n",
        "      0\n",
        "    ))\n",
        "  ]\n",
        "\n",
        "  # escalo la ganancia como si fuera todo el dataset\n",
        "  ganancia_test_normalizada2 <- ganancia_test2 / (( 100 - training_pct ) / 100 )\n",
        "\n",
        "  return(list(\n",
        "    \"semilla\" = semilla,\n",
        "    \"ganancia1\" = ganancia_test_normalizada1,\n",
        "    \"ganancia2\" = ganancia_test_normalizada2\n",
        "  ))\n",
        "}"
      ],
      "metadata": {
        "id": "vFpBSFBYlpHL"
      },
      "execution_count": null,
      "outputs": []
    },
    {
      "cell_type": "code",
      "source": [
        "# 1  ->  el modelo 1 es mejor\n",
        "# 2  ->  el modelo 2 es mejor\n",
        "# 0  ->  No se pudo determinar con el tope de qsemillas_tope\n",
        "\n",
        "\n",
        "MejorArbol <- function( qsemillas_tope, training_pct, param_rpart1, param_rpart2) {\n",
        "\n",
        "  # genero numeros primos\n",
        "  primos <- generate_primes(min = 100000, max = 1000000)\n",
        "  set.seed(PARAM$semilla_primigenia) # inicializo\n",
        "  # me quedo con PARAM$qsemillas   semillas\n",
        "  semillas <- sample(primos, qsemillas_tope )\n",
        "\n",
        "  pvalue <- 1.0\n",
        "  isem <- 1\n",
        "  vgan1 <- c() # almaceno ganancias del modelo1\n",
        "  vgan2 <- c() # almaceno ganancias del modelo2\n",
        "\n",
        "  while( (isem <= qsemillas_tope)  & (pvalue > 0.05) ) {\n",
        "\n",
        "    res <- DosArbolesEstimarGanancia(\n",
        "       semillas[ isem ],\n",
        "       training_pct,\n",
        "       param_rpart1,\n",
        "       param_rpart2\n",
        "    )\n",
        "\n",
        "    vgan1 <- c( vgan1, res$ganancia1 )\n",
        "    vgan2 <- c( vgan2, res$ganancia2 )\n",
        "\n",
        "    wt <- wilcox.test( vgan1, vgan2, paired=TRUE )\n",
        "    pvalue <- wt$p.value\n",
        "\n",
        "    cat( isem, res$ganancia1, res$ganancia2, pvalue, \"\\n\" )\n",
        "    flush.console()\n",
        "    isem <- isem + 1\n",
        "  }\n",
        "\n",
        "  out <- 0\n",
        "\n",
        "  if( pvalue < 0.05 & mean(vgan1) > mean(vgan2)  )  out <- 1\n",
        "  if( pvalue < 0.05 & mean(vgan1) < mean(vgan2)  )  out <- 2\n",
        "\n",
        "\n",
        "  return( list( \"out\" = out,\n",
        "    \"qsemillas\" = length(vgan1),\n",
        "    \"m1\" = mean( vgan1 ),\n",
        "    \"m2\" = mean( vgan2 )\n",
        "   ) )\n",
        "}\n"
      ],
      "metadata": {
        "id": "Cp8RnA_NmE8g"
      },
      "execution_count": null,
      "outputs": []
    },
    {
      "cell_type": "code",
      "source": [
        "# carpeta de trabajo\n",
        "setwd(\"/content/buckets/b1/exp\")\n",
        "experimento <- \"exp209\"\n",
        "dir.create(experimento, showWarnings=FALSE)\n",
        "setwd( paste0(\"/content/buckets/b1/exp/\", experimento ))"
      ],
      "metadata": {
        "id": "r1motpfOlpHM"
      },
      "execution_count": null,
      "outputs": []
    },
    {
      "cell_type": "code",
      "source": [
        "# lectura del dataset\n",
        "dataset <- fread(\"/content/datasets/dataset_pequeno.csv\")\n",
        "\n",
        "# trabajo solo con los datos con clase, es decir 202107\n",
        "dataset <- dataset[clase_ternaria != \"\"]"
      ],
      "metadata": {
        "id": "hT0LaKWumTSu"
      },
      "execution_count": null,
      "outputs": []
    },
    {
      "cell_type": "code",
      "source": [
        "Sys.time()\n",
        "\n",
        "comparacion <- MejorArbol(\n",
        "   PARAM$qsemillas_tope,\n",
        "   PARAM$training_pct,\n",
        "   PARAM$rpart1,\n",
        "   PARAM$rpart2\n",
        " )\n",
        "\n",
        "\n",
        "print( comparacion )\n",
        "\n",
        "Sys.time()"
      ],
      "metadata": {
        "id": "wsk0F77ambVW"
      },
      "execution_count": null,
      "outputs": []
    },
    {
      "cell_type": "markdown",
      "source": [
        "### Acciones a realizar\n",
        "* Reportar la  los resultados en la planilla colaborativa hoja  **C2-Wilcox**\n"
      ],
      "metadata": {
        "id": "d2br1bgJlpHQ"
      }
    },
    {
      "cell_type": "markdown",
      "source": [
        "\n",
        "\n",
        "---\n",
        "\n"
      ],
      "metadata": {
        "id": "x7SebtV2lpHQ"
      }
    }
  ]
}